{
  "nbformat": 4,
  "nbformat_minor": 0,
  "metadata": {
    "colab": {
      "name": "Elvis IP",
      "provenance": [],
      "collapsed_sections": [],
      "authorship_tag": "ABX9TyPpusZVc33+v201kE4haOjl",
      "include_colab_link": true
    },
    "kernelspec": {
      "name": "python3",
      "display_name": "Python 3"
    },
    "language_info": {
      "name": "python"
    }
  },
  "cells": [
    {
      "cell_type": "markdown",
      "metadata": {
        "id": "view-in-github",
        "colab_type": "text"
      },
      "source": [
        "<a href=\"https://colab.research.google.com/github/4elvis/Descriptive-Statistics-Project/blob/main/Elvis_IP.ipynb\" target=\"_parent\"><img src=\"https://colab.research.google.com/assets/colab-badge.svg\" alt=\"Open In Colab\"/></a>"
      ]
    },
    {
      "cell_type": "markdown",
      "source": [
        "**SUPERVISED LEARNING**"
      ],
      "metadata": {
        "id": "52gDI0YV8PVa"
      }
    },
    {
      "cell_type": "markdown",
      "source": [
        "1.1 *Defining the Question*\n",
        "\n",
        "Football is the most popular sport in the world having over 1.5 billion viewers worldwide. The most popular tournament is the FIFA World Cup which takes place after four years on a rotational basis across all continents. The international teams are ranked using the results of FIFA recognized international matches. Brazil is currently the longest holder of the first position. The rankings also help betting firms and football analyst firms such as Mchezopesa Ltd. However, it can be a nightmare for the firms to solely rely on the FIFA rankings forcing them to adapt statistical approaches to try and predict a football’s match outcome based on a team’s recent results. "
      ],
      "metadata": {
        "id": "h-bW6AOA9BPM"
      }
    },
    {
      "cell_type": "markdown",
      "source": [
        "1.2 # Defining the Metrics of Success\n",
        "\n",
        "Successfully performing Exploratory Data Analysis, Univariate, Bivariate Analysis,Create Visualizations, employing two approaches: Polynomial and Logistical approaches and Challenging the solution."
      ],
      "metadata": {
        "id": "2JPtUg_g9lsA"
      }
    },
    {
      "cell_type": "markdown",
      "source": [
        "1.3 Understanding the context\n",
        "\n",
        "It is estimated that in the 2019/2020 season, the football industry generated over 25.2 $billion. Betting firms are estimated to have interacted with over 1 billion euros in the United Kingdom. This draws attention to the use of statistical data to predict the outcome of the matches with the main objective of avoiding losses. "
      ],
      "metadata": {
        "id": "QaK4xlKD9vVS"
      }
    },
    {
      "cell_type": "markdown",
      "source": [
        "1.4 Recording the Experimental Design\n",
        "The data will be ran through an EDA analysis after having been subjected to cleaning, Polynomial analyis an Logistical analyis "
      ],
      "metadata": {
        "id": "iapfYYQa918d"
      }
    },
    {
      "cell_type": "markdown",
      "source": [
        "Data Relevance \n",
        "The data was collected from trusted Fifa sources and validated by https://drive.google.com/open?id=1BYUqaEEnFtAe5lvzJh9lpVpR2MAvERUc above link."
      ],
      "metadata": {
        "id": "iq2xRzctB0JX"
      }
    },
    {
      "cell_type": "markdown",
      "source": [
        "# Importing the libraries needed"
      ],
      "metadata": {
        "id": "md7GKJiWDgoe"
      }
    },
    {
      "cell_type": "code",
      "source": [
        "# Import relevant libraries\n",
        "import pandas as pd\n",
        "import numpy as np\n",
        "import seaborn as sns\n",
        "import matplotlib.pyplot as plt\n",
        "import warnings\n",
        "warnings.filterwarnings(\"ignore\")\n",
        "import math"
      ],
      "metadata": {
        "id": "FoJQB_8VDlbE"
      },
      "execution_count": 1,
      "outputs": []
    },
    {
      "cell_type": "markdown",
      "source": [
        "Loading the Datasets"
      ],
      "metadata": {
        "id": "YfAgwqTNDZEs"
      }
    },
    {
      "cell_type": "code",
      "execution_count": 2,
      "metadata": {
        "colab": {
          "base_uri": "https://localhost:8080/",
          "height": 661
        },
        "id": "FiH5sPPE7zTN",
        "outputId": "c92c05e7-70fb-4b1c-8fcc-87a83253b824"
      },
      "outputs": [
        {
          "output_type": "execute_result",
          "data": {
            "text/html": [
              "\n",
              "  <div id=\"df-042fe832-b399-4648-bcdb-c65585d1ffe8\">\n",
              "    <div class=\"colab-df-container\">\n",
              "      <div>\n",
              "<style scoped>\n",
              "    .dataframe tbody tr th:only-of-type {\n",
              "        vertical-align: middle;\n",
              "    }\n",
              "\n",
              "    .dataframe tbody tr th {\n",
              "        vertical-align: top;\n",
              "    }\n",
              "\n",
              "    .dataframe thead th {\n",
              "        text-align: right;\n",
              "    }\n",
              "</style>\n",
              "<table border=\"1\" class=\"dataframe\">\n",
              "  <thead>\n",
              "    <tr style=\"text-align: right;\">\n",
              "      <th></th>\n",
              "      <th>rank</th>\n",
              "      <th>country_full</th>\n",
              "      <th>country_abrv</th>\n",
              "      <th>total_points</th>\n",
              "      <th>previous_points</th>\n",
              "      <th>rank_change</th>\n",
              "      <th>cur_year_avg</th>\n",
              "      <th>cur_year_avg_weighted</th>\n",
              "      <th>last_year_avg</th>\n",
              "      <th>last_year_avg_weighted</th>\n",
              "      <th>two_year_ago_avg</th>\n",
              "      <th>two_year_ago_weighted</th>\n",
              "      <th>three_year_ago_avg</th>\n",
              "      <th>three_year_ago_weighted</th>\n",
              "      <th>confederation</th>\n",
              "      <th>rank_date</th>\n",
              "    </tr>\n",
              "  </thead>\n",
              "  <tbody>\n",
              "    <tr>\n",
              "      <th>0</th>\n",
              "      <td>1</td>\n",
              "      <td>Germany</td>\n",
              "      <td>GER</td>\n",
              "      <td>0.0</td>\n",
              "      <td>57</td>\n",
              "      <td>0</td>\n",
              "      <td>0.0</td>\n",
              "      <td>0.0</td>\n",
              "      <td>0.0</td>\n",
              "      <td>0.0</td>\n",
              "      <td>0.0</td>\n",
              "      <td>0.0</td>\n",
              "      <td>0.0</td>\n",
              "      <td>0.0</td>\n",
              "      <td>UEFA</td>\n",
              "      <td>1993-08-08</td>\n",
              "    </tr>\n",
              "    <tr>\n",
              "      <th>1</th>\n",
              "      <td>2</td>\n",
              "      <td>Italy</td>\n",
              "      <td>ITA</td>\n",
              "      <td>0.0</td>\n",
              "      <td>57</td>\n",
              "      <td>0</td>\n",
              "      <td>0.0</td>\n",
              "      <td>0.0</td>\n",
              "      <td>0.0</td>\n",
              "      <td>0.0</td>\n",
              "      <td>0.0</td>\n",
              "      <td>0.0</td>\n",
              "      <td>0.0</td>\n",
              "      <td>0.0</td>\n",
              "      <td>UEFA</td>\n",
              "      <td>1993-08-08</td>\n",
              "    </tr>\n",
              "    <tr>\n",
              "      <th>2</th>\n",
              "      <td>3</td>\n",
              "      <td>Switzerland</td>\n",
              "      <td>SUI</td>\n",
              "      <td>0.0</td>\n",
              "      <td>50</td>\n",
              "      <td>9</td>\n",
              "      <td>0.0</td>\n",
              "      <td>0.0</td>\n",
              "      <td>0.0</td>\n",
              "      <td>0.0</td>\n",
              "      <td>0.0</td>\n",
              "      <td>0.0</td>\n",
              "      <td>0.0</td>\n",
              "      <td>0.0</td>\n",
              "      <td>UEFA</td>\n",
              "      <td>1993-08-08</td>\n",
              "    </tr>\n",
              "    <tr>\n",
              "      <th>3</th>\n",
              "      <td>4</td>\n",
              "      <td>Sweden</td>\n",
              "      <td>SWE</td>\n",
              "      <td>0.0</td>\n",
              "      <td>55</td>\n",
              "      <td>0</td>\n",
              "      <td>0.0</td>\n",
              "      <td>0.0</td>\n",
              "      <td>0.0</td>\n",
              "      <td>0.0</td>\n",
              "      <td>0.0</td>\n",
              "      <td>0.0</td>\n",
              "      <td>0.0</td>\n",
              "      <td>0.0</td>\n",
              "      <td>UEFA</td>\n",
              "      <td>1993-08-08</td>\n",
              "    </tr>\n",
              "    <tr>\n",
              "      <th>4</th>\n",
              "      <td>5</td>\n",
              "      <td>Argentina</td>\n",
              "      <td>ARG</td>\n",
              "      <td>0.0</td>\n",
              "      <td>51</td>\n",
              "      <td>5</td>\n",
              "      <td>0.0</td>\n",
              "      <td>0.0</td>\n",
              "      <td>0.0</td>\n",
              "      <td>0.0</td>\n",
              "      <td>0.0</td>\n",
              "      <td>0.0</td>\n",
              "      <td>0.0</td>\n",
              "      <td>0.0</td>\n",
              "      <td>CONMEBOL</td>\n",
              "      <td>1993-08-08</td>\n",
              "    </tr>\n",
              "    <tr>\n",
              "      <th>...</th>\n",
              "      <td>...</td>\n",
              "      <td>...</td>\n",
              "      <td>...</td>\n",
              "      <td>...</td>\n",
              "      <td>...</td>\n",
              "      <td>...</td>\n",
              "      <td>...</td>\n",
              "      <td>...</td>\n",
              "      <td>...</td>\n",
              "      <td>...</td>\n",
              "      <td>...</td>\n",
              "      <td>...</td>\n",
              "      <td>...</td>\n",
              "      <td>...</td>\n",
              "      <td>...</td>\n",
              "      <td>...</td>\n",
              "    </tr>\n",
              "    <tr>\n",
              "      <th>57788</th>\n",
              "      <td>206</td>\n",
              "      <td>Anguilla</td>\n",
              "      <td>AIA</td>\n",
              "      <td>0.0</td>\n",
              "      <td>0</td>\n",
              "      <td>1</td>\n",
              "      <td>0.0</td>\n",
              "      <td>0.0</td>\n",
              "      <td>0.0</td>\n",
              "      <td>0.0</td>\n",
              "      <td>0.0</td>\n",
              "      <td>0.0</td>\n",
              "      <td>0.0</td>\n",
              "      <td>0.0</td>\n",
              "      <td>CONCACAF</td>\n",
              "      <td>2018-06-07</td>\n",
              "    </tr>\n",
              "    <tr>\n",
              "      <th>57789</th>\n",
              "      <td>206</td>\n",
              "      <td>Bahamas</td>\n",
              "      <td>BAH</td>\n",
              "      <td>0.0</td>\n",
              "      <td>0</td>\n",
              "      <td>1</td>\n",
              "      <td>0.0</td>\n",
              "      <td>0.0</td>\n",
              "      <td>0.0</td>\n",
              "      <td>0.0</td>\n",
              "      <td>0.0</td>\n",
              "      <td>0.0</td>\n",
              "      <td>0.0</td>\n",
              "      <td>0.0</td>\n",
              "      <td>CONCACAF</td>\n",
              "      <td>2018-06-07</td>\n",
              "    </tr>\n",
              "    <tr>\n",
              "      <th>57790</th>\n",
              "      <td>206</td>\n",
              "      <td>Eritrea</td>\n",
              "      <td>ERI</td>\n",
              "      <td>0.0</td>\n",
              "      <td>0</td>\n",
              "      <td>1</td>\n",
              "      <td>0.0</td>\n",
              "      <td>0.0</td>\n",
              "      <td>0.0</td>\n",
              "      <td>0.0</td>\n",
              "      <td>0.0</td>\n",
              "      <td>0.0</td>\n",
              "      <td>0.0</td>\n",
              "      <td>0.0</td>\n",
              "      <td>CAF</td>\n",
              "      <td>2018-06-07</td>\n",
              "    </tr>\n",
              "    <tr>\n",
              "      <th>57791</th>\n",
              "      <td>206</td>\n",
              "      <td>Somalia</td>\n",
              "      <td>SOM</td>\n",
              "      <td>0.0</td>\n",
              "      <td>0</td>\n",
              "      <td>1</td>\n",
              "      <td>0.0</td>\n",
              "      <td>0.0</td>\n",
              "      <td>0.0</td>\n",
              "      <td>0.0</td>\n",
              "      <td>0.0</td>\n",
              "      <td>0.0</td>\n",
              "      <td>0.0</td>\n",
              "      <td>0.0</td>\n",
              "      <td>CAF</td>\n",
              "      <td>2018-06-07</td>\n",
              "    </tr>\n",
              "    <tr>\n",
              "      <th>57792</th>\n",
              "      <td>206</td>\n",
              "      <td>Tonga</td>\n",
              "      <td>TGA</td>\n",
              "      <td>0.0</td>\n",
              "      <td>0</td>\n",
              "      <td>1</td>\n",
              "      <td>0.0</td>\n",
              "      <td>0.0</td>\n",
              "      <td>0.0</td>\n",
              "      <td>0.0</td>\n",
              "      <td>0.0</td>\n",
              "      <td>0.0</td>\n",
              "      <td>0.0</td>\n",
              "      <td>0.0</td>\n",
              "      <td>OFC</td>\n",
              "      <td>2018-06-07</td>\n",
              "    </tr>\n",
              "  </tbody>\n",
              "</table>\n",
              "<p>57793 rows × 16 columns</p>\n",
              "</div>\n",
              "      <button class=\"colab-df-convert\" onclick=\"convertToInteractive('df-042fe832-b399-4648-bcdb-c65585d1ffe8')\"\n",
              "              title=\"Convert this dataframe to an interactive table.\"\n",
              "              style=\"display:none;\">\n",
              "        \n",
              "  <svg xmlns=\"http://www.w3.org/2000/svg\" height=\"24px\"viewBox=\"0 0 24 24\"\n",
              "       width=\"24px\">\n",
              "    <path d=\"M0 0h24v24H0V0z\" fill=\"none\"/>\n",
              "    <path d=\"M18.56 5.44l.94 2.06.94-2.06 2.06-.94-2.06-.94-.94-2.06-.94 2.06-2.06.94zm-11 1L8.5 8.5l.94-2.06 2.06-.94-2.06-.94L8.5 2.5l-.94 2.06-2.06.94zm10 10l.94 2.06.94-2.06 2.06-.94-2.06-.94-.94-2.06-.94 2.06-2.06.94z\"/><path d=\"M17.41 7.96l-1.37-1.37c-.4-.4-.92-.59-1.43-.59-.52 0-1.04.2-1.43.59L10.3 9.45l-7.72 7.72c-.78.78-.78 2.05 0 2.83L4 21.41c.39.39.9.59 1.41.59.51 0 1.02-.2 1.41-.59l7.78-7.78 2.81-2.81c.8-.78.8-2.07 0-2.86zM5.41 20L4 18.59l7.72-7.72 1.47 1.35L5.41 20z\"/>\n",
              "  </svg>\n",
              "      </button>\n",
              "      \n",
              "  <style>\n",
              "    .colab-df-container {\n",
              "      display:flex;\n",
              "      flex-wrap:wrap;\n",
              "      gap: 12px;\n",
              "    }\n",
              "\n",
              "    .colab-df-convert {\n",
              "      background-color: #E8F0FE;\n",
              "      border: none;\n",
              "      border-radius: 50%;\n",
              "      cursor: pointer;\n",
              "      display: none;\n",
              "      fill: #1967D2;\n",
              "      height: 32px;\n",
              "      padding: 0 0 0 0;\n",
              "      width: 32px;\n",
              "    }\n",
              "\n",
              "    .colab-df-convert:hover {\n",
              "      background-color: #E2EBFA;\n",
              "      box-shadow: 0px 1px 2px rgba(60, 64, 67, 0.3), 0px 1px 3px 1px rgba(60, 64, 67, 0.15);\n",
              "      fill: #174EA6;\n",
              "    }\n",
              "\n",
              "    [theme=dark] .colab-df-convert {\n",
              "      background-color: #3B4455;\n",
              "      fill: #D2E3FC;\n",
              "    }\n",
              "\n",
              "    [theme=dark] .colab-df-convert:hover {\n",
              "      background-color: #434B5C;\n",
              "      box-shadow: 0px 1px 3px 1px rgba(0, 0, 0, 0.15);\n",
              "      filter: drop-shadow(0px 1px 2px rgba(0, 0, 0, 0.3));\n",
              "      fill: #FFFFFF;\n",
              "    }\n",
              "  </style>\n",
              "\n",
              "      <script>\n",
              "        const buttonEl =\n",
              "          document.querySelector('#df-042fe832-b399-4648-bcdb-c65585d1ffe8 button.colab-df-convert');\n",
              "        buttonEl.style.display =\n",
              "          google.colab.kernel.accessAllowed ? 'block' : 'none';\n",
              "\n",
              "        async function convertToInteractive(key) {\n",
              "          const element = document.querySelector('#df-042fe832-b399-4648-bcdb-c65585d1ffe8');\n",
              "          const dataTable =\n",
              "            await google.colab.kernel.invokeFunction('convertToInteractive',\n",
              "                                                     [key], {});\n",
              "          if (!dataTable) return;\n",
              "\n",
              "          const docLinkHtml = 'Like what you see? Visit the ' +\n",
              "            '<a target=\"_blank\" href=https://colab.research.google.com/notebooks/data_table.ipynb>data table notebook</a>'\n",
              "            + ' to learn more about interactive tables.';\n",
              "          element.innerHTML = '';\n",
              "          dataTable['output_type'] = 'display_data';\n",
              "          await google.colab.output.renderOutput(dataTable, element);\n",
              "          const docLink = document.createElement('div');\n",
              "          docLink.innerHTML = docLinkHtml;\n",
              "          element.appendChild(docLink);\n",
              "        }\n",
              "      </script>\n",
              "    </div>\n",
              "  </div>\n",
              "  "
            ],
            "text/plain": [
              "       rank country_full  ... confederation   rank_date\n",
              "0         1      Germany  ...          UEFA  1993-08-08\n",
              "1         2        Italy  ...          UEFA  1993-08-08\n",
              "2         3  Switzerland  ...          UEFA  1993-08-08\n",
              "3         4       Sweden  ...          UEFA  1993-08-08\n",
              "4         5    Argentina  ...      CONMEBOL  1993-08-08\n",
              "...     ...          ...  ...           ...         ...\n",
              "57788   206     Anguilla  ...      CONCACAF  2018-06-07\n",
              "57789   206      Bahamas  ...      CONCACAF  2018-06-07\n",
              "57790   206      Eritrea  ...           CAF  2018-06-07\n",
              "57791   206      Somalia  ...           CAF  2018-06-07\n",
              "57792   206        Tonga  ...           OFC  2018-06-07\n",
              "\n",
              "[57793 rows x 16 columns]"
            ]
          },
          "metadata": {},
          "execution_count": 2
        }
      ],
      "source": [
        "#Loading the fifa_ranking datasets\n",
        "fifa_ranking = pd.read_csv('fifa_ranking.csv')\n",
        "fifa_ranking"
      ]
    },
    {
      "cell_type": "code",
      "source": [
        "fifa_ranking.shape"
      ],
      "metadata": {
        "colab": {
          "base_uri": "https://localhost:8080/"
        },
        "id": "QeQy6nc6HeoT",
        "outputId": "65c4e15b-1539-498b-c6e6-81b1da56f9be"
      },
      "execution_count": 24,
      "outputs": [
        {
          "output_type": "execute_result",
          "data": {
            "text/plain": [
              "(57793, 16)"
            ]
          },
          "metadata": {},
          "execution_count": 24
        }
      ]
    },
    {
      "cell_type": "markdown",
      "source": [
        "The fifa ranking dataset has 57793 rows and 16 columns"
      ],
      "metadata": {
        "id": "_xyTB5OeHjBl"
      }
    },
    {
      "cell_type": "code",
      "source": [
        "#importing the results dataset\n",
        "results = pd.read_csv('results.csv')\n",
        "results"
      ],
      "metadata": {
        "colab": {
          "base_uri": "https://localhost:8080/",
          "height": 423
        },
        "id": "2owPj7KMGyT3",
        "outputId": "3f155244-7bf4-4413-a3a6-e0116eba3281"
      },
      "execution_count": 5,
      "outputs": [
        {
          "output_type": "execute_result",
          "data": {
            "text/html": [
              "\n",
              "  <div id=\"df-54c802a6-f3f6-4a24-abeb-eb98c2c0083c\">\n",
              "    <div class=\"colab-df-container\">\n",
              "      <div>\n",
              "<style scoped>\n",
              "    .dataframe tbody tr th:only-of-type {\n",
              "        vertical-align: middle;\n",
              "    }\n",
              "\n",
              "    .dataframe tbody tr th {\n",
              "        vertical-align: top;\n",
              "    }\n",
              "\n",
              "    .dataframe thead th {\n",
              "        text-align: right;\n",
              "    }\n",
              "</style>\n",
              "<table border=\"1\" class=\"dataframe\">\n",
              "  <thead>\n",
              "    <tr style=\"text-align: right;\">\n",
              "      <th></th>\n",
              "      <th>date</th>\n",
              "      <th>home_team</th>\n",
              "      <th>away_team</th>\n",
              "      <th>home_score</th>\n",
              "      <th>away_score</th>\n",
              "      <th>tournament</th>\n",
              "      <th>city</th>\n",
              "      <th>country</th>\n",
              "      <th>neutral</th>\n",
              "    </tr>\n",
              "  </thead>\n",
              "  <tbody>\n",
              "    <tr>\n",
              "      <th>0</th>\n",
              "      <td>1872-11-30</td>\n",
              "      <td>Scotland</td>\n",
              "      <td>England</td>\n",
              "      <td>0</td>\n",
              "      <td>0</td>\n",
              "      <td>Friendly</td>\n",
              "      <td>Glasgow</td>\n",
              "      <td>Scotland</td>\n",
              "      <td>False</td>\n",
              "    </tr>\n",
              "    <tr>\n",
              "      <th>1</th>\n",
              "      <td>1873-03-08</td>\n",
              "      <td>England</td>\n",
              "      <td>Scotland</td>\n",
              "      <td>4</td>\n",
              "      <td>2</td>\n",
              "      <td>Friendly</td>\n",
              "      <td>London</td>\n",
              "      <td>England</td>\n",
              "      <td>False</td>\n",
              "    </tr>\n",
              "    <tr>\n",
              "      <th>2</th>\n",
              "      <td>1874-03-07</td>\n",
              "      <td>Scotland</td>\n",
              "      <td>England</td>\n",
              "      <td>2</td>\n",
              "      <td>1</td>\n",
              "      <td>Friendly</td>\n",
              "      <td>Glasgow</td>\n",
              "      <td>Scotland</td>\n",
              "      <td>False</td>\n",
              "    </tr>\n",
              "    <tr>\n",
              "      <th>3</th>\n",
              "      <td>1875-03-06</td>\n",
              "      <td>England</td>\n",
              "      <td>Scotland</td>\n",
              "      <td>2</td>\n",
              "      <td>2</td>\n",
              "      <td>Friendly</td>\n",
              "      <td>London</td>\n",
              "      <td>England</td>\n",
              "      <td>False</td>\n",
              "    </tr>\n",
              "    <tr>\n",
              "      <th>4</th>\n",
              "      <td>1876-03-04</td>\n",
              "      <td>Scotland</td>\n",
              "      <td>England</td>\n",
              "      <td>3</td>\n",
              "      <td>0</td>\n",
              "      <td>Friendly</td>\n",
              "      <td>Glasgow</td>\n",
              "      <td>Scotland</td>\n",
              "      <td>False</td>\n",
              "    </tr>\n",
              "    <tr>\n",
              "      <th>...</th>\n",
              "      <td>...</td>\n",
              "      <td>...</td>\n",
              "      <td>...</td>\n",
              "      <td>...</td>\n",
              "      <td>...</td>\n",
              "      <td>...</td>\n",
              "      <td>...</td>\n",
              "      <td>...</td>\n",
              "      <td>...</td>\n",
              "    </tr>\n",
              "    <tr>\n",
              "      <th>40834</th>\n",
              "      <td>2019-07-18</td>\n",
              "      <td>American Samoa</td>\n",
              "      <td>Tahiti</td>\n",
              "      <td>8</td>\n",
              "      <td>1</td>\n",
              "      <td>Pacific Games</td>\n",
              "      <td>Apia</td>\n",
              "      <td>Samoa</td>\n",
              "      <td>True</td>\n",
              "    </tr>\n",
              "    <tr>\n",
              "      <th>40835</th>\n",
              "      <td>2019-07-18</td>\n",
              "      <td>Fiji</td>\n",
              "      <td>Solomon Islands</td>\n",
              "      <td>4</td>\n",
              "      <td>4</td>\n",
              "      <td>Pacific Games</td>\n",
              "      <td>Apia</td>\n",
              "      <td>Samoa</td>\n",
              "      <td>True</td>\n",
              "    </tr>\n",
              "    <tr>\n",
              "      <th>40836</th>\n",
              "      <td>2019-07-19</td>\n",
              "      <td>Senegal</td>\n",
              "      <td>Algeria</td>\n",
              "      <td>0</td>\n",
              "      <td>1</td>\n",
              "      <td>African Cup of Nations</td>\n",
              "      <td>Cairo</td>\n",
              "      <td>Egypt</td>\n",
              "      <td>True</td>\n",
              "    </tr>\n",
              "    <tr>\n",
              "      <th>40837</th>\n",
              "      <td>2019-07-19</td>\n",
              "      <td>Tajikistan</td>\n",
              "      <td>North Korea</td>\n",
              "      <td>0</td>\n",
              "      <td>1</td>\n",
              "      <td>Intercontinental Cup</td>\n",
              "      <td>Ahmedabad</td>\n",
              "      <td>India</td>\n",
              "      <td>True</td>\n",
              "    </tr>\n",
              "    <tr>\n",
              "      <th>40838</th>\n",
              "      <td>2019-07-20</td>\n",
              "      <td>Papua New Guinea</td>\n",
              "      <td>Fiji</td>\n",
              "      <td>1</td>\n",
              "      <td>1</td>\n",
              "      <td>Pacific Games</td>\n",
              "      <td>Apia</td>\n",
              "      <td>Samoa</td>\n",
              "      <td>True</td>\n",
              "    </tr>\n",
              "  </tbody>\n",
              "</table>\n",
              "<p>40839 rows × 9 columns</p>\n",
              "</div>\n",
              "      <button class=\"colab-df-convert\" onclick=\"convertToInteractive('df-54c802a6-f3f6-4a24-abeb-eb98c2c0083c')\"\n",
              "              title=\"Convert this dataframe to an interactive table.\"\n",
              "              style=\"display:none;\">\n",
              "        \n",
              "  <svg xmlns=\"http://www.w3.org/2000/svg\" height=\"24px\"viewBox=\"0 0 24 24\"\n",
              "       width=\"24px\">\n",
              "    <path d=\"M0 0h24v24H0V0z\" fill=\"none\"/>\n",
              "    <path d=\"M18.56 5.44l.94 2.06.94-2.06 2.06-.94-2.06-.94-.94-2.06-.94 2.06-2.06.94zm-11 1L8.5 8.5l.94-2.06 2.06-.94-2.06-.94L8.5 2.5l-.94 2.06-2.06.94zm10 10l.94 2.06.94-2.06 2.06-.94-2.06-.94-.94-2.06-.94 2.06-2.06.94z\"/><path d=\"M17.41 7.96l-1.37-1.37c-.4-.4-.92-.59-1.43-.59-.52 0-1.04.2-1.43.59L10.3 9.45l-7.72 7.72c-.78.78-.78 2.05 0 2.83L4 21.41c.39.39.9.59 1.41.59.51 0 1.02-.2 1.41-.59l7.78-7.78 2.81-2.81c.8-.78.8-2.07 0-2.86zM5.41 20L4 18.59l7.72-7.72 1.47 1.35L5.41 20z\"/>\n",
              "  </svg>\n",
              "      </button>\n",
              "      \n",
              "  <style>\n",
              "    .colab-df-container {\n",
              "      display:flex;\n",
              "      flex-wrap:wrap;\n",
              "      gap: 12px;\n",
              "    }\n",
              "\n",
              "    .colab-df-convert {\n",
              "      background-color: #E8F0FE;\n",
              "      border: none;\n",
              "      border-radius: 50%;\n",
              "      cursor: pointer;\n",
              "      display: none;\n",
              "      fill: #1967D2;\n",
              "      height: 32px;\n",
              "      padding: 0 0 0 0;\n",
              "      width: 32px;\n",
              "    }\n",
              "\n",
              "    .colab-df-convert:hover {\n",
              "      background-color: #E2EBFA;\n",
              "      box-shadow: 0px 1px 2px rgba(60, 64, 67, 0.3), 0px 1px 3px 1px rgba(60, 64, 67, 0.15);\n",
              "      fill: #174EA6;\n",
              "    }\n",
              "\n",
              "    [theme=dark] .colab-df-convert {\n",
              "      background-color: #3B4455;\n",
              "      fill: #D2E3FC;\n",
              "    }\n",
              "\n",
              "    [theme=dark] .colab-df-convert:hover {\n",
              "      background-color: #434B5C;\n",
              "      box-shadow: 0px 1px 3px 1px rgba(0, 0, 0, 0.15);\n",
              "      filter: drop-shadow(0px 1px 2px rgba(0, 0, 0, 0.3));\n",
              "      fill: #FFFFFF;\n",
              "    }\n",
              "  </style>\n",
              "\n",
              "      <script>\n",
              "        const buttonEl =\n",
              "          document.querySelector('#df-54c802a6-f3f6-4a24-abeb-eb98c2c0083c button.colab-df-convert');\n",
              "        buttonEl.style.display =\n",
              "          google.colab.kernel.accessAllowed ? 'block' : 'none';\n",
              "\n",
              "        async function convertToInteractive(key) {\n",
              "          const element = document.querySelector('#df-54c802a6-f3f6-4a24-abeb-eb98c2c0083c');\n",
              "          const dataTable =\n",
              "            await google.colab.kernel.invokeFunction('convertToInteractive',\n",
              "                                                     [key], {});\n",
              "          if (!dataTable) return;\n",
              "\n",
              "          const docLinkHtml = 'Like what you see? Visit the ' +\n",
              "            '<a target=\"_blank\" href=https://colab.research.google.com/notebooks/data_table.ipynb>data table notebook</a>'\n",
              "            + ' to learn more about interactive tables.';\n",
              "          element.innerHTML = '';\n",
              "          dataTable['output_type'] = 'display_data';\n",
              "          await google.colab.output.renderOutput(dataTable, element);\n",
              "          const docLink = document.createElement('div');\n",
              "          docLink.innerHTML = docLinkHtml;\n",
              "          element.appendChild(docLink);\n",
              "        }\n",
              "      </script>\n",
              "    </div>\n",
              "  </div>\n",
              "  "
            ],
            "text/plain": [
              "             date         home_team  ...   country  neutral\n",
              "0      1872-11-30          Scotland  ...  Scotland    False\n",
              "1      1873-03-08           England  ...   England    False\n",
              "2      1874-03-07          Scotland  ...  Scotland    False\n",
              "3      1875-03-06           England  ...   England    False\n",
              "4      1876-03-04          Scotland  ...  Scotland    False\n",
              "...           ...               ...  ...       ...      ...\n",
              "40834  2019-07-18    American Samoa  ...     Samoa     True\n",
              "40835  2019-07-18              Fiji  ...     Samoa     True\n",
              "40836  2019-07-19           Senegal  ...     Egypt     True\n",
              "40837  2019-07-19        Tajikistan  ...     India     True\n",
              "40838  2019-07-20  Papua New Guinea  ...     Samoa     True\n",
              "\n",
              "[40839 rows x 9 columns]"
            ]
          },
          "metadata": {},
          "execution_count": 5
        }
      ]
    },
    {
      "cell_type": "code",
      "source": [
        "results.shape"
      ],
      "metadata": {
        "colab": {
          "base_uri": "https://localhost:8080/"
        },
        "id": "TvAnyhTRHvfn",
        "outputId": "fbee970d-6632-4be5-ba6a-ccedfb311000"
      },
      "execution_count": 26,
      "outputs": [
        {
          "output_type": "execute_result",
          "data": {
            "text/plain": [
              "(40839, 9)"
            ]
          },
          "metadata": {},
          "execution_count": 26
        }
      ]
    },
    {
      "cell_type": "markdown",
      "source": [
        "The results dataset has 40839 rows and 9 columns"
      ],
      "metadata": {
        "id": "pJFbb8NGHzR3"
      }
    },
    {
      "cell_type": "code",
      "source": [
        "#Getting more information on the datasets\n",
        "fifa_ranking.info"
      ],
      "metadata": {
        "colab": {
          "base_uri": "https://localhost:8080/"
        },
        "id": "zXRYt4axHx90",
        "outputId": "5150f573-2a29-40f1-a405-384895b45a8a"
      },
      "execution_count": 27,
      "outputs": [
        {
          "output_type": "execute_result",
          "data": {
            "text/plain": [
              "<bound method DataFrame.info of        rank country_full  ... confederation   rank_date\n",
              "0         1      Germany  ...          UEFA  1993-08-08\n",
              "1         2        Italy  ...          UEFA  1993-08-08\n",
              "2         3  Switzerland  ...          UEFA  1993-08-08\n",
              "3         4       Sweden  ...          UEFA  1993-08-08\n",
              "4         5    Argentina  ...      CONMEBOL  1993-08-08\n",
              "...     ...          ...  ...           ...         ...\n",
              "57788   206     Anguilla  ...      CONCACAF  2018-06-07\n",
              "57789   206      Bahamas  ...      CONCACAF  2018-06-07\n",
              "57790   206      Eritrea  ...           CAF  2018-06-07\n",
              "57791   206      Somalia  ...           CAF  2018-06-07\n",
              "57792   206        Tonga  ...           OFC  2018-06-07\n",
              "\n",
              "[57793 rows x 16 columns]>"
            ]
          },
          "metadata": {},
          "execution_count": 27
        }
      ]
    },
    {
      "cell_type": "code",
      "source": [
        "#results info\n",
        "results.info"
      ],
      "metadata": {
        "colab": {
          "base_uri": "https://localhost:8080/"
        },
        "id": "N7WJ_1upILXk",
        "outputId": "cb7a3f0a-436a-46e3-e194-9b9e5c01173a"
      },
      "execution_count": 28,
      "outputs": [
        {
          "output_type": "execute_result",
          "data": {
            "text/plain": [
              "<bound method DataFrame.info of              date         home_team  ...   country  neutral\n",
              "0      1872-11-30          Scotland  ...  Scotland    False\n",
              "1      1873-03-08           England  ...   England    False\n",
              "2      1874-03-07          Scotland  ...  Scotland    False\n",
              "3      1875-03-06           England  ...   England    False\n",
              "4      1876-03-04          Scotland  ...  Scotland    False\n",
              "...           ...               ...  ...       ...      ...\n",
              "40834  2019-07-18    American Samoa  ...     Samoa     True\n",
              "40835  2019-07-18              Fiji  ...     Samoa     True\n",
              "40836  2019-07-19           Senegal  ...     Egypt     True\n",
              "40837  2019-07-19        Tajikistan  ...     India     True\n",
              "40838  2019-07-20  Papua New Guinea  ...     Samoa     True\n",
              "\n",
              "[40839 rows x 9 columns]>"
            ]
          },
          "metadata": {},
          "execution_count": 28
        }
      ]
    },
    {
      "cell_type": "code",
      "source": [
        "# identify the column names in our dataset\n",
        "fifa_ranking.columns"
      ],
      "metadata": {
        "colab": {
          "base_uri": "https://localhost:8080/"
        },
        "id": "lPtHt_wTQkqw",
        "outputId": "1cb80765-fe39-4173-e8ff-712c459552ea"
      },
      "execution_count": 13,
      "outputs": [
        {
          "output_type": "execute_result",
          "data": {
            "text/plain": [
              "Index(['rank', 'country_full', 'country_abrv', 'total_points',\n",
              "       'previous_points', 'rank_change', 'cur_year_avg',\n",
              "       'cur_year_avg_weighted', 'last_year_avg', 'last_year_avg_weighted',\n",
              "       'two_year_ago_avg', 'two_year_ago_weighted', 'three_year_ago_avg',\n",
              "       'three_year_ago_weighted', 'confederation', 'rank_date'],\n",
              "      dtype='object')"
            ]
          },
          "metadata": {},
          "execution_count": 13
        }
      ]
    },
    {
      "cell_type": "markdown",
      "source": [
        "The above are variables to the fifa_ranking dataset"
      ],
      "metadata": {
        "id": "9TDN3gzMQzPw"
      }
    },
    {
      "cell_type": "code",
      "source": [
        "#identify the column in our results dataset\n",
        "results.columns"
      ],
      "metadata": {
        "colab": {
          "base_uri": "https://localhost:8080/"
        },
        "id": "T0s5MewVIrbM",
        "outputId": "b6e9b70e-ea16-45fe-eecf-e8c426812665"
      },
      "execution_count": 14,
      "outputs": [
        {
          "output_type": "execute_result",
          "data": {
            "text/plain": [
              "Index(['date', 'home_team', 'away_team', 'home_score', 'away_score',\n",
              "       'tournament', 'city', 'country', 'neutral'],\n",
              "      dtype='object')"
            ]
          },
          "metadata": {},
          "execution_count": 14
        }
      ]
    },
    {
      "cell_type": "markdown",
      "source": [
        "The above are variables of the results dataset"
      ],
      "metadata": {
        "id": "9AP1XjGNIzpq"
      }
    },
    {
      "cell_type": "code",
      "source": [
        "#identifying missing values in the datasets\n",
        "# Identify any missing values in the fifa dataset\n",
        "fifa_ranking.isnull().sum()"
      ],
      "metadata": {
        "colab": {
          "base_uri": "https://localhost:8080/"
        },
        "id": "4JRlueBrISL7",
        "outputId": "5a284021-9b80-415f-8c9c-328e3c27e438"
      },
      "execution_count": 6,
      "outputs": [
        {
          "output_type": "execute_result",
          "data": {
            "text/plain": [
              "rank                       0\n",
              "country_full               0\n",
              "country_abrv               0\n",
              "total_points               0\n",
              "previous_points            0\n",
              "rank_change                0\n",
              "cur_year_avg               0\n",
              "cur_year_avg_weighted      0\n",
              "last_year_avg              0\n",
              "last_year_avg_weighted     0\n",
              "two_year_ago_avg           0\n",
              "two_year_ago_weighted      0\n",
              "three_year_ago_avg         0\n",
              "three_year_ago_weighted    0\n",
              "confederation              0\n",
              "rank_date                  0\n",
              "dtype: int64"
            ]
          },
          "metadata": {},
          "execution_count": 6
        }
      ]
    },
    {
      "cell_type": "markdown",
      "source": [
        "Their no missing values in the Fifa ranking dataset"
      ],
      "metadata": {
        "id": "BLGR0N5aIotk"
      }
    },
    {
      "cell_type": "code",
      "source": [
        "#identifying missing values in the results dataset\n",
        "results.isnull().sum()"
      ],
      "metadata": {
        "colab": {
          "base_uri": "https://localhost:8080/"
        },
        "id": "v6dwXfBRIuJL",
        "outputId": "aff63472-89b1-4558-cad7-a8b8d5c81f06"
      },
      "execution_count": 32,
      "outputs": [
        {
          "output_type": "execute_result",
          "data": {
            "text/plain": [
              "date          0\n",
              "home_team     0\n",
              "away_team     0\n",
              "home_score    0\n",
              "away_score    0\n",
              "tournament    0\n",
              "city          0\n",
              "country       0\n",
              "neutral       0\n",
              "dtype: int64"
            ]
          },
          "metadata": {},
          "execution_count": 32
        }
      ]
    },
    {
      "cell_type": "markdown",
      "source": [
        "Their are no missing values in the dataset"
      ],
      "metadata": {
        "id": "4V2T7ipcI8fa"
      }
    },
    {
      "cell_type": "code",
      "source": [
        "#Checking if the datasets have the right datatype\n",
        "fifa_ranking.dtypes"
      ],
      "metadata": {
        "colab": {
          "base_uri": "https://localhost:8080/"
        },
        "id": "ZupNyZDhK3D1",
        "outputId": "3fa6059f-2d7e-448f-8196-353821280e10"
      },
      "execution_count": 33,
      "outputs": [
        {
          "output_type": "execute_result",
          "data": {
            "text/plain": [
              "rank                         int64\n",
              "country_full                object\n",
              "country_abrv                object\n",
              "total_points               float64\n",
              "previous_points              int64\n",
              "rank_change                  int64\n",
              "cur_year_avg               float64\n",
              "cur_year_avg_weighted      float64\n",
              "last_year_avg              float64\n",
              "last_year_avg_weighted     float64\n",
              "two_year_ago_avg           float64\n",
              "two_year_ago_weighted      float64\n",
              "three_year_ago_avg         float64\n",
              "three_year_ago_weighted    float64\n",
              "confederation               object\n",
              "rank_date                   object\n",
              "dtype: object"
            ]
          },
          "metadata": {},
          "execution_count": 33
        }
      ]
    },
    {
      "cell_type": "code",
      "source": [
        "#Results\n",
        "results.dtypes"
      ],
      "metadata": {
        "colab": {
          "base_uri": "https://localhost:8080/"
        },
        "id": "DGPVTxuhLCCx",
        "outputId": "16fab5f7-400c-49bb-90db-72c8be56a292"
      },
      "execution_count": 34,
      "outputs": [
        {
          "output_type": "execute_result",
          "data": {
            "text/plain": [
              "date          object\n",
              "home_team     object\n",
              "away_team     object\n",
              "home_score     int64\n",
              "away_score     int64\n",
              "tournament    object\n",
              "city          object\n",
              "country       object\n",
              "neutral         bool\n",
              "dtype: object"
            ]
          },
          "metadata": {},
          "execution_count": 34
        }
      ]
    },
    {
      "cell_type": "code",
      "source": [
        "#checking for unique values in the datasets\n",
        "fifa_ranking.nunique()"
      ],
      "metadata": {
        "colab": {
          "base_uri": "https://localhost:8080/"
        },
        "id": "YfXTUYIWLK5L",
        "outputId": "e5c8f674-d7d1-4daf-97b7-dd62e9d92821"
      },
      "execution_count": 35,
      "outputs": [
        {
          "output_type": "execute_result",
          "data": {
            "text/plain": [
              "rank                         209\n",
              "country_full                 216\n",
              "country_abrv                 216\n",
              "total_points               11114\n",
              "previous_points             1557\n",
              "rank_change                  121\n",
              "cur_year_avg                7419\n",
              "cur_year_avg_weighted       7419\n",
              "last_year_avg               7473\n",
              "last_year_avg_weighted      7001\n",
              "two_year_ago_avg            7575\n",
              "two_year_ago_weighted       6513\n",
              "three_year_ago_avg          7628\n",
              "three_year_ago_weighted     5849\n",
              "confederation                  6\n",
              "rank_date                    286\n",
              "dtype: int64"
            ]
          },
          "metadata": {},
          "execution_count": 35
        }
      ]
    },
    {
      "cell_type": "code",
      "source": [
        "results.nunique()"
      ],
      "metadata": {
        "colab": {
          "base_uri": "https://localhost:8080/"
        },
        "id": "X9z4j3VFLkIU",
        "outputId": "8d5ec575-a18f-4246-9600-735e1dd28876"
      },
      "execution_count": 36,
      "outputs": [
        {
          "output_type": "execute_result",
          "data": {
            "text/plain": [
              "date          15115\n",
              "home_team       309\n",
              "away_team       306\n",
              "home_score       26\n",
              "away_score       22\n",
              "tournament      109\n",
              "city           1960\n",
              "country         266\n",
              "neutral           2\n",
              "dtype: int64"
            ]
          },
          "metadata": {},
          "execution_count": 36
        }
      ]
    },
    {
      "cell_type": "code",
      "source": [
        "# Check for duplicate values in the fifa ranking dataset\n",
        "fifa_ranking.duplicated().sum()"
      ],
      "metadata": {
        "colab": {
          "base_uri": "https://localhost:8080/"
        },
        "id": "PqXt5SYLJCWt",
        "outputId": "4ff53dce-3d7a-4ff0-bf60-9f12bd78f167"
      },
      "execution_count": 37,
      "outputs": [
        {
          "output_type": "execute_result",
          "data": {
            "text/plain": [
              "37"
            ]
          },
          "metadata": {},
          "execution_count": 37
        }
      ]
    },
    {
      "cell_type": "code",
      "source": [
        "#checking for duplicate in the results dataset\n",
        "results.duplicated().sum()"
      ],
      "metadata": {
        "colab": {
          "base_uri": "https://localhost:8080/"
        },
        "id": "Isi6ygEMObdB",
        "outputId": "c2e2c849-5e65-45ed-f241-e85f042994e8"
      },
      "execution_count": 38,
      "outputs": [
        {
          "output_type": "execute_result",
          "data": {
            "text/plain": [
              "0"
            ]
          },
          "metadata": {},
          "execution_count": 38
        }
      ]
    },
    {
      "cell_type": "code",
      "source": [
        "#details of the datasets\n",
        "fifa_ranking.describe()"
      ],
      "metadata": {
        "colab": {
          "base_uri": "https://localhost:8080/",
          "height": 320
        },
        "id": "7Xi_1JWSFV9K",
        "outputId": "0b62557b-16ff-47d2-e8ff-74d1ac851cfe"
      },
      "execution_count": 4,
      "outputs": [
        {
          "output_type": "execute_result",
          "data": {
            "text/html": [
              "<div>\n",
              "<style scoped>\n",
              "    .dataframe tbody tr th:only-of-type {\n",
              "        vertical-align: middle;\n",
              "    }\n",
              "\n",
              "    .dataframe tbody tr th {\n",
              "        vertical-align: top;\n",
              "    }\n",
              "\n",
              "    .dataframe thead th {\n",
              "        text-align: right;\n",
              "    }\n",
              "</style>\n",
              "<table border=\"1\" class=\"dataframe\">\n",
              "  <thead>\n",
              "    <tr style=\"text-align: right;\">\n",
              "      <th></th>\n",
              "      <th>rank</th>\n",
              "      <th>total_points</th>\n",
              "      <th>previous_points</th>\n",
              "      <th>rank_change</th>\n",
              "      <th>cur_year_avg</th>\n",
              "      <th>cur_year_avg_weighted</th>\n",
              "      <th>last_year_avg</th>\n",
              "      <th>last_year_avg_weighted</th>\n",
              "      <th>two_year_ago_avg</th>\n",
              "      <th>two_year_ago_weighted</th>\n",
              "      <th>three_year_ago_avg</th>\n",
              "      <th>three_year_ago_weighted</th>\n",
              "    </tr>\n",
              "  </thead>\n",
              "  <tbody>\n",
              "    <tr>\n",
              "      <th>count</th>\n",
              "      <td>57793.000000</td>\n",
              "      <td>57793.000000</td>\n",
              "      <td>57793.000000</td>\n",
              "      <td>57793.000000</td>\n",
              "      <td>57793.000000</td>\n",
              "      <td>57793.000000</td>\n",
              "      <td>57793.000000</td>\n",
              "      <td>57793.000000</td>\n",
              "      <td>57793.000000</td>\n",
              "      <td>57793.000000</td>\n",
              "      <td>57793.000000</td>\n",
              "      <td>57793.000000</td>\n",
              "    </tr>\n",
              "    <tr>\n",
              "      <th>mean</th>\n",
              "      <td>101.628086</td>\n",
              "      <td>122.068637</td>\n",
              "      <td>332.302926</td>\n",
              "      <td>-0.009897</td>\n",
              "      <td>61.798602</td>\n",
              "      <td>61.798602</td>\n",
              "      <td>61.004602</td>\n",
              "      <td>30.502377</td>\n",
              "      <td>59.777462</td>\n",
              "      <td>17.933277</td>\n",
              "      <td>59.173916</td>\n",
              "      <td>11.834811</td>\n",
              "    </tr>\n",
              "    <tr>\n",
              "      <th>std</th>\n",
              "      <td>58.618424</td>\n",
              "      <td>260.426863</td>\n",
              "      <td>302.872948</td>\n",
              "      <td>5.804309</td>\n",
              "      <td>138.014883</td>\n",
              "      <td>138.014883</td>\n",
              "      <td>137.688204</td>\n",
              "      <td>68.844143</td>\n",
              "      <td>136.296079</td>\n",
              "      <td>40.888849</td>\n",
              "      <td>135.533343</td>\n",
              "      <td>27.106675</td>\n",
              "    </tr>\n",
              "    <tr>\n",
              "      <th>min</th>\n",
              "      <td>1.000000</td>\n",
              "      <td>0.000000</td>\n",
              "      <td>0.000000</td>\n",
              "      <td>-72.000000</td>\n",
              "      <td>0.000000</td>\n",
              "      <td>0.000000</td>\n",
              "      <td>0.000000</td>\n",
              "      <td>0.000000</td>\n",
              "      <td>0.000000</td>\n",
              "      <td>0.000000</td>\n",
              "      <td>0.000000</td>\n",
              "      <td>0.000000</td>\n",
              "    </tr>\n",
              "    <tr>\n",
              "      <th>25%</th>\n",
              "      <td>51.000000</td>\n",
              "      <td>0.000000</td>\n",
              "      <td>56.000000</td>\n",
              "      <td>-2.000000</td>\n",
              "      <td>0.000000</td>\n",
              "      <td>0.000000</td>\n",
              "      <td>0.000000</td>\n",
              "      <td>0.000000</td>\n",
              "      <td>0.000000</td>\n",
              "      <td>0.000000</td>\n",
              "      <td>0.000000</td>\n",
              "      <td>0.000000</td>\n",
              "    </tr>\n",
              "    <tr>\n",
              "      <th>50%</th>\n",
              "      <td>101.000000</td>\n",
              "      <td>0.000000</td>\n",
              "      <td>272.000000</td>\n",
              "      <td>0.000000</td>\n",
              "      <td>0.000000</td>\n",
              "      <td>0.000000</td>\n",
              "      <td>0.000000</td>\n",
              "      <td>0.000000</td>\n",
              "      <td>0.000000</td>\n",
              "      <td>0.000000</td>\n",
              "      <td>0.000000</td>\n",
              "      <td>0.000000</td>\n",
              "    </tr>\n",
              "    <tr>\n",
              "      <th>75%</th>\n",
              "      <td>152.000000</td>\n",
              "      <td>92.790000</td>\n",
              "      <td>525.000000</td>\n",
              "      <td>1.000000</td>\n",
              "      <td>32.250000</td>\n",
              "      <td>32.250000</td>\n",
              "      <td>26.660000</td>\n",
              "      <td>13.330000</td>\n",
              "      <td>21.500000</td>\n",
              "      <td>6.450000</td>\n",
              "      <td>21.250000</td>\n",
              "      <td>4.250000</td>\n",
              "    </tr>\n",
              "    <tr>\n",
              "      <th>max</th>\n",
              "      <td>209.000000</td>\n",
              "      <td>1775.030000</td>\n",
              "      <td>1920.000000</td>\n",
              "      <td>92.000000</td>\n",
              "      <td>1158.660000</td>\n",
              "      <td>1158.660000</td>\n",
              "      <td>1169.570000</td>\n",
              "      <td>584.790000</td>\n",
              "      <td>1159.710000</td>\n",
              "      <td>347.910000</td>\n",
              "      <td>1200.770000</td>\n",
              "      <td>240.150000</td>\n",
              "    </tr>\n",
              "  </tbody>\n",
              "</table>\n",
              "</div>"
            ],
            "text/plain": [
              "               rank  total_points  ...  three_year_ago_avg  three_year_ago_weighted\n",
              "count  57793.000000  57793.000000  ...        57793.000000             57793.000000\n",
              "mean     101.628086    122.068637  ...           59.173916                11.834811\n",
              "std       58.618424    260.426863  ...          135.533343                27.106675\n",
              "min        1.000000      0.000000  ...            0.000000                 0.000000\n",
              "25%       51.000000      0.000000  ...            0.000000                 0.000000\n",
              "50%      101.000000      0.000000  ...            0.000000                 0.000000\n",
              "75%      152.000000     92.790000  ...           21.250000                 4.250000\n",
              "max      209.000000   1775.030000  ...         1200.770000               240.150000\n",
              "\n",
              "[8 rows x 12 columns]"
            ]
          },
          "metadata": {},
          "execution_count": 4
        }
      ]
    },
    {
      "cell_type": "code",
      "source": [
        "results.describe()"
      ],
      "metadata": {
        "colab": {
          "base_uri": "https://localhost:8080/",
          "height": 300
        },
        "id": "JnEcpjElGodC",
        "outputId": "4e7f93ef-c494-426b-c98d-334ae08fbc49"
      },
      "execution_count": 40,
      "outputs": [
        {
          "output_type": "execute_result",
          "data": {
            "text/html": [
              "\n",
              "  <div id=\"df-6e846a09-10bf-49d1-811d-06dc6e4f9f78\">\n",
              "    <div class=\"colab-df-container\">\n",
              "      <div>\n",
              "<style scoped>\n",
              "    .dataframe tbody tr th:only-of-type {\n",
              "        vertical-align: middle;\n",
              "    }\n",
              "\n",
              "    .dataframe tbody tr th {\n",
              "        vertical-align: top;\n",
              "    }\n",
              "\n",
              "    .dataframe thead th {\n",
              "        text-align: right;\n",
              "    }\n",
              "</style>\n",
              "<table border=\"1\" class=\"dataframe\">\n",
              "  <thead>\n",
              "    <tr style=\"text-align: right;\">\n",
              "      <th></th>\n",
              "      <th>home_score</th>\n",
              "      <th>away_score</th>\n",
              "    </tr>\n",
              "  </thead>\n",
              "  <tbody>\n",
              "    <tr>\n",
              "      <th>count</th>\n",
              "      <td>40839.000000</td>\n",
              "      <td>40839.000000</td>\n",
              "    </tr>\n",
              "    <tr>\n",
              "      <th>mean</th>\n",
              "      <td>1.745709</td>\n",
              "      <td>1.188105</td>\n",
              "    </tr>\n",
              "    <tr>\n",
              "      <th>std</th>\n",
              "      <td>1.749145</td>\n",
              "      <td>1.405120</td>\n",
              "    </tr>\n",
              "    <tr>\n",
              "      <th>min</th>\n",
              "      <td>0.000000</td>\n",
              "      <td>0.000000</td>\n",
              "    </tr>\n",
              "    <tr>\n",
              "      <th>25%</th>\n",
              "      <td>1.000000</td>\n",
              "      <td>0.000000</td>\n",
              "    </tr>\n",
              "    <tr>\n",
              "      <th>50%</th>\n",
              "      <td>1.000000</td>\n",
              "      <td>1.000000</td>\n",
              "    </tr>\n",
              "    <tr>\n",
              "      <th>75%</th>\n",
              "      <td>2.000000</td>\n",
              "      <td>2.000000</td>\n",
              "    </tr>\n",
              "    <tr>\n",
              "      <th>max</th>\n",
              "      <td>31.000000</td>\n",
              "      <td>21.000000</td>\n",
              "    </tr>\n",
              "  </tbody>\n",
              "</table>\n",
              "</div>\n",
              "      <button class=\"colab-df-convert\" onclick=\"convertToInteractive('df-6e846a09-10bf-49d1-811d-06dc6e4f9f78')\"\n",
              "              title=\"Convert this dataframe to an interactive table.\"\n",
              "              style=\"display:none;\">\n",
              "        \n",
              "  <svg xmlns=\"http://www.w3.org/2000/svg\" height=\"24px\"viewBox=\"0 0 24 24\"\n",
              "       width=\"24px\">\n",
              "    <path d=\"M0 0h24v24H0V0z\" fill=\"none\"/>\n",
              "    <path d=\"M18.56 5.44l.94 2.06.94-2.06 2.06-.94-2.06-.94-.94-2.06-.94 2.06-2.06.94zm-11 1L8.5 8.5l.94-2.06 2.06-.94-2.06-.94L8.5 2.5l-.94 2.06-2.06.94zm10 10l.94 2.06.94-2.06 2.06-.94-2.06-.94-.94-2.06-.94 2.06-2.06.94z\"/><path d=\"M17.41 7.96l-1.37-1.37c-.4-.4-.92-.59-1.43-.59-.52 0-1.04.2-1.43.59L10.3 9.45l-7.72 7.72c-.78.78-.78 2.05 0 2.83L4 21.41c.39.39.9.59 1.41.59.51 0 1.02-.2 1.41-.59l7.78-7.78 2.81-2.81c.8-.78.8-2.07 0-2.86zM5.41 20L4 18.59l7.72-7.72 1.47 1.35L5.41 20z\"/>\n",
              "  </svg>\n",
              "      </button>\n",
              "      \n",
              "  <style>\n",
              "    .colab-df-container {\n",
              "      display:flex;\n",
              "      flex-wrap:wrap;\n",
              "      gap: 12px;\n",
              "    }\n",
              "\n",
              "    .colab-df-convert {\n",
              "      background-color: #E8F0FE;\n",
              "      border: none;\n",
              "      border-radius: 50%;\n",
              "      cursor: pointer;\n",
              "      display: none;\n",
              "      fill: #1967D2;\n",
              "      height: 32px;\n",
              "      padding: 0 0 0 0;\n",
              "      width: 32px;\n",
              "    }\n",
              "\n",
              "    .colab-df-convert:hover {\n",
              "      background-color: #E2EBFA;\n",
              "      box-shadow: 0px 1px 2px rgba(60, 64, 67, 0.3), 0px 1px 3px 1px rgba(60, 64, 67, 0.15);\n",
              "      fill: #174EA6;\n",
              "    }\n",
              "\n",
              "    [theme=dark] .colab-df-convert {\n",
              "      background-color: #3B4455;\n",
              "      fill: #D2E3FC;\n",
              "    }\n",
              "\n",
              "    [theme=dark] .colab-df-convert:hover {\n",
              "      background-color: #434B5C;\n",
              "      box-shadow: 0px 1px 3px 1px rgba(0, 0, 0, 0.15);\n",
              "      filter: drop-shadow(0px 1px 2px rgba(0, 0, 0, 0.3));\n",
              "      fill: #FFFFFF;\n",
              "    }\n",
              "  </style>\n",
              "\n",
              "      <script>\n",
              "        const buttonEl =\n",
              "          document.querySelector('#df-6e846a09-10bf-49d1-811d-06dc6e4f9f78 button.colab-df-convert');\n",
              "        buttonEl.style.display =\n",
              "          google.colab.kernel.accessAllowed ? 'block' : 'none';\n",
              "\n",
              "        async function convertToInteractive(key) {\n",
              "          const element = document.querySelector('#df-6e846a09-10bf-49d1-811d-06dc6e4f9f78');\n",
              "          const dataTable =\n",
              "            await google.colab.kernel.invokeFunction('convertToInteractive',\n",
              "                                                     [key], {});\n",
              "          if (!dataTable) return;\n",
              "\n",
              "          const docLinkHtml = 'Like what you see? Visit the ' +\n",
              "            '<a target=\"_blank\" href=https://colab.research.google.com/notebooks/data_table.ipynb>data table notebook</a>'\n",
              "            + ' to learn more about interactive tables.';\n",
              "          element.innerHTML = '';\n",
              "          dataTable['output_type'] = 'display_data';\n",
              "          await google.colab.output.renderOutput(dataTable, element);\n",
              "          const docLink = document.createElement('div');\n",
              "          docLink.innerHTML = docLinkHtml;\n",
              "          element.appendChild(docLink);\n",
              "        }\n",
              "      </script>\n",
              "    </div>\n",
              "  </div>\n",
              "  "
            ],
            "text/plain": [
              "         home_score    away_score\n",
              "count  40839.000000  40839.000000\n",
              "mean       1.745709      1.188105\n",
              "std        1.749145      1.405120\n",
              "min        0.000000      0.000000\n",
              "25%        1.000000      0.000000\n",
              "50%        1.000000      1.000000\n",
              "75%        2.000000      2.000000\n",
              "max       31.000000     21.000000"
            ]
          },
          "metadata": {},
          "execution_count": 40
        }
      ]
    },
    {
      "cell_type": "markdown",
      "source": [
        "3.1 **Tidying the datasets**"
      ],
      "metadata": {
        "id": "gU4-yAtfNalI"
      }
    },
    {
      "cell_type": "code",
      "source": [
        "#removing the duplicates from the fifa dataset\n",
        "fifa_ranking.drop_duplicates(subset=None, keep='first', inplace= False)"
      ],
      "metadata": {
        "colab": {
          "base_uri": "https://localhost:8080/",
          "height": 617
        },
        "id": "aJ228kVYNhg5",
        "outputId": "ab970aa5-d1d8-4dd9-fb88-1760ccd67933"
      },
      "execution_count": 5,
      "outputs": [
        {
          "output_type": "execute_result",
          "data": {
            "text/html": [
              "<div>\n",
              "<style scoped>\n",
              "    .dataframe tbody tr th:only-of-type {\n",
              "        vertical-align: middle;\n",
              "    }\n",
              "\n",
              "    .dataframe tbody tr th {\n",
              "        vertical-align: top;\n",
              "    }\n",
              "\n",
              "    .dataframe thead th {\n",
              "        text-align: right;\n",
              "    }\n",
              "</style>\n",
              "<table border=\"1\" class=\"dataframe\">\n",
              "  <thead>\n",
              "    <tr style=\"text-align: right;\">\n",
              "      <th></th>\n",
              "      <th>rank</th>\n",
              "      <th>country_full</th>\n",
              "      <th>country_abrv</th>\n",
              "      <th>total_points</th>\n",
              "      <th>previous_points</th>\n",
              "      <th>rank_change</th>\n",
              "      <th>cur_year_avg</th>\n",
              "      <th>cur_year_avg_weighted</th>\n",
              "      <th>last_year_avg</th>\n",
              "      <th>last_year_avg_weighted</th>\n",
              "      <th>two_year_ago_avg</th>\n",
              "      <th>two_year_ago_weighted</th>\n",
              "      <th>three_year_ago_avg</th>\n",
              "      <th>three_year_ago_weighted</th>\n",
              "      <th>confederation</th>\n",
              "      <th>rank_date</th>\n",
              "    </tr>\n",
              "  </thead>\n",
              "  <tbody>\n",
              "    <tr>\n",
              "      <th>0</th>\n",
              "      <td>1</td>\n",
              "      <td>Germany</td>\n",
              "      <td>GER</td>\n",
              "      <td>0.0</td>\n",
              "      <td>57</td>\n",
              "      <td>0</td>\n",
              "      <td>0.0</td>\n",
              "      <td>0.0</td>\n",
              "      <td>0.0</td>\n",
              "      <td>0.0</td>\n",
              "      <td>0.0</td>\n",
              "      <td>0.0</td>\n",
              "      <td>0.0</td>\n",
              "      <td>0.0</td>\n",
              "      <td>UEFA</td>\n",
              "      <td>1993-08-08</td>\n",
              "    </tr>\n",
              "    <tr>\n",
              "      <th>1</th>\n",
              "      <td>2</td>\n",
              "      <td>Italy</td>\n",
              "      <td>ITA</td>\n",
              "      <td>0.0</td>\n",
              "      <td>57</td>\n",
              "      <td>0</td>\n",
              "      <td>0.0</td>\n",
              "      <td>0.0</td>\n",
              "      <td>0.0</td>\n",
              "      <td>0.0</td>\n",
              "      <td>0.0</td>\n",
              "      <td>0.0</td>\n",
              "      <td>0.0</td>\n",
              "      <td>0.0</td>\n",
              "      <td>UEFA</td>\n",
              "      <td>1993-08-08</td>\n",
              "    </tr>\n",
              "    <tr>\n",
              "      <th>2</th>\n",
              "      <td>3</td>\n",
              "      <td>Switzerland</td>\n",
              "      <td>SUI</td>\n",
              "      <td>0.0</td>\n",
              "      <td>50</td>\n",
              "      <td>9</td>\n",
              "      <td>0.0</td>\n",
              "      <td>0.0</td>\n",
              "      <td>0.0</td>\n",
              "      <td>0.0</td>\n",
              "      <td>0.0</td>\n",
              "      <td>0.0</td>\n",
              "      <td>0.0</td>\n",
              "      <td>0.0</td>\n",
              "      <td>UEFA</td>\n",
              "      <td>1993-08-08</td>\n",
              "    </tr>\n",
              "    <tr>\n",
              "      <th>3</th>\n",
              "      <td>4</td>\n",
              "      <td>Sweden</td>\n",
              "      <td>SWE</td>\n",
              "      <td>0.0</td>\n",
              "      <td>55</td>\n",
              "      <td>0</td>\n",
              "      <td>0.0</td>\n",
              "      <td>0.0</td>\n",
              "      <td>0.0</td>\n",
              "      <td>0.0</td>\n",
              "      <td>0.0</td>\n",
              "      <td>0.0</td>\n",
              "      <td>0.0</td>\n",
              "      <td>0.0</td>\n",
              "      <td>UEFA</td>\n",
              "      <td>1993-08-08</td>\n",
              "    </tr>\n",
              "    <tr>\n",
              "      <th>4</th>\n",
              "      <td>5</td>\n",
              "      <td>Argentina</td>\n",
              "      <td>ARG</td>\n",
              "      <td>0.0</td>\n",
              "      <td>51</td>\n",
              "      <td>5</td>\n",
              "      <td>0.0</td>\n",
              "      <td>0.0</td>\n",
              "      <td>0.0</td>\n",
              "      <td>0.0</td>\n",
              "      <td>0.0</td>\n",
              "      <td>0.0</td>\n",
              "      <td>0.0</td>\n",
              "      <td>0.0</td>\n",
              "      <td>CONMEBOL</td>\n",
              "      <td>1993-08-08</td>\n",
              "    </tr>\n",
              "    <tr>\n",
              "      <th>...</th>\n",
              "      <td>...</td>\n",
              "      <td>...</td>\n",
              "      <td>...</td>\n",
              "      <td>...</td>\n",
              "      <td>...</td>\n",
              "      <td>...</td>\n",
              "      <td>...</td>\n",
              "      <td>...</td>\n",
              "      <td>...</td>\n",
              "      <td>...</td>\n",
              "      <td>...</td>\n",
              "      <td>...</td>\n",
              "      <td>...</td>\n",
              "      <td>...</td>\n",
              "      <td>...</td>\n",
              "      <td>...</td>\n",
              "    </tr>\n",
              "    <tr>\n",
              "      <th>57788</th>\n",
              "      <td>206</td>\n",
              "      <td>Anguilla</td>\n",
              "      <td>AIA</td>\n",
              "      <td>0.0</td>\n",
              "      <td>0</td>\n",
              "      <td>1</td>\n",
              "      <td>0.0</td>\n",
              "      <td>0.0</td>\n",
              "      <td>0.0</td>\n",
              "      <td>0.0</td>\n",
              "      <td>0.0</td>\n",
              "      <td>0.0</td>\n",
              "      <td>0.0</td>\n",
              "      <td>0.0</td>\n",
              "      <td>CONCACAF</td>\n",
              "      <td>2018-06-07</td>\n",
              "    </tr>\n",
              "    <tr>\n",
              "      <th>57789</th>\n",
              "      <td>206</td>\n",
              "      <td>Bahamas</td>\n",
              "      <td>BAH</td>\n",
              "      <td>0.0</td>\n",
              "      <td>0</td>\n",
              "      <td>1</td>\n",
              "      <td>0.0</td>\n",
              "      <td>0.0</td>\n",
              "      <td>0.0</td>\n",
              "      <td>0.0</td>\n",
              "      <td>0.0</td>\n",
              "      <td>0.0</td>\n",
              "      <td>0.0</td>\n",
              "      <td>0.0</td>\n",
              "      <td>CONCACAF</td>\n",
              "      <td>2018-06-07</td>\n",
              "    </tr>\n",
              "    <tr>\n",
              "      <th>57790</th>\n",
              "      <td>206</td>\n",
              "      <td>Eritrea</td>\n",
              "      <td>ERI</td>\n",
              "      <td>0.0</td>\n",
              "      <td>0</td>\n",
              "      <td>1</td>\n",
              "      <td>0.0</td>\n",
              "      <td>0.0</td>\n",
              "      <td>0.0</td>\n",
              "      <td>0.0</td>\n",
              "      <td>0.0</td>\n",
              "      <td>0.0</td>\n",
              "      <td>0.0</td>\n",
              "      <td>0.0</td>\n",
              "      <td>CAF</td>\n",
              "      <td>2018-06-07</td>\n",
              "    </tr>\n",
              "    <tr>\n",
              "      <th>57791</th>\n",
              "      <td>206</td>\n",
              "      <td>Somalia</td>\n",
              "      <td>SOM</td>\n",
              "      <td>0.0</td>\n",
              "      <td>0</td>\n",
              "      <td>1</td>\n",
              "      <td>0.0</td>\n",
              "      <td>0.0</td>\n",
              "      <td>0.0</td>\n",
              "      <td>0.0</td>\n",
              "      <td>0.0</td>\n",
              "      <td>0.0</td>\n",
              "      <td>0.0</td>\n",
              "      <td>0.0</td>\n",
              "      <td>CAF</td>\n",
              "      <td>2018-06-07</td>\n",
              "    </tr>\n",
              "    <tr>\n",
              "      <th>57792</th>\n",
              "      <td>206</td>\n",
              "      <td>Tonga</td>\n",
              "      <td>TGA</td>\n",
              "      <td>0.0</td>\n",
              "      <td>0</td>\n",
              "      <td>1</td>\n",
              "      <td>0.0</td>\n",
              "      <td>0.0</td>\n",
              "      <td>0.0</td>\n",
              "      <td>0.0</td>\n",
              "      <td>0.0</td>\n",
              "      <td>0.0</td>\n",
              "      <td>0.0</td>\n",
              "      <td>0.0</td>\n",
              "      <td>OFC</td>\n",
              "      <td>2018-06-07</td>\n",
              "    </tr>\n",
              "  </tbody>\n",
              "</table>\n",
              "<p>57756 rows × 16 columns</p>\n",
              "</div>"
            ],
            "text/plain": [
              "       rank country_full  ... confederation   rank_date\n",
              "0         1      Germany  ...          UEFA  1993-08-08\n",
              "1         2        Italy  ...          UEFA  1993-08-08\n",
              "2         3  Switzerland  ...          UEFA  1993-08-08\n",
              "3         4       Sweden  ...          UEFA  1993-08-08\n",
              "4         5    Argentina  ...      CONMEBOL  1993-08-08\n",
              "...     ...          ...  ...           ...         ...\n",
              "57788   206     Anguilla  ...      CONCACAF  2018-06-07\n",
              "57789   206      Bahamas  ...      CONCACAF  2018-06-07\n",
              "57790   206      Eritrea  ...           CAF  2018-06-07\n",
              "57791   206      Somalia  ...           CAF  2018-06-07\n",
              "57792   206        Tonga  ...           OFC  2018-06-07\n",
              "\n",
              "[57756 rows x 16 columns]"
            ]
          },
          "metadata": {},
          "execution_count": 5
        }
      ]
    },
    {
      "cell_type": "markdown",
      "source": [
        "The number of rows has significantly reduced"
      ],
      "metadata": {
        "id": "DSCd_q5HPqHE"
      }
    },
    {
      "cell_type": "code",
      "source": [
        "#checking for any anomalies of the results dataset\n",
        "col = ['date', 'home_team', 'away_team', 'home_score', 'away_score',\n",
        "       'tournament', 'city', 'country', 'neutral']\n",
        "for i in col:\n",
        "\n",
        "  u = results[i].unique()\n",
        "  print('Unique values of ', i , 'is' , u)"
      ],
      "metadata": {
        "colab": {
          "base_uri": "https://localhost:8080/"
        },
        "id": "b0dwURKqIZZ3",
        "outputId": "12429e9b-094f-48d2-b97a-b345e1a40f28"
      },
      "execution_count": 6,
      "outputs": [
        {
          "output_type": "stream",
          "name": "stdout",
          "text": [
            "Unique values of  date is ['1872-11-30' '1873-03-08' '1874-03-07' ... '2019-07-18' '2019-07-19'\n",
            " '2019-07-20']\n",
            "Unique values of  home_team is ['Scotland' 'England' 'Wales' 'Northern Ireland' 'United States' 'Uruguay'\n",
            " 'Austria' 'Hungary' 'Argentina' 'Belgium' 'France' 'Netherlands'\n",
            " 'Czechoslovakia' 'Switzerland' 'Sweden' 'Germany' 'Italy' 'Chile'\n",
            " 'Norway' 'Finland' 'Luxembourg' 'Russia' 'Denmark' 'Catalonia'\n",
            " 'Basque Country' 'Brazil' 'Japan' 'Paraguay' 'Canada' 'Estonia'\n",
            " 'Costa Rica' 'Guatemala' 'Spain' 'Brittany' 'Poland' 'Yugoslavia'\n",
            " 'New Zealand' 'Romania' 'Latvia' 'Galicia' 'Portugal' 'Andalusia'\n",
            " 'China PR' 'Australia' 'Lithuania' 'Turkey' 'Central Spain' 'Mexico'\n",
            " 'Aruba' 'Egypt' 'Haiti' 'Philippines' 'Bulgaria' 'Jamaica' 'Kenya'\n",
            " 'Bolivia' 'Peru' 'Honduras' 'Guyana' 'Uganda' 'Belarus' 'El Salvador'\n",
            " 'Barbados' 'Republic of Ireland' 'Trinidad and Tobago' 'Greece' 'Curaçao'\n",
            " 'Dominica' 'Silesia' 'Guadeloupe' 'Israel' 'Suriname' 'French Guiana'\n",
            " 'Cuba' 'Colombia' 'Ecuador' 'Saint Kitts and Nevis' 'Panama' 'Slovakia'\n",
            " 'Manchukuo' 'Croatia' 'Nicaragua' 'Afghanistan' 'India' 'Martinique'\n",
            " 'Zimbabwe' 'Iceland' 'Albania' 'Madagascar' 'Zambia' 'Mauritius'\n",
            " 'Tanzania' 'Iran' 'Djibouti' 'DR Congo' 'Vietnam' 'Macau' 'Ethiopia'\n",
            " 'Puerto Rico' 'Réunion' 'Sierra Leone' 'Zanzibar' 'South Korea' 'Ghana'\n",
            " 'South Africa' 'New Caledonia' 'Fiji' 'Nigeria' 'Venezuela' 'Burma'\n",
            " 'Sri Lanka' 'Tahiti' 'Gambia' 'Hong Kong' 'Singapore' 'Malaysia'\n",
            " 'Indonesia' 'Guinea-Bissau' 'German DR' 'Vanuatu' 'Kernow' 'Saarland'\n",
            " 'Cambodia' 'Lebanon' 'Pakistan' 'Vietnam Republic' 'North Korea' 'Togo'\n",
            " 'Sudan' 'Malta' 'Syria' 'Tunisia' 'Malawi' 'Morocco' 'Benin' 'Cameroon'\n",
            " 'Central African Republic' 'Gabon' 'Ivory Coast' 'Congo' 'Mali'\n",
            " 'North Vietnam' 'Mongolia' 'Chinese Taipei' 'Cyprus' 'Iraq' 'Saint Lucia'\n",
            " 'Grenada' 'Thailand' 'Senegal' 'Libya' 'Guinea' 'Algeria' 'Kuwait'\n",
            " 'Jordan' 'Solomon Islands' 'Liberia' 'Laos'\n",
            " 'Saint Vincent and the Grenadines' 'Bermuda' 'Niger' 'Bahrain'\n",
            " 'Montenegro' 'Palestine' 'Papua New Guinea' 'Burkina Faso' 'Mauritania'\n",
            " 'Saudi Arabia' 'Eswatini' 'Somalia' 'Lesotho' 'Cook Islands' 'Qatar'\n",
            " 'Antigua and Barbuda' 'Faroe Islands' 'Bangladesh' 'Oman' 'Yemen DPR'\n",
            " 'Burundi' 'Yemen' 'Mozambique' 'Guam' 'Chad' 'Angola'\n",
            " 'Dominican Republic' 'Seychelles' 'Rwanda' 'São Tomé and Príncipe'\n",
            " 'Botswana' 'Northern Cyprus' 'Cape Verde' 'Kyrgyzstan' 'Georgia'\n",
            " 'Azerbaijan' 'Kiribati' 'Tonga' 'Wallis Islands and Futuna'\n",
            " 'United Arab Emirates' 'Brunei' 'Equatorial Guinea' 'Liechtenstein'\n",
            " 'Nepal' 'Greenland' 'Niue' 'Samoa' 'American Samoa' 'Belize' 'Anguilla'\n",
            " 'Cayman Islands' 'Palau' 'Sint Maarten' 'Namibia' 'Åland Islands'\n",
            " 'Ynys Môn' 'Saint Martin' 'San Marino' 'Slovenia' 'Jersey' 'Shetland'\n",
            " 'Isle of Wight' 'Moldova' 'Ukraine' 'Kazakhstan' 'Tajikistan'\n",
            " 'Uzbekistan' 'Turkmenistan' 'Armenia' 'Czech Republic' 'Guernsey'\n",
            " 'Gibraltar' 'Isle of Man' 'North Macedonia' 'Montserrat' 'Serbia'\n",
            " 'Canary Islands' 'Bosnia and Herzegovina' 'Maldives' 'Andorra'\n",
            " 'British Virgin Islands' 'Frøya' 'Hitra' 'U.S. Virgin Islands' 'Corsica'\n",
            " 'Eritrea' 'Bahamas' 'Gotland' 'Saare County' 'Rhodes' 'Micronesia'\n",
            " 'Bhutan' 'Orkney' 'Monaco' 'Tuvalu' 'Sark' 'Alderney' 'Mayotte'\n",
            " 'Turks and Caicos Islands' 'East Timor' 'Western Isles'\n",
            " 'Falkland Islands' 'Kosovo' 'Republic of St. Pauli' 'Găgăuzia' 'Tibet'\n",
            " 'Crimea' 'Occitania' 'Sápmi' 'Northern Mariana Islands' 'Menorca'\n",
            " 'Comoros' 'Provence' 'Arameans Suryoye' 'Padania' 'Iraqi Kurdistan'\n",
            " 'Gozo' 'Bonaire' 'Western Sahara' 'Raetia' 'Darfur' 'Tamil Eelam'\n",
            " 'South Sudan' 'Abkhazia' 'St. Pierre & Miquelon' 'Artsakh' 'Madrid'\n",
            " 'Vatican City' 'Ellan Vannin' 'South Ossetia' 'County of Nice'\n",
            " 'Székely Land' 'Romani people' 'Felvidék' 'Chagos Islands'\n",
            " 'United Koreans in Japan' 'Somaliland' 'Western Armenia' 'Barawa'\n",
            " 'Kárpátalja' 'Yorkshire' 'Panjab' 'Matabeleland' 'Cascadia' 'Kabylia'\n",
            " 'Timor-Leste' 'Myanmar' 'Parishes of Jersey' 'Chameria' 'Saint Helena'\n",
            " 'Curacao']\n",
            "Unique values of  away_team is ['England' 'Scotland' 'Wales' 'Northern Ireland' 'Canada' 'Argentina'\n",
            " 'Hungary' 'Czechoslovakia' 'Uruguay' 'France' 'Austria' 'Switzerland'\n",
            " 'Netherlands' 'Belgium' 'Germany' 'Norway' 'Sweden' 'Italy' 'Chile'\n",
            " 'Catalonia' 'Finland' 'Russia' 'Luxembourg' 'Denmark' 'Brazil'\n",
            " 'Basque Country' 'United States' 'Philippines' 'Estonia' 'Provence'\n",
            " 'El Salvador' 'Costa Rica' 'Paraguay' 'Yugoslavia' 'Poland' 'Portugal'\n",
            " 'Spain' 'Romania' 'Australia' 'Central Spain' 'Mexico' 'Galicia'\n",
            " 'Brittany' 'Asturias' 'China PR' 'New Zealand' 'Latvia' 'Guatemala'\n",
            " 'Curaçao' 'Bulgaria' 'Lithuania' 'Turkey' 'Egypt' 'South Africa'\n",
            " 'Jamaica' 'Japan' 'Republic of Ireland' 'Uganda' 'Bolivia' 'Haiti'\n",
            " 'Trinidad and Tobago' 'Kenya' 'Ukraine' 'Honduras' 'Nicaragua' 'Greece'\n",
            " 'Guyana' 'Peru' 'Aruba' 'Martinique' 'Barbados' 'Cuba' 'Israel'\n",
            " 'Indonesia' 'Suriname' 'Saint Lucia' 'Ecuador' 'Venezuela' 'Grenada'\n",
            " 'India' 'Panama' 'Slovakia' 'Croatia' 'Lebanon' 'Manchukuo' 'Puerto Rico'\n",
            " 'Iran' 'Guadeloupe' 'Mongolia' 'Colombia' 'Tanzania' 'Zambia'\n",
            " 'Montenegro' 'Mauritius' 'Zimbabwe' 'French Guiana' 'Réunion' 'Albania'\n",
            " 'Zanzibar' 'Ethiopia' 'Madagascar' 'Dominica' 'South Korea' 'Djibouti'\n",
            " 'Dominican Republic' 'Cyprus' 'Iceland' 'Nigeria' 'Syria' 'DR Congo'\n",
            " 'Serbia' 'Chinese Taipei' 'Afghanistan' 'Vanuatu' 'Ghana' 'Pakistan'\n",
            " 'German DR' 'Sierra Leone' 'Guinea-Bissau' 'Gambia' 'Saarland' 'Tahiti'\n",
            " 'Burundi' 'Sri Lanka' 'Thailand' 'Burma' 'New Caledonia' 'Cambodia'\n",
            " 'Malaysia' 'Vietnam Republic' 'Kyrgyzstan' 'Belarus' 'Moldova'\n",
            " 'North Vietnam' 'Togo' 'North Korea' 'Sudan' 'Libya' 'Hong Kong'\n",
            " 'Singapore' 'Malta' 'Benin' 'Cape Verde' 'Mali' 'Burkina Faso'\n",
            " 'Ivory Coast' 'Cameroon' 'Iraq' 'Tunisia' 'Morocco'\n",
            " 'Saint Vincent and the Grenadines' 'Guinea' 'Congo' 'Gabon' 'Malawi'\n",
            " 'Jordan' 'Senegal' 'Kuwait' 'Papua New Guinea' 'Solomon Islands'\n",
            " 'Liberia' 'Somalia' 'Laos' 'Saudi Arabia' 'Algeria' 'Chad'\n",
            " 'Central African Republic' 'Bermuda' 'Palestine' 'Yemen' 'Bahrain'\n",
            " 'Wallis Islands and Futuna' 'Niger' 'Corsica' 'Western Australia'\n",
            " 'Botswana' 'Fiji' 'Eswatini' 'Qatar' 'Lesotho' 'Bahamas' 'Brunei'\n",
            " 'Cook Islands' 'Yemen DPR' 'United Arab Emirates' 'Faroe Islands' 'Nepal'\n",
            " 'Antigua and Barbuda' 'Bangladesh' 'Seychelles' 'Oman'\n",
            " 'Equatorial Guinea' 'Mozambique' 'Mauritania' 'Angola'\n",
            " 'São Tomé and Príncipe' 'Macau' 'Saint Kitts and Nevis' 'Armenia'\n",
            " 'Kazakhstan' 'Tonga' 'Kiribati' 'Tuvalu' 'Samoa' 'Greenland'\n",
            " 'Northern Cyprus' 'Rwanda' 'Liechtenstein' 'Bhutan' 'American Samoa'\n",
            " 'Cayman Islands' 'British Virgin Islands' 'Sint Maarten' 'Ynys Môn'\n",
            " 'Shetland' 'Åland Islands' 'Saint Martin' 'San Marino' 'Montserrat'\n",
            " 'Anguilla' 'Guernsey' 'Isle of Wight' 'Jersey' 'Georgia' 'Guam'\n",
            " 'Turkmenistan' 'Slovenia' 'Uzbekistan' 'Eritrea' 'Tajikistan' 'Namibia'\n",
            " 'Azerbaijan' 'Czech Republic' 'Vietnam' 'Isle of Man' 'Gibraltar'\n",
            " 'North Macedonia' 'Belize' 'Bosnia and Herzegovina' 'Maldives' 'Andorra'\n",
            " 'Frøya' 'Hitra' 'Northern Mariana Islands' 'Kernow'\n",
            " 'Turks and Caicos Islands' 'U.S. Virgin Islands' 'Micronesia'\n",
            " 'Saare County' 'Rhodes' 'Tibet' 'Orkney' 'Falkland Islands' 'Mayotte'\n",
            " 'Monaco' 'Vatican City' 'East Timor' 'Gotland' 'Alderney' 'Sark'\n",
            " 'Western Isles' 'Sápmi' 'Crimea' 'Comoros' 'Menorca' 'Iraqi Kurdistan'\n",
            " 'Padania' 'Arameans Suryoye' 'Occitania' 'Gozo' 'Two Sicilies'\n",
            " 'St. Pierre & Miquelon' 'Bonaire' 'Western Sahara' 'Raetia' 'Darfur'\n",
            " 'Tamil Eelam' 'Artsakh' 'Abkhazia' 'South Sudan' 'Andalusia'\n",
            " 'South Ossetia' 'County of Nice' 'Ellan Vannin' 'Romani people'\n",
            " 'Felvidék' 'Chagos Islands' 'Székely Land' 'Somaliland' 'Western Armenia'\n",
            " 'Panjab' 'Kosovo' 'Kárpátalja' 'Yorkshire' 'Surrey' 'Cascadia'\n",
            " 'Matabeleland' 'Kabylia' 'United Koreans in Japan' 'Timor-Leste'\n",
            " 'Myanmar' 'Barawa' 'Parishes of Jersey' 'Chameria' 'Saint Helena'\n",
            " 'Curacao']\n",
            "Unique values of  home_score is [ 0  4  2  3  1  7  9  5  6  8 11 13 12 10 15 14 30 24 18 16 19 20 17 22\n",
            " 31 21]\n",
            "Unique values of  away_score is [ 0  2  1  3  4  6  5 13  8  7 10  9 11 12 15 18 16 14 19 20 17 21]\n",
            "Unique values of  tournament is ['Friendly' 'British Championship' 'Copa Lipton' 'Copa Newton'\n",
            " 'Copa Premio Honor Argentino' 'Copa Premio Honor Uruguayo' 'Copa Roca'\n",
            " 'Copa América' 'Copa Chevallier Boutell' 'Nordic Championship'\n",
            " 'International Cup' 'Baltic Cup' 'Balkan Cup' 'FIFA World Cup'\n",
            " 'Copa Rio Branco' 'FIFA World Cup qualification' 'CCCF Championship'\n",
            " 'NAFU Championship' 'Copa Oswaldo Cruz' 'Pan American Championship'\n",
            " 'Copa del Pacífico' \"Copa Bernardo O'Higgins\"\n",
            " 'AFC Asian Cup qualification' 'Atlantic Cup' 'AFC Asian Cup'\n",
            " 'African Cup of Nations' 'Copa Paz del Chaco' 'Merdeka Tournament'\n",
            " 'UEFA Euro qualification' 'UEFA Euro' 'Windward Islands Tournament'\n",
            " 'African Cup of Nations qualification' 'Vietnam Independence Cup'\n",
            " 'Copa Carlos Dittborn' 'CONCACAF Championship' 'Copa Juan Pinto Durán'\n",
            " 'UAFA Cup' 'South Pacific Games' 'CONCACAF Championship qualification'\n",
            " 'Copa Artigas' 'GaNEFo' \"King's Cup\" 'Gulf Cup' 'Indonesia Tournament'\n",
            " 'Korea Cup' 'Brazil Independence Cup' 'Copa Ramón Castilla'\n",
            " 'Oceania Nations Cup' 'CECAFA Cup' 'Copa Félix Bogado' 'Kirin Cup'\n",
            " 'CFU Caribbean Cup qualification' 'CFU Caribbean Cup'\n",
            " 'Amílcar Cabral Cup' 'Mundialito' 'West African Cup' 'Nehru Cup'\n",
            " 'Merlion Cup' 'UDEAC Cup' 'Rous Cup' 'Lunar New Year Cup'\n",
            " 'Tournoi de France' 'Malta International Tournament' 'Island Games'\n",
            " 'Dynasty Cup' 'UNCAF Cup' 'Gold Cup' 'USA Cup'\n",
            " 'Jordan International Tournament' 'Confederations Cup'\n",
            " 'United Arab Emirates Friendship Tournament'\n",
            " 'Oceania Nations Cup qualification' 'Simba Tournament' 'SAFF Cup'\n",
            " 'AFF Championship' 'King Hassan II Tournament'\n",
            " 'Cyprus International Tournament' 'Dunhill Cup' 'COSAFA Cup'\n",
            " 'Gold Cup qualification' 'SKN Football Festival' 'UNIFFAC Cup'\n",
            " 'WAFF Championship' 'Millennium Cup' \"Prime Minister's Cup\"\n",
            " 'EAFF Championship' 'AFC Challenge Cup' 'FIFI Wild Cup' 'ELF Cup'\n",
            " 'Viva World Cup' 'UAFA Cup qualification'\n",
            " 'AFC Challenge Cup qualification' 'African Nations Championship'\n",
            " 'VFF Cup' 'Dragon Cup' 'ABCS Tournament' 'Nile Basin Tournament'\n",
            " 'Nations Cup' 'Pacific Games' 'OSN Cup' 'CONIFA World Football Cup'\n",
            " 'CONIFA European Football Cup' 'Copa América qualification'\n",
            " 'World Unity Cup' 'Intercontinental Cup' 'AFF Championship qualification'\n",
            " 'UEFA Nations League' 'Atlantic Heritage Cup'\n",
            " 'Inter Games Football Tournament']\n",
            "Unique values of  city is ['Glasgow' 'London' 'Wrexham' ... 'New Jersey' 'Ahmedabad' 'Ismaila']\n",
            "Unique values of  country is ['Scotland' 'England' 'Wales' 'Republic of Ireland' 'United States'\n",
            " 'Uruguay' 'Austria' 'Hungary' 'Argentina' 'Belgium' 'France'\n",
            " 'Netherlands' 'Bohemia' 'Switzerland' 'Sweden' 'Germany' 'Italy' 'Chile'\n",
            " 'Norway' 'Finland' 'Luxembourg' 'Russia' 'Denmark' 'Spain' 'Japan'\n",
            " 'Brazil' 'Paraguay' 'China PR' 'Canada' 'Estonia' 'Guatemala'\n",
            " 'Czechoslovakia' 'Poland' 'Yugoslavia' 'New Zealand' 'Romania' 'Latvia'\n",
            " 'Portugal' 'Northern Ireland' 'Australia' 'Lithuania' 'Turkey' 'Mexico'\n",
            " 'Aruba' 'Soviet Union' 'Haiti' 'Philippines' 'Bulgaria' 'Jamaica' 'Kenya'\n",
            " 'Czech Republic' 'Peru' 'Honduras' 'British Guyana' 'Uganda'\n",
            " 'El Salvador' 'Barbados' 'Irish Free State' 'Trinidad and Tobago'\n",
            " 'Greece' 'Curaçao' 'Egypt' 'Dominica' 'Guadeloupe' 'Palestine'\n",
            " 'Netherlands Guyana' 'French Guiana' 'Cuba' 'Colombia'\n",
            " 'Saint Kitts and Nevis' 'Éire' 'Panama' 'Bohemia and Moravia' 'Slovakia'\n",
            " 'Manchuria' 'Croatia' 'Costa Rica' 'Afghanistan' 'Martinique'\n",
            " 'Southern Rhodesia' 'Iceland' 'Albania' 'Madagascar' 'Northern Rhodesia'\n",
            " 'Tanganyika' 'Iran' 'Ecuador' 'French Somaliland' 'Belgian Congo'\n",
            " 'Mauritius' 'Hong Kong' 'Vietnam' 'Macau' 'Ethiopia' 'Suriname'\n",
            " 'Puerto Rico' 'Réunion' 'Israel' 'Sierra Leone' 'Zanzibar' 'Bolivia'\n",
            " 'Gold Coast' 'South Africa' 'Netherlands Antilles' 'New Caledonia' 'Fiji'\n",
            " 'Nigeria' 'Venezuela' 'Ceylon' 'French Polynesia' 'Gambia' 'Singapore'\n",
            " 'Portuguese Guinea' 'German DR' 'New Hebrides' 'Burma' 'Saarland'\n",
            " 'Cambodia' 'India' 'Lebanon' 'Pakistan' 'Malaya' 'South Korea'\n",
            " 'Vietnam Republic' 'Togo' 'Indonesia' 'Sudan' 'Malta' 'Syria' 'Tunisia'\n",
            " 'Nyasaland' 'Ghana' 'Morocco' 'United Arab Republic' 'North Korea'\n",
            " 'Dahomey' 'Guinea-Bissau' 'Mali Federation' 'Mali' 'Vietnam DR' 'Cyprus'\n",
            " 'Iraq' 'Saint Lucia' 'Senegal' 'Libya' 'Gabon' 'Thailand' 'Congo'\n",
            " 'Tanzania' 'Grenada' 'Guinea' 'Central African Republic' 'Cameroon'\n",
            " 'Algeria' 'Kuwait' 'Ivory Coast' 'Lautoka' 'Liberia' 'Malaysia' 'Jordan'\n",
            " 'Zambia' 'Saint Vincent and the Grenadines' 'Bermuda' 'Niger' 'Malawi'\n",
            " 'DR Congo' 'Upper Volta' 'Chinese Taipei' 'Guyana' 'Mauritania'\n",
            " 'Rhodesia' 'Saudi Arabia' 'Eswatini' 'Mozambique' 'Papua New Guinea'\n",
            " 'Bahrain' 'Lesotho' 'Somalia' 'Zaïre' 'Sri Lanka' 'Antigua and Barbuda'\n",
            " 'Faroe Islands' 'Qatar' 'Yemen DPR' 'Burundi' 'Guam' 'Chad' 'Angola'\n",
            " 'Dominican Republic' 'Seychelles' 'São Tomé and Príncipe' 'Botswana'\n",
            " 'Benin' 'Rwanda' 'Bangladesh' 'United Arab Emirates' 'Zimbabwe' 'Oman'\n",
            " 'Equatorial Guinea' 'Cape Verde' 'Liechtenstein' 'Nepal' 'Greenland'\n",
            " 'Vanuatu' 'Western Samoa' 'Belize' 'Brunei' 'Djibouti' 'Burkina Faso'\n",
            " 'Yemen AR' 'Anguilla' 'Nicaragua' 'Cayman Islands' 'Monaco'\n",
            " 'Solomon Islands' 'Sint Maarten' 'Namibia' 'Saint Martin' 'San Marino'\n",
            " 'Slovenia' 'Moldova' 'Ukraine' 'Kazakhstan' 'Tajikistan' 'Uzbekistan'\n",
            " 'Turkmenistan' 'Georgia' 'Kyrgyzstan' 'Armenia' 'Belarus' 'Guernsey'\n",
            " 'Azerbaijan' 'North Macedonia' 'Jersey' 'Montserrat' 'Gibraltar'\n",
            " 'Bosnia and Herzegovina' 'Tonga' 'Andorra' 'Yemen' 'U.S. Virgin Islands'\n",
            " 'Palau' 'Cook Islands' 'British Virgin Islands' 'Eritrea' 'Bahamas'\n",
            " 'Micronesia' 'Maldives' 'Laos' 'Isle of Man' 'Samoa' 'Bhutan'\n",
            " 'Serbia and Montenegro' 'Mayotte' 'Mongolia' 'Northern Cyprus' 'Serbia'\n",
            " 'Montenegro' 'Northern Mariana Islands' 'Comoros'\n",
            " 'Turks and Caicos Islands' 'South Sudan' 'Kosovo' 'East Timor' 'Tahiti'\n",
            " 'Myanmar']\n",
            "Unique values of  neutral is [False  True]\n"
          ]
        }
      ]
    },
    {
      "cell_type": "code",
      "source": [
        "# Drop columns that we will not use in our analysis\n",
        "fifa_ranking.drop(['country_abrv','cur_year_avg_weighted', 'last_year_avg', 'last_year_avg_weighted',\n",
        "       'two_year_ago_avg', 'two_year_ago_weighted', 'three_year_ago_avg',\n",
        "       'three_year_ago_weighted','rank_date'],axis=1, inplace=True)\n",
        "# Confirm changes\n",
        "fifa_ranking.head(2)\n"
      ],
      "metadata": {
        "colab": {
          "base_uri": "https://localhost:8080/",
          "height": 112
        },
        "id": "SaRQwH2TK1I9",
        "outputId": "0a2af00e-d2cc-4fb9-deb7-c76f9ead1e0c"
      },
      "execution_count": 3,
      "outputs": [
        {
          "output_type": "execute_result",
          "data": {
            "text/html": [
              "\n",
              "  <div id=\"df-c3770aaf-14aa-4b65-b24e-b7244038c8e7\">\n",
              "    <div class=\"colab-df-container\">\n",
              "      <div>\n",
              "<style scoped>\n",
              "    .dataframe tbody tr th:only-of-type {\n",
              "        vertical-align: middle;\n",
              "    }\n",
              "\n",
              "    .dataframe tbody tr th {\n",
              "        vertical-align: top;\n",
              "    }\n",
              "\n",
              "    .dataframe thead th {\n",
              "        text-align: right;\n",
              "    }\n",
              "</style>\n",
              "<table border=\"1\" class=\"dataframe\">\n",
              "  <thead>\n",
              "    <tr style=\"text-align: right;\">\n",
              "      <th></th>\n",
              "      <th>rank</th>\n",
              "      <th>country_full</th>\n",
              "      <th>total_points</th>\n",
              "      <th>previous_points</th>\n",
              "      <th>rank_change</th>\n",
              "      <th>cur_year_avg</th>\n",
              "      <th>confederation</th>\n",
              "    </tr>\n",
              "  </thead>\n",
              "  <tbody>\n",
              "    <tr>\n",
              "      <th>0</th>\n",
              "      <td>1</td>\n",
              "      <td>Germany</td>\n",
              "      <td>0.0</td>\n",
              "      <td>57</td>\n",
              "      <td>0</td>\n",
              "      <td>0.0</td>\n",
              "      <td>UEFA</td>\n",
              "    </tr>\n",
              "    <tr>\n",
              "      <th>1</th>\n",
              "      <td>2</td>\n",
              "      <td>Italy</td>\n",
              "      <td>0.0</td>\n",
              "      <td>57</td>\n",
              "      <td>0</td>\n",
              "      <td>0.0</td>\n",
              "      <td>UEFA</td>\n",
              "    </tr>\n",
              "  </tbody>\n",
              "</table>\n",
              "</div>\n",
              "      <button class=\"colab-df-convert\" onclick=\"convertToInteractive('df-c3770aaf-14aa-4b65-b24e-b7244038c8e7')\"\n",
              "              title=\"Convert this dataframe to an interactive table.\"\n",
              "              style=\"display:none;\">\n",
              "        \n",
              "  <svg xmlns=\"http://www.w3.org/2000/svg\" height=\"24px\"viewBox=\"0 0 24 24\"\n",
              "       width=\"24px\">\n",
              "    <path d=\"M0 0h24v24H0V0z\" fill=\"none\"/>\n",
              "    <path d=\"M18.56 5.44l.94 2.06.94-2.06 2.06-.94-2.06-.94-.94-2.06-.94 2.06-2.06.94zm-11 1L8.5 8.5l.94-2.06 2.06-.94-2.06-.94L8.5 2.5l-.94 2.06-2.06.94zm10 10l.94 2.06.94-2.06 2.06-.94-2.06-.94-.94-2.06-.94 2.06-2.06.94z\"/><path d=\"M17.41 7.96l-1.37-1.37c-.4-.4-.92-.59-1.43-.59-.52 0-1.04.2-1.43.59L10.3 9.45l-7.72 7.72c-.78.78-.78 2.05 0 2.83L4 21.41c.39.39.9.59 1.41.59.51 0 1.02-.2 1.41-.59l7.78-7.78 2.81-2.81c.8-.78.8-2.07 0-2.86zM5.41 20L4 18.59l7.72-7.72 1.47 1.35L5.41 20z\"/>\n",
              "  </svg>\n",
              "      </button>\n",
              "      \n",
              "  <style>\n",
              "    .colab-df-container {\n",
              "      display:flex;\n",
              "      flex-wrap:wrap;\n",
              "      gap: 12px;\n",
              "    }\n",
              "\n",
              "    .colab-df-convert {\n",
              "      background-color: #E8F0FE;\n",
              "      border: none;\n",
              "      border-radius: 50%;\n",
              "      cursor: pointer;\n",
              "      display: none;\n",
              "      fill: #1967D2;\n",
              "      height: 32px;\n",
              "      padding: 0 0 0 0;\n",
              "      width: 32px;\n",
              "    }\n",
              "\n",
              "    .colab-df-convert:hover {\n",
              "      background-color: #E2EBFA;\n",
              "      box-shadow: 0px 1px 2px rgba(60, 64, 67, 0.3), 0px 1px 3px 1px rgba(60, 64, 67, 0.15);\n",
              "      fill: #174EA6;\n",
              "    }\n",
              "\n",
              "    [theme=dark] .colab-df-convert {\n",
              "      background-color: #3B4455;\n",
              "      fill: #D2E3FC;\n",
              "    }\n",
              "\n",
              "    [theme=dark] .colab-df-convert:hover {\n",
              "      background-color: #434B5C;\n",
              "      box-shadow: 0px 1px 3px 1px rgba(0, 0, 0, 0.15);\n",
              "      filter: drop-shadow(0px 1px 2px rgba(0, 0, 0, 0.3));\n",
              "      fill: #FFFFFF;\n",
              "    }\n",
              "  </style>\n",
              "\n",
              "      <script>\n",
              "        const buttonEl =\n",
              "          document.querySelector('#df-c3770aaf-14aa-4b65-b24e-b7244038c8e7 button.colab-df-convert');\n",
              "        buttonEl.style.display =\n",
              "          google.colab.kernel.accessAllowed ? 'block' : 'none';\n",
              "\n",
              "        async function convertToInteractive(key) {\n",
              "          const element = document.querySelector('#df-c3770aaf-14aa-4b65-b24e-b7244038c8e7');\n",
              "          const dataTable =\n",
              "            await google.colab.kernel.invokeFunction('convertToInteractive',\n",
              "                                                     [key], {});\n",
              "          if (!dataTable) return;\n",
              "\n",
              "          const docLinkHtml = 'Like what you see? Visit the ' +\n",
              "            '<a target=\"_blank\" href=https://colab.research.google.com/notebooks/data_table.ipynb>data table notebook</a>'\n",
              "            + ' to learn more about interactive tables.';\n",
              "          element.innerHTML = '';\n",
              "          dataTable['output_type'] = 'display_data';\n",
              "          await google.colab.output.renderOutput(dataTable, element);\n",
              "          const docLink = document.createElement('div');\n",
              "          docLink.innerHTML = docLinkHtml;\n",
              "          element.appendChild(docLink);\n",
              "        }\n",
              "      </script>\n",
              "    </div>\n",
              "  </div>\n",
              "  "
            ],
            "text/plain": [
              "   rank country_full  total_points  ...  rank_change  cur_year_avg  confederation\n",
              "0     1      Germany           0.0  ...            0           0.0           UEFA\n",
              "1     2        Italy           0.0  ...            0           0.0           UEFA\n",
              "\n",
              "[2 rows x 7 columns]"
            ]
          },
          "metadata": {},
          "execution_count": 3
        }
      ]
    },
    {
      "cell_type": "code",
      "source": [
        "# Drop columns that we will not use in our analysis\n",
        "results.drop(['neutral'],axis=1, inplace=True)\n",
        "# Confirm changes\n",
        "results.head(2)"
      ],
      "metadata": {
        "id": "J4ghaAgdQ07V",
        "colab": {
          "base_uri": "https://localhost:8080/",
          "height": 112
        },
        "outputId": "4a96d42e-5afb-4c65-c94a-179dfe936a74"
      },
      "execution_count": 6,
      "outputs": [
        {
          "output_type": "execute_result",
          "data": {
            "text/html": [
              "\n",
              "  <div id=\"df-5431f225-b43e-4b5a-9151-7a71669edc37\">\n",
              "    <div class=\"colab-df-container\">\n",
              "      <div>\n",
              "<style scoped>\n",
              "    .dataframe tbody tr th:only-of-type {\n",
              "        vertical-align: middle;\n",
              "    }\n",
              "\n",
              "    .dataframe tbody tr th {\n",
              "        vertical-align: top;\n",
              "    }\n",
              "\n",
              "    .dataframe thead th {\n",
              "        text-align: right;\n",
              "    }\n",
              "</style>\n",
              "<table border=\"1\" class=\"dataframe\">\n",
              "  <thead>\n",
              "    <tr style=\"text-align: right;\">\n",
              "      <th></th>\n",
              "      <th>date</th>\n",
              "      <th>home_team</th>\n",
              "      <th>away_team</th>\n",
              "      <th>home_score</th>\n",
              "      <th>away_score</th>\n",
              "      <th>tournament</th>\n",
              "      <th>city</th>\n",
              "      <th>country</th>\n",
              "    </tr>\n",
              "  </thead>\n",
              "  <tbody>\n",
              "    <tr>\n",
              "      <th>0</th>\n",
              "      <td>1872-11-30</td>\n",
              "      <td>Scotland</td>\n",
              "      <td>England</td>\n",
              "      <td>0</td>\n",
              "      <td>0</td>\n",
              "      <td>Friendly</td>\n",
              "      <td>Glasgow</td>\n",
              "      <td>Scotland</td>\n",
              "    </tr>\n",
              "    <tr>\n",
              "      <th>1</th>\n",
              "      <td>1873-03-08</td>\n",
              "      <td>England</td>\n",
              "      <td>Scotland</td>\n",
              "      <td>4</td>\n",
              "      <td>2</td>\n",
              "      <td>Friendly</td>\n",
              "      <td>London</td>\n",
              "      <td>England</td>\n",
              "    </tr>\n",
              "  </tbody>\n",
              "</table>\n",
              "</div>\n",
              "      <button class=\"colab-df-convert\" onclick=\"convertToInteractive('df-5431f225-b43e-4b5a-9151-7a71669edc37')\"\n",
              "              title=\"Convert this dataframe to an interactive table.\"\n",
              "              style=\"display:none;\">\n",
              "        \n",
              "  <svg xmlns=\"http://www.w3.org/2000/svg\" height=\"24px\"viewBox=\"0 0 24 24\"\n",
              "       width=\"24px\">\n",
              "    <path d=\"M0 0h24v24H0V0z\" fill=\"none\"/>\n",
              "    <path d=\"M18.56 5.44l.94 2.06.94-2.06 2.06-.94-2.06-.94-.94-2.06-.94 2.06-2.06.94zm-11 1L8.5 8.5l.94-2.06 2.06-.94-2.06-.94L8.5 2.5l-.94 2.06-2.06.94zm10 10l.94 2.06.94-2.06 2.06-.94-2.06-.94-.94-2.06-.94 2.06-2.06.94z\"/><path d=\"M17.41 7.96l-1.37-1.37c-.4-.4-.92-.59-1.43-.59-.52 0-1.04.2-1.43.59L10.3 9.45l-7.72 7.72c-.78.78-.78 2.05 0 2.83L4 21.41c.39.39.9.59 1.41.59.51 0 1.02-.2 1.41-.59l7.78-7.78 2.81-2.81c.8-.78.8-2.07 0-2.86zM5.41 20L4 18.59l7.72-7.72 1.47 1.35L5.41 20z\"/>\n",
              "  </svg>\n",
              "      </button>\n",
              "      \n",
              "  <style>\n",
              "    .colab-df-container {\n",
              "      display:flex;\n",
              "      flex-wrap:wrap;\n",
              "      gap: 12px;\n",
              "    }\n",
              "\n",
              "    .colab-df-convert {\n",
              "      background-color: #E8F0FE;\n",
              "      border: none;\n",
              "      border-radius: 50%;\n",
              "      cursor: pointer;\n",
              "      display: none;\n",
              "      fill: #1967D2;\n",
              "      height: 32px;\n",
              "      padding: 0 0 0 0;\n",
              "      width: 32px;\n",
              "    }\n",
              "\n",
              "    .colab-df-convert:hover {\n",
              "      background-color: #E2EBFA;\n",
              "      box-shadow: 0px 1px 2px rgba(60, 64, 67, 0.3), 0px 1px 3px 1px rgba(60, 64, 67, 0.15);\n",
              "      fill: #174EA6;\n",
              "    }\n",
              "\n",
              "    [theme=dark] .colab-df-convert {\n",
              "      background-color: #3B4455;\n",
              "      fill: #D2E3FC;\n",
              "    }\n",
              "\n",
              "    [theme=dark] .colab-df-convert:hover {\n",
              "      background-color: #434B5C;\n",
              "      box-shadow: 0px 1px 3px 1px rgba(0, 0, 0, 0.15);\n",
              "      filter: drop-shadow(0px 1px 2px rgba(0, 0, 0, 0.3));\n",
              "      fill: #FFFFFF;\n",
              "    }\n",
              "  </style>\n",
              "\n",
              "      <script>\n",
              "        const buttonEl =\n",
              "          document.querySelector('#df-5431f225-b43e-4b5a-9151-7a71669edc37 button.colab-df-convert');\n",
              "        buttonEl.style.display =\n",
              "          google.colab.kernel.accessAllowed ? 'block' : 'none';\n",
              "\n",
              "        async function convertToInteractive(key) {\n",
              "          const element = document.querySelector('#df-5431f225-b43e-4b5a-9151-7a71669edc37');\n",
              "          const dataTable =\n",
              "            await google.colab.kernel.invokeFunction('convertToInteractive',\n",
              "                                                     [key], {});\n",
              "          if (!dataTable) return;\n",
              "\n",
              "          const docLinkHtml = 'Like what you see? Visit the ' +\n",
              "            '<a target=\"_blank\" href=https://colab.research.google.com/notebooks/data_table.ipynb>data table notebook</a>'\n",
              "            + ' to learn more about interactive tables.';\n",
              "          element.innerHTML = '';\n",
              "          dataTable['output_type'] = 'display_data';\n",
              "          await google.colab.output.renderOutput(dataTable, element);\n",
              "          const docLink = document.createElement('div');\n",
              "          docLink.innerHTML = docLinkHtml;\n",
              "          element.appendChild(docLink);\n",
              "        }\n",
              "      </script>\n",
              "    </div>\n",
              "  </div>\n",
              "  "
            ],
            "text/plain": [
              "         date home_team away_team  ...  tournament     city   country\n",
              "0  1872-11-30  Scotland   England  ...    Friendly  Glasgow  Scotland\n",
              "1  1873-03-08   England  Scotland  ...    Friendly   London   England\n",
              "\n",
              "[2 rows x 8 columns]"
            ]
          },
          "metadata": {},
          "execution_count": 6
        }
      ]
    },
    {
      "cell_type": "markdown",
      "source": [
        "We have dropped the columns from the fifa and resuslts datasets to enbale us to merge them into one."
      ],
      "metadata": {
        "id": "nYxx1H1MSBl2"
      }
    },
    {
      "cell_type": "code",
      "source": [
        "#Renaming some column names in the fifa dataset\n",
        "fifa_ranking  = fifa_ranking.rename(columns={\"country_full\":\"country\"})\n",
        "print(fifa_ranking.head(2))"
      ],
      "metadata": {
        "colab": {
          "base_uri": "https://localhost:8080/"
        },
        "id": "YSNRR8UsR5PC",
        "outputId": "c4d0358a-94ab-4fc8-e6bd-7800e37e577c"
      },
      "execution_count": 7,
      "outputs": [
        {
          "output_type": "stream",
          "name": "stdout",
          "text": [
            "   rank  country  total_points  ...  rank_change  cur_year_avg  confederation\n",
            "0     1  Germany           0.0  ...            0           0.0           UEFA\n",
            "1     2    Italy           0.0  ...            0           0.0           UEFA\n",
            "\n",
            "[2 rows x 7 columns]\n"
          ]
        }
      ]
    },
    {
      "cell_type": "code",
      "source": [
        "#Merging the datasets using the country column\n",
        "prediction_df = pd.merge(fifa_ranking, results, how = 'left', left_on = ['country'], right_on = ['country'] )\n",
        "prediction_df.head(4)"
      ],
      "metadata": {
        "colab": {
          "base_uri": "https://localhost:8080/",
          "height": 308
        },
        "id": "Vh_E9ycwUAKl",
        "outputId": "79b873c5-7c21-4915-eb2a-db5ac2cdb56c"
      },
      "execution_count": 8,
      "outputs": [
        {
          "output_type": "execute_result",
          "data": {
            "text/html": [
              "\n",
              "  <div id=\"df-335ce929-2bfc-4eaa-b88d-17939da699ed\">\n",
              "    <div class=\"colab-df-container\">\n",
              "      <div>\n",
              "<style scoped>\n",
              "    .dataframe tbody tr th:only-of-type {\n",
              "        vertical-align: middle;\n",
              "    }\n",
              "\n",
              "    .dataframe tbody tr th {\n",
              "        vertical-align: top;\n",
              "    }\n",
              "\n",
              "    .dataframe thead th {\n",
              "        text-align: right;\n",
              "    }\n",
              "</style>\n",
              "<table border=\"1\" class=\"dataframe\">\n",
              "  <thead>\n",
              "    <tr style=\"text-align: right;\">\n",
              "      <th></th>\n",
              "      <th>rank</th>\n",
              "      <th>country</th>\n",
              "      <th>total_points</th>\n",
              "      <th>previous_points</th>\n",
              "      <th>rank_change</th>\n",
              "      <th>cur_year_avg</th>\n",
              "      <th>confederation</th>\n",
              "      <th>date</th>\n",
              "      <th>home_team</th>\n",
              "      <th>away_team</th>\n",
              "      <th>home_score</th>\n",
              "      <th>away_score</th>\n",
              "      <th>tournament</th>\n",
              "      <th>city</th>\n",
              "    </tr>\n",
              "  </thead>\n",
              "  <tbody>\n",
              "    <tr>\n",
              "      <th>0</th>\n",
              "      <td>1</td>\n",
              "      <td>Germany</td>\n",
              "      <td>0.0</td>\n",
              "      <td>57</td>\n",
              "      <td>0</td>\n",
              "      <td>0.0</td>\n",
              "      <td>UEFA</td>\n",
              "      <td>1909-04-04</td>\n",
              "      <td>Germany</td>\n",
              "      <td>Switzerland</td>\n",
              "      <td>1.0</td>\n",
              "      <td>0.0</td>\n",
              "      <td>Friendly</td>\n",
              "      <td>Karlsruhe</td>\n",
              "    </tr>\n",
              "    <tr>\n",
              "      <th>1</th>\n",
              "      <td>1</td>\n",
              "      <td>Germany</td>\n",
              "      <td>0.0</td>\n",
              "      <td>57</td>\n",
              "      <td>0</td>\n",
              "      <td>0.0</td>\n",
              "      <td>UEFA</td>\n",
              "      <td>1910-05-16</td>\n",
              "      <td>Germany</td>\n",
              "      <td>Belgium</td>\n",
              "      <td>0.0</td>\n",
              "      <td>3.0</td>\n",
              "      <td>Friendly</td>\n",
              "      <td>Duisburg</td>\n",
              "    </tr>\n",
              "    <tr>\n",
              "      <th>2</th>\n",
              "      <td>1</td>\n",
              "      <td>Germany</td>\n",
              "      <td>0.0</td>\n",
              "      <td>57</td>\n",
              "      <td>0</td>\n",
              "      <td>0.0</td>\n",
              "      <td>UEFA</td>\n",
              "      <td>1910-10-16</td>\n",
              "      <td>Germany</td>\n",
              "      <td>Netherlands</td>\n",
              "      <td>1.0</td>\n",
              "      <td>2.0</td>\n",
              "      <td>Friendly</td>\n",
              "      <td>Kleve</td>\n",
              "    </tr>\n",
              "    <tr>\n",
              "      <th>3</th>\n",
              "      <td>1</td>\n",
              "      <td>Germany</td>\n",
              "      <td>0.0</td>\n",
              "      <td>57</td>\n",
              "      <td>0</td>\n",
              "      <td>0.0</td>\n",
              "      <td>UEFA</td>\n",
              "      <td>1911-03-26</td>\n",
              "      <td>Germany</td>\n",
              "      <td>Switzerland</td>\n",
              "      <td>6.0</td>\n",
              "      <td>2.0</td>\n",
              "      <td>Friendly</td>\n",
              "      <td>Stuttgart</td>\n",
              "    </tr>\n",
              "  </tbody>\n",
              "</table>\n",
              "</div>\n",
              "      <button class=\"colab-df-convert\" onclick=\"convertToInteractive('df-335ce929-2bfc-4eaa-b88d-17939da699ed')\"\n",
              "              title=\"Convert this dataframe to an interactive table.\"\n",
              "              style=\"display:none;\">\n",
              "        \n",
              "  <svg xmlns=\"http://www.w3.org/2000/svg\" height=\"24px\"viewBox=\"0 0 24 24\"\n",
              "       width=\"24px\">\n",
              "    <path d=\"M0 0h24v24H0V0z\" fill=\"none\"/>\n",
              "    <path d=\"M18.56 5.44l.94 2.06.94-2.06 2.06-.94-2.06-.94-.94-2.06-.94 2.06-2.06.94zm-11 1L8.5 8.5l.94-2.06 2.06-.94-2.06-.94L8.5 2.5l-.94 2.06-2.06.94zm10 10l.94 2.06.94-2.06 2.06-.94-2.06-.94-.94-2.06-.94 2.06-2.06.94z\"/><path d=\"M17.41 7.96l-1.37-1.37c-.4-.4-.92-.59-1.43-.59-.52 0-1.04.2-1.43.59L10.3 9.45l-7.72 7.72c-.78.78-.78 2.05 0 2.83L4 21.41c.39.39.9.59 1.41.59.51 0 1.02-.2 1.41-.59l7.78-7.78 2.81-2.81c.8-.78.8-2.07 0-2.86zM5.41 20L4 18.59l7.72-7.72 1.47 1.35L5.41 20z\"/>\n",
              "  </svg>\n",
              "      </button>\n",
              "      \n",
              "  <style>\n",
              "    .colab-df-container {\n",
              "      display:flex;\n",
              "      flex-wrap:wrap;\n",
              "      gap: 12px;\n",
              "    }\n",
              "\n",
              "    .colab-df-convert {\n",
              "      background-color: #E8F0FE;\n",
              "      border: none;\n",
              "      border-radius: 50%;\n",
              "      cursor: pointer;\n",
              "      display: none;\n",
              "      fill: #1967D2;\n",
              "      height: 32px;\n",
              "      padding: 0 0 0 0;\n",
              "      width: 32px;\n",
              "    }\n",
              "\n",
              "    .colab-df-convert:hover {\n",
              "      background-color: #E2EBFA;\n",
              "      box-shadow: 0px 1px 2px rgba(60, 64, 67, 0.3), 0px 1px 3px 1px rgba(60, 64, 67, 0.15);\n",
              "      fill: #174EA6;\n",
              "    }\n",
              "\n",
              "    [theme=dark] .colab-df-convert {\n",
              "      background-color: #3B4455;\n",
              "      fill: #D2E3FC;\n",
              "    }\n",
              "\n",
              "    [theme=dark] .colab-df-convert:hover {\n",
              "      background-color: #434B5C;\n",
              "      box-shadow: 0px 1px 3px 1px rgba(0, 0, 0, 0.15);\n",
              "      filter: drop-shadow(0px 1px 2px rgba(0, 0, 0, 0.3));\n",
              "      fill: #FFFFFF;\n",
              "    }\n",
              "  </style>\n",
              "\n",
              "      <script>\n",
              "        const buttonEl =\n",
              "          document.querySelector('#df-335ce929-2bfc-4eaa-b88d-17939da699ed button.colab-df-convert');\n",
              "        buttonEl.style.display =\n",
              "          google.colab.kernel.accessAllowed ? 'block' : 'none';\n",
              "\n",
              "        async function convertToInteractive(key) {\n",
              "          const element = document.querySelector('#df-335ce929-2bfc-4eaa-b88d-17939da699ed');\n",
              "          const dataTable =\n",
              "            await google.colab.kernel.invokeFunction('convertToInteractive',\n",
              "                                                     [key], {});\n",
              "          if (!dataTable) return;\n",
              "\n",
              "          const docLinkHtml = 'Like what you see? Visit the ' +\n",
              "            '<a target=\"_blank\" href=https://colab.research.google.com/notebooks/data_table.ipynb>data table notebook</a>'\n",
              "            + ' to learn more about interactive tables.';\n",
              "          element.innerHTML = '';\n",
              "          dataTable['output_type'] = 'display_data';\n",
              "          await google.colab.output.renderOutput(dataTable, element);\n",
              "          const docLink = document.createElement('div');\n",
              "          docLink.innerHTML = docLinkHtml;\n",
              "          element.appendChild(docLink);\n",
              "        }\n",
              "      </script>\n",
              "    </div>\n",
              "  </div>\n",
              "  "
            ],
            "text/plain": [
              "   rank  country  total_points  ...  away_score  tournament       city\n",
              "0     1  Germany           0.0  ...         0.0    Friendly  Karlsruhe\n",
              "1     1  Germany           0.0  ...         3.0    Friendly   Duisburg\n",
              "2     1  Germany           0.0  ...         2.0    Friendly      Kleve\n",
              "3     1  Germany           0.0  ...         2.0    Friendly  Stuttgart\n",
              "\n",
              "[4 rows x 14 columns]"
            ]
          },
          "metadata": {},
          "execution_count": 8
        }
      ]
    },
    {
      "cell_type": "code",
      "source": [
        "#identify the column in our results dataset\n",
        "prediction_df.columns"
      ],
      "metadata": {
        "colab": {
          "base_uri": "https://localhost:8080/"
        },
        "id": "NLZ_NFhrYVa1",
        "outputId": "c00faef4-bfa5-4141-c062-b38df6c2f751"
      },
      "execution_count": 9,
      "outputs": [
        {
          "output_type": "execute_result",
          "data": {
            "text/plain": [
              "Index(['rank', 'country', 'total_points', 'previous_points', 'rank_change',\n",
              "       'cur_year_avg', 'confederation', 'date', 'home_team', 'away_team',\n",
              "       'home_score', 'away_score', 'tournament', 'city'],\n",
              "      dtype='object')"
            ]
          },
          "metadata": {},
          "execution_count": 9
        }
      ]
    },
    {
      "cell_type": "code",
      "source": [
        "#checking for outliers\n",
        "col_names= ['rank', 'total_points', 'previous_points', 'rank_change',\n",
        "       'cur_year_avg','home_score', 'away_score']\n",
        "\n",
        "fig, ax = plt.subplots(len(col_names), figsize=(10,25))\n",
        "\n",
        "for i, col_val in enumerate(col_names):\n",
        "\n",
        "    sns.boxplot(y=prediction_df[col_val], ax=ax[i])\n",
        "    ax[i].set_title('Box plot for numerical variables - {}'.format(col_val), fontsize=12)\n",
        "    ax[i].set_xlabel(col_val, fontsize=12)\n",
        "\n",
        "plt.show()"
      ],
      "metadata": {
        "colab": {
          "base_uri": "https://localhost:8080/",
          "height": 1000
        },
        "id": "e-SaAMkfXK7C",
        "outputId": "aa970b88-5ded-46e3-d099-c5285e988cb4"
      },
      "execution_count": 49,
      "outputs": [
        {
          "output_type": "display_data",
          "data": {
            "image/png": "[encoded data removed]",
            "text/plain": [
              "<Figure size 720x1800 with 7 Axes>"
            ]
          },
          "metadata": {
            "needs_background": "light"
          }
        }
      ]
    },
    {
      "cell_type": "markdown",
      "source": [
        "i choose to retain the outliers to help preserve data validity during statistical analysis."
      ],
      "metadata": {
        "id": "XGDjgMYsZw5z"
      }
    },
    {
      "cell_type": "code",
      "source": [
        "#converting some categoerical values in the columns to numerical form\n",
        "from sklearn.preprocessing import LabelEncoder\n",
        "#Converting confideration, home team, away team, tournament, city and country\n",
        "print(prediction_df[\"confederation\"].unique())\n",
        "print(prediction_df['home_team'].unique())\n",
        "print(prediction_df['away_team'].unique())\n",
        "print(prediction_df['tournament'].unique())\n",
        "print(prediction_df['city'].unique())\n",
        "print(prediction_df['country'].unique())"
      ],
      "metadata": {
        "colab": {
          "base_uri": "https://localhost:8080/"
        },
        "id": "ScFtK4s2i84u",
        "outputId": "068b39d1-c0d3-4015-8a8c-58200c99e019"
      },
      "execution_count": 9,
      "outputs": [
        {
          "output_type": "stream",
          "name": "stdout",
          "text": [
            "['UEFA' 'CONMEBOL' 'CONCACAF' 'CAF' 'AFC' 'OFC']\n",
            "['Germany' 'German DR' 'Switzerland' 'Austria' 'Yugoslavia' 'Brazil'\n",
            " 'DR Congo' 'Italy' 'Poland' 'Sweden' 'Uruguay' 'Chile' 'Scotland'\n",
            " 'Argentina' 'Bulgaria' 'Haiti' 'Netherlands' 'Australia' 'Malta'\n",
            " 'Denmark' 'England' 'Republic of Ireland' 'Russia' 'Luxembourg' 'Belarus'\n",
            " 'Iceland' 'Monaco' 'South Korea' 'Japan' 'Greece' 'Mexico'\n",
            " 'Bosnia and Herzegovina' 'Saudi Arabia' 'Turkey' 'Georgia'\n",
            " 'Northern Cyprus' 'Republic of St. Pauli' 'Zanzibar' 'Gibraltar'\n",
            " 'Greenland' 'Croatia' 'Trinidad and Tobago' 'Angola' 'Serbia'\n",
            " 'United States' 'France' 'Spain' 'Tunisia' 'Ecuador' 'Czech Republic'\n",
            " 'Portugal' 'Togo' 'Costa Rica' 'Paraguay' 'Iran' 'Ivory Coast' 'Ghana'\n",
            " 'Ukraine' 'North Macedonia' 'Albania' 'Finland' 'Armenia' 'Lithuania'\n",
            " 'South Africa' 'Algeria' 'Mozambique' 'Azerbaijan' 'Qatar'\n",
            " 'Faroe Islands' 'Belgium' 'Czechoslovakia' 'Egypt' 'India' 'Morocco'\n",
            " 'United Arab Emirates' 'Cameroon' 'San Marino' 'Indonesia' 'Estonia'\n",
            " 'Israel' 'Libya' 'Padania' 'Provence' 'Occitania' 'Sápmi' 'Vatican City'\n",
            " 'Romania' 'Colombia' 'Hungary' 'Kuwait' 'Kosovo' 'Jordan' 'Slovakia'\n",
            " 'Norway' 'Jersey' 'Gotland' 'Isle of Man' 'Isle of Wight' 'Ynys Môn'\n",
            " 'Åland Islands' 'Hitra' 'Frøya' 'Saare County' 'Rhodes' 'Shetland'\n",
            " 'Guernsey' 'Arameans Suryoye' 'Iraqi Kurdistan' 'Western Isles'\n",
            " 'Falkland Islands' 'Menorca' 'Abkhazia' 'Darfur' 'Ellan Vannin'\n",
            " 'Tamil Eelam' 'South Ossetia' 'Artsakh' 'County of Nice' 'Alderney'\n",
            " 'Orkney' 'Peru' 'Bolivia' 'Venezuela' 'Northern Ireland' 'Wales'\n",
            " 'New Zealand' 'Nigeria' 'Senegal' 'Panama' 'Tahiti' 'Honduras' 'Kernow'\n",
            " 'North Korea' 'Bangladesh' 'Jamaica' 'Barawa' 'Chagos Islands' 'Andorra'\n",
            " 'Yorkshire' 'Székely Land' 'United Koreans in Japan' 'Panjab'\n",
            " 'Kárpátalja' 'Tuvalu' 'Western Armenia' 'Matabeleland' 'Tibet' 'Cascadia'\n",
            " 'Kabylia' 'Parishes of Jersey' 'Brittany' 'Cuba' 'French Guiana'\n",
            " 'Guadeloupe' 'Réunion' 'Gabon' 'Martinique' 'Congo' 'Burkina Faso'\n",
            " 'Corsica' 'Guinea' 'Madagascar' 'Slovenia' 'Mali' 'Benin' 'Mayotte'\n",
            " 'New Caledonia' 'St. Pierre & Miquelon' 'Zambia' 'Comoros' 'Moldova'\n",
            " 'Catalonia' 'Basque Country' 'Galicia' 'Andalusia' 'Central Spain'\n",
            " 'Canary Islands' 'Liechtenstein' 'Latvia' 'Madrid' 'Canada' 'Ethiopia'\n",
            " 'El Salvador' 'Guatemala' 'Iraq' nan 'Liberia' 'Gambia' 'Sierra Leone'\n",
            " 'Silesia' 'Cape Verde' 'Guinea-Bissau' 'Equatorial Guinea' 'Sudan'\n",
            " 'Kenya' 'Central African Republic' 'Malawi' 'Tanzania' 'Eritrea' 'Rwanda'\n",
            " 'Lesotho' 'Namibia' 'Botswana' 'Mauritius' 'Zimbabwe' 'Uganda' 'Chad'\n",
            " 'Bahrain' 'Mauritania' 'Burundi' 'Saint Helena' 'Palestine' 'Cyprus'\n",
            " 'Bermuda' 'Niger' 'Montenegro' 'Curaçao' 'Nicaragua' 'Belize' 'Aruba'\n",
            " 'Romani people' 'Felvidék' 'China PR' 'Sri Lanka' 'Thailand' 'Nepal'\n",
            " 'Macau' 'Hong Kong' 'Syria' 'Oman' 'Yemen' 'Kyrgyzstan' 'Vietnam'\n",
            " 'Mongolia' 'Bhutan' 'Lebanon' 'Pakistan' 'Turkmenistan' 'Uzbekistan'\n",
            " 'Eswatini' 'Seychelles' 'Philippines' 'Kazakhstan' 'Malaysia'\n",
            " 'Afghanistan' 'Palau' 'Solomon Islands' 'Fiji' 'Samoa' 'American Samoa'\n",
            " 'Tonga' 'Vanuatu' 'Singapore' 'Cambodia' 'Western Sahara' 'Raetia'\n",
            " 'São Tomé and Príncipe' 'Burma' 'Laos' 'Vietnam Republic' 'Brunei'\n",
            " 'Maldives' 'Tajikistan' 'Timor-Leste' 'Somalia' 'East Timor'\n",
            " 'Cayman Islands' 'Cook Islands' 'Papua New Guinea' 'Gozo'\n",
            " 'Dominican Republic' 'Saint Lucia' 'Guyana' 'Puerto Rico'\n",
            " 'Saint Kitts and Nevis' 'Saint Vincent and the Grenadines' 'Saint Martin'\n",
            " 'U.S. Virgin Islands' 'Barbados' 'Grenada' 'Antigua and Barbuda'\n",
            " 'Curacao' 'Suriname' 'Montserrat' 'Djibouti' 'South Sudan' 'Anguilla'\n",
            " 'Guam' 'Bahamas' 'Dominica' 'Myanmar' 'Bonaire' 'Kiribati'\n",
            " 'Wallis Islands and Futuna' 'Micronesia' 'Chinese Taipei'\n",
            " 'British Virgin Islands' 'Turks and Caicos Islands' 'Sint Maarten'\n",
            " 'Northern Mariana Islands' 'Somaliland' 'Chameria' 'North Vietnam']\n",
            "['Switzerland' 'Belgium' 'Netherlands' 'Austria' 'Sweden' 'Hungary'\n",
            " 'Denmark' 'Finland' 'Norway' 'Italy' 'Scotland' 'England' 'France'\n",
            " 'Poland' 'Republic of Ireland' 'Spain' 'Czechoslovakia' 'Romania'\n",
            " 'Estonia' 'Latvia' 'Bulgaria' 'Luxembourg' 'Portugal' 'Yugoslavia'\n",
            " 'Slovakia' 'Croatia' 'Turkey' 'Saarland' 'Russia' 'Chile'\n",
            " 'Northern Ireland' 'Greece' 'Uruguay' 'Brazil' 'Cyprus' 'Morocco'\n",
            " 'Albania' 'Wales' 'Mexico' 'Argentina' 'Australia' 'Haiti' 'German DR'\n",
            " 'DR Congo' 'Malta' 'Ghana' 'Georgia' 'Moldova' 'Liechtenstein'\n",
            " 'United Arab Emirates' 'Ukraine' 'Armenia' 'South Africa' 'Nigeria'\n",
            " 'Colombia' 'Czech Republic' 'Tibet' 'Israel' 'United States' 'Kuwait'\n",
            " 'Faroe Islands' 'Lithuania' 'Serbia' 'Canada' 'Iceland' 'Cameroon'\n",
            " 'Tunisia' 'Japan' 'China PR' 'New Zealand' 'Greenland' 'Gibraltar'\n",
            " 'Northern Cyprus' 'Zanzibar' 'North Macedonia' 'Costa Rica' 'Ecuador'\n",
            " 'Ivory Coast' 'Paraguay' 'Iran' 'Togo' 'Saudi Arabia'\n",
            " 'Trinidad and Tobago' 'Angola' 'South Korea' 'San Marino' 'Belarus'\n",
            " 'Azerbaijan' 'North Korea' 'Jamaica' 'Gambia' 'Bosnia and Herzegovina'\n",
            " 'Kazakhstan' 'Namibia' 'Andorra' 'Tajikistan' 'Slovenia' 'Kosovo' 'Peru'\n",
            " 'Germany' 'Egypt' 'Algeria' 'Indonesia' 'Iraq' 'Vatican City' 'Vietnam'\n",
            " 'Qatar' 'Montenegro' 'Occitania' 'Gozo' 'Iraqi Kurdistan' 'Provence'\n",
            " 'Sápmi' 'Monaco' 'Libya' 'Venezuela' 'Senegal' 'Panama' 'Åland Islands'\n",
            " 'Hitra' 'Shetland' 'Frøya' 'Saare County' 'Rhodes' 'Isle of Man'\n",
            " 'Isle of Wight' 'Guernsey' 'Jersey' 'Ynys Môn' 'Padania'\n",
            " 'Arameans Suryoye' 'Menorca' 'Gotland' 'Western Isles' 'Falkland Islands'\n",
            " 'Artsakh' 'Abkhazia' 'South Ossetia' 'County of Nice' 'Tamil Eelam'\n",
            " 'Ellan Vannin' 'Darfur' 'Orkney' 'Alderney' 'Bolivia' 'Jordan'\n",
            " 'Nicaragua' 'Oman' 'Honduras' 'Guatemala' 'Tahiti' 'Basque Country'\n",
            " 'Thailand' 'Bermuda' 'Curaçao' 'India' 'Zambia' 'Chagos Islands'\n",
            " 'Yorkshire' 'Surrey' 'Cascadia' 'Kárpátalja' 'Tuvalu' 'Matabeleland'\n",
            " 'Western Armenia' 'Kabylia' 'Székely Land' 'United Koreans in Japan'\n",
            " 'Panjab' 'Somaliland' 'Barawa' 'Parishes of Jersey' 'Catalonia' 'Corsica'\n",
            " 'Réunion' 'French Guiana' 'Mali' 'Martinique' 'Guadeloupe' 'Zimbabwe'\n",
            " 'Madagascar' 'Burkina Faso' 'Guinea' 'Gabon' 'Congo' 'Benin'\n",
            " 'New Caledonia' 'Mayotte' 'Brittany' 'St. Pierre & Miquelon'\n",
            " 'Equatorial Guinea' 'Niger' 'Comoros' 'Chad' 'Guinea-Bissau'\n",
            " 'Central Spain' 'Galicia' 'Asturias' 'El Salvador' 'Sudan' 'Andalusia'\n",
            " 'Mauritania' 'Cape Verde' 'Cuba' 'Ethiopia' 'Suriname' 'Liberia'\n",
            " 'Dominica' 'Saint Kitts and Nevis' 'Belize' 'Guyana' nan 'Sierra Leone'\n",
            " 'Tanzania' 'Kenya' 'Uganda' 'Uzbekistan' 'Burundi' 'Eritrea' 'Malawi'\n",
            " 'Rwanda' 'Lesotho' 'Mozambique' 'Botswana' 'Eswatini'\n",
            " 'Central African Republic' 'Somalia' 'Mauritius' 'São Tomé and Príncipe'\n",
            " 'Seychelles' 'Djibouti' 'Saint Helena' 'Lebanon' 'Palestine' 'Yemen DPR'\n",
            " 'Syria' 'Barbados' 'Grenada' 'Aruba' 'Puerto Rico' 'Montserrat'\n",
            " 'Romani people' 'Felvidék' 'Philippines' 'Manchukuo' 'Burma' 'Malaysia'\n",
            " 'Vietnam Republic' 'Singapore' 'Hong Kong' 'Bangladesh' 'Sri Lanka'\n",
            " 'Macau' 'Nepal' 'Bahrain' 'Yemen' 'Cambodia' 'Afghanistan' 'Kyrgyzstan'\n",
            " 'Chinese Taipei' 'Mongolia' 'Bhutan' 'Turkmenistan' 'East Timor'\n",
            " 'North Vietnam' 'Pakistan' 'Maldives' 'Laos'\n",
            " 'Saint Vincent and the Grenadines' 'Saint Lucia' 'Fiji' 'Vanuatu'\n",
            " 'Solomon Islands' 'Cook Islands' 'American Samoa' 'Tonga' 'Samoa'\n",
            " 'Brunei' 'Western Sahara' 'Raetia' 'Anguilla' 'Dominican Republic'\n",
            " 'Cayman Islands' 'South Sudan' 'Western Australia' 'Papua New Guinea'\n",
            " 'Guam' 'Timor-Leste' 'Myanmar' 'Antigua and Barbuda' 'Saint Martin'\n",
            " 'Bahamas' 'British Virgin Islands' 'Two Sicilies' 'Sint Maarten'\n",
            " 'U.S. Virgin Islands' 'Bonaire' 'Wallis Islands and Futuna' 'Kiribati'\n",
            " 'Micronesia' 'Turks and Caicos Islands' 'Northern Mariana Islands'\n",
            " 'Chameria']\n",
            "['Friendly' 'FIFA World Cup qualification' 'UEFA Euro qualification'\n",
            " 'FIFA World Cup' 'UEFA Euro' 'Confederations Cup' 'FIFI Wild Cup'\n",
            " 'UEFA Nations League' 'International Cup' 'Viva World Cup'\n",
            " 'Nordic Championship' 'Island Games' 'CONIFA World Football Cup'\n",
            " 'Copa Lipton' 'Copa Newton' 'Copa Premio Honor Argentino' 'Copa Roca'\n",
            " 'Copa América' 'Copa Chevallier Boutell' 'Atlantic Cup'\n",
            " 'Copa Carlos Dittborn' 'Copa Ramón Castilla' 'Copa Félix Bogado'\n",
            " 'Copa Paz del Chaco' 'British Championship' 'Nations Cup'\n",
            " 'Copa Rio Branco' 'Copa Oswaldo Cruz' \"Copa Bernardo O'Higgins\"\n",
            " 'Brazil Independence Cup' 'Rous Cup' 'World Unity Cup'\n",
            " 'Atlantic Heritage Cup' 'Tournoi de France'\n",
            " 'African Nations Championship' 'Pan American Championship' 'Gold Cup' nan\n",
            " 'African Cup of Nations qualification' 'African Cup of Nations'\n",
            " 'Balkan Cup' 'Copa Premio Honor Uruguayo' 'Copa Juan Pinto Durán'\n",
            " 'Copa Artigas' 'Mundialito' 'UDEAC Cup' 'CECAFA Cup' 'COSAFA Cup'\n",
            " 'Nile Basin Tournament' 'Inter Games Football Tournament'\n",
            " 'King Hassan II Tournament' 'UAFA Cup' 'CCCF Championship'\n",
            " 'CONCACAF Championship' 'UNCAF Cup' 'CONCACAF Championship qualification'\n",
            " 'Gold Cup qualification' 'CONIFA European Football Cup' 'Kirin Cup'\n",
            " 'AFC Asian Cup' 'Dynasty Cup' 'EAFF Championship'\n",
            " 'AFC Asian Cup qualification' 'Gulf Cup' 'OSN Cup' 'NAFU Championship'\n",
            " 'West African Cup' 'Copa del Pacífico' 'WAFF Championship'\n",
            " 'Oceania Nations Cup' 'United Arab Emirates Friendship Tournament'\n",
            " 'Amílcar Cabral Cup' 'UNIFFAC Cup' \"King's Cup\" 'AFF Championship'\n",
            " 'Cyprus International Tournament' 'Merlion Cup' 'Merdeka Tournament'\n",
            " 'Dunhill Cup' 'AFC Challenge Cup qualification' 'AFC Challenge Cup'\n",
            " 'AFF Championship qualification' 'CFU Caribbean Cup qualification'\n",
            " \"Prime Minister's Cup\" 'Malta International Tournament'\n",
            " 'CFU Caribbean Cup' 'Baltic Cup' 'Jordan International Tournament'\n",
            " 'UAFA Cup qualification' 'Indonesia Tournament' 'Lunar New Year Cup'\n",
            " 'Simba Tournament' 'ABCS Tournament' 'South Pacific Games'\n",
            " 'Oceania Nations Cup qualification' 'SAFF Cup'\n",
            " 'Copa América qualification' 'Nehru Cup' 'Millennium Cup'\n",
            " 'Intercontinental Cup' 'VFF Cup' 'Windward Islands Tournament'\n",
            " 'Dragon Cup' 'GaNEFo' 'Pacific Games']\n",
            "['Karlsruhe' 'Duisburg' 'Kleve' ... 'Prishtina' 'Pristina' 'Gibraltar']\n",
            "['Germany' 'Italy' 'Switzerland' 'Sweden' 'Argentina'\n",
            " 'Republic of Ireland' 'Russia' 'Brazil' 'Norway' 'Denmark' 'England'\n",
            " 'France' 'Spain' 'Mexico' 'RCS' 'Netherlands' 'Nigeria' 'Belgium'\n",
            " 'Colombia' 'Poland' 'Romania' 'Uruguay' 'Portugal' 'Cameroon' 'Zambia'\n",
            " 'Egypt' 'Wales' 'USA' \"Côte d'Ivoire\" 'Scotland' 'Tunisia' 'Greece'\n",
            " 'Morocco' 'Algeria' 'Ecuador' 'Korea Republic' 'Bulgaria' 'Austria'\n",
            " 'Costa Rica' 'Northern Ireland' 'Honduras' 'Hungary' 'Japan'\n",
            " 'Saudi Arabia' 'China PR' 'Canada' 'Finland' 'Ghana' 'Chile' 'Zimbabwe'\n",
            " 'Qatar' 'Australia' 'Iceland' 'IR Iran' 'United Arab Emirates'\n",
            " 'Yugoslavia' 'Iraq' 'Senegal' 'Bolivia' 'Kuwait' 'Korea DPR'\n",
            " 'El Salvador' 'Turkey' 'Gabon' 'Guinea' 'Thailand' 'Paraguay' 'Malawi'\n",
            " 'Israel' 'Peru' 'Zaire' 'Cyprus' 'Singapore' 'Mali' 'Malaysia' 'Bermuda'\n",
            " 'Niger' 'Syria' 'Bahrain' 'New Zealand' 'Madagascar' 'Malta' 'Jamaica'\n",
            " 'Lithuania' 'Trinidad and Tobago' 'Sierra Leone' 'Jordan' 'Kenya'\n",
            " 'Latvia' 'Yemen' 'Tanzania' 'Albania' 'Angola' 'Venezuela' 'Ethiopia'\n",
            " 'Burundi' 'Oman' 'Indonesia' 'Liberia' 'Mozambique' 'Puerto Rico'\n",
            " 'Swaziland' 'Hong Kong' 'Uganda' 'Barbados' 'Myanmar' 'Congo' 'Lebanon'\n",
            " 'South Africa' 'Luxembourg' 'Faroe Islands' 'Guatemala' 'Burkina Faso'\n",
            " 'Togo' 'Suriname' 'Fiji' 'Croatia' 'Estonia' 'San Marino' 'Bangladesh'\n",
            " 'St Vincent and the Grenadines' 'Netherlands Antilles' 'Mauritius'\n",
            " 'Benin' 'Panama' 'Sudan' 'Antigua and Barbuda' 'Slovenia' 'India'\n",
            " 'Belarus' 'Ukraine' 'Vietnam' 'Guinea-Bissau' 'Guyana' 'Botswana'\n",
            " 'St Lucia' 'Tahiti' 'Grenada' 'Haiti' 'Libya' 'Laos' 'Mauritania'\n",
            " 'Cape Verde Islands' 'Solomon Islands' 'Brunei Darussalam' 'Lesotho'\n",
            " 'Dominican Republic' 'Pakistan' 'Nicaragua' 'Cuba' 'Seychelles'\n",
            " 'Central African Republic' 'Gambia' 'Namibia' 'Cayman Islands' 'Nepal'\n",
            " 'Liechtenstein' 'Equatorial Guinea' 'Chinese Taipei' 'Sri Lanka'\n",
            " 'Philippines' 'Chad' 'Vanuatu' 'Aruba' 'Bahamas' 'Maldives' 'Macau'\n",
            " 'Slovakia' 'St Kitts and Nevis' 'Czech Republic' 'Georgia'\n",
            " 'FYR Macedonia' 'Moldova' 'Armenia' 'Azerbaijan' 'Uzbekistan'\n",
            " 'Turkmenistan' 'Kazakhstan' 'Tajikistan' 'Kyrgyz Republic' 'Somalia'\n",
            " 'Djibouti' 'Dominica' 'Rwanda' 'Belize' 'Cambodia'\n",
            " 'Bosnia and Herzegovina' 'Guam' 'Papua New Guinea' 'Tonga' 'Samoa'\n",
            " 'Andorra' 'Cook Islands' 'British Virgin Islands' 'Anguilla'\n",
            " 'São Tomé e Príncipe' 'Eritrea' 'American Samoa' 'Palestine' 'Mongolia'\n",
            " 'Turks and Caicos Islands' 'US Virgin Islands' 'Montserrat' 'Congo DR'\n",
            " 'Bhutan' 'Serbia and Montenegro' 'Afghanistan' 'New Caledonia' 'Serbia'\n",
            " 'Timor-Leste' 'Comoros' 'Montenegro' 'Curaçao' 'South Sudan' 'Kosovo'\n",
            " 'Gibraltar']\n"
          ]
        }
      ]
    },
    {
      "cell_type": "markdown",
      "source": [
        "**4. Exploratory  Data Analysis**"
      ],
      "metadata": {
        "id": "6yMBnPlCaAiE"
      }
    },
    {
      "cell_type": "markdown",
      "source": [
        "4.1 Univariate Analysis "
      ],
      "metadata": {
        "id": "XNCY-nCXafb0"
      }
    },
    {
      "cell_type": "code",
      "source": [
        "# Plotting our numerical variables on histogram to assess the relationship\n",
        "prediction_df.drop(['country', 'confederation', 'date', 'home_team', 'away_team','tournament', 'city'] ,axis=1).hist(bins=10, figsize=(10,10))\n",
        "plt.suptitle(\"Histogram of numeric variables in prediction dataset\")\n",
        "plt.savefig('Prediction access Histogram')\n",
        "plt.show()"
      ],
      "metadata": {
        "colab": {
          "base_uri": "https://localhost:8080/",
          "height": 662
        },
        "id": "_8_qpNJ3ZR-h",
        "outputId": "0f680d8b-8ab5-48e6-f6b8-c7441e397734"
      },
      "execution_count": 51,
      "outputs": [
        {
          "output_type": "display_data",
          "data": {
            "image/png": "[encoded data removed]",
            "text/plain": [
              "<Figure size 720x720 with 9 Axes>"
            ]
          },
          "metadata": {
            "needs_background": "light"
          }
        }
      ]
    },
    {
      "cell_type": "markdown",
      "source": [
        "The rank, previous points,current year average, home score and away score data is positively skewed."
      ],
      "metadata": {
        "id": "74cFyMK8fYC0"
      }
    },
    {
      "cell_type": "code",
      "source": [
        "# Frequency Table of the Number of home teams\n",
        "prediction_df.home_score.value_counts()"
      ],
      "metadata": {
        "colab": {
          "base_uri": "https://localhost:8080/"
        },
        "id": "M2iu4XYYfm3u",
        "outputId": "b6b9264b-54f2-49a9-b92d-4bfa1bd8241e"
      },
      "execution_count": 52,
      "outputs": [
        {
          "output_type": "execute_result",
          "data": {
            "text/plain": [
              "1.0     3053307\n",
              "0.0     2471156\n",
              "2.0     2251960\n",
              "3.0     1198986\n",
              "4.0      612838\n",
              "5.0      293689\n",
              "6.0      162534\n",
              "7.0       86110\n",
              "8.0       48395\n",
              "9.0       27254\n",
              "10.0      14070\n",
              "11.0       8668\n",
              "12.0       6512\n",
              "13.0       3399\n",
              "14.0       2803\n",
              "15.0       1716\n",
              "17.0        572\n",
              "16.0        539\n",
              "21.0        286\n",
              "22.0        286\n",
              "31.0        286\n",
              "20.0        286\n",
              "24.0        286\n",
              "18.0        286\n",
              "19.0        286\n",
              "Name: home_score, dtype: int64"
            ]
          },
          "metadata": {},
          "execution_count": 52
        }
      ]
    },
    {
      "cell_type": "code",
      "source": [
        "# Frequency Table of the Number of home teams\n",
        "prediction_df.away_score.value_counts()"
      ],
      "metadata": {
        "colab": {
          "base_uri": "https://localhost:8080/"
        },
        "id": "XcWb7t7BhtnM",
        "outputId": "e4d32440-7580-4ce5-960b-3ac4348db905"
      },
      "execution_count": 53,
      "outputs": [
        {
          "output_type": "execute_result",
          "data": {
            "text/plain": [
              "0.0     3808330\n",
              "1.0     3315000\n",
              "2.0     1772809\n",
              "3.0      769456\n",
              "4.0      317158\n",
              "5.0      128415\n",
              "6.0       64978\n",
              "7.0       31001\n",
              "8.0       16892\n",
              "9.0        8694\n",
              "10.0       4510\n",
              "13.0       1969\n",
              "11.0       1620\n",
              "18.0       1397\n",
              "15.0       1078\n",
              "12.0       1019\n",
              "17.0        620\n",
              "20.0        453\n",
              "16.0        286\n",
              "19.0        286\n",
              "21.0        286\n",
              "14.0        253\n",
              "Name: away_score, dtype: int64"
            ]
          },
          "metadata": {},
          "execution_count": 53
        }
      ]
    },
    {
      "cell_type": "code",
      "source": [
        "#Bar graph of countries that have the most points\n",
        "plt.figure(figsize = (10,5))\n",
        "prediction_df.groupby('city').size().sort_values(ascending = False)[:10].plot(kind='bar', color='grey')\n",
        "plt.title('Cities that have hosted the tornuments alot')\n",
        "plt.ylabel('Total')\n",
        "plt.xlabel('city')\n",
        "plt.show()"
      ],
      "metadata": {
        "colab": {
          "base_uri": "https://localhost:8080/",
          "height": 407
        },
        "id": "AVv759wniFwV",
        "outputId": "e85765a5-0ebf-41b4-d502-6d11c84d1048"
      },
      "execution_count": 54,
      "outputs": [
        {
          "output_type": "display_data",
          "data": {
            "image/png": "[encoded data removed]",
            "text/plain": [
              "<Figure size 720x360 with 1 Axes>"
            ]
          },
          "metadata": {
            "needs_background": "light"
          }
        }
      ]
    },
    {
      "cell_type": "markdown",
      "source": [
        "Kualar Lumpar has hosted many footbal tornaments than any other city"
      ],
      "metadata": {
        "id": "ebY8_PeAkI_-"
      }
    },
    {
      "cell_type": "code",
      "source": [
        "# Bar chart showing the different types of tournaments the countries participate in.\n",
        "plt.figure(figsize = (12,7))\n",
        "prediction_df.groupby('confederation').size().sort_values(ascending = True).plot(kind='barh', color='orange')\n",
        "plt.title('Confederation Hosting the Tournament')\n",
        "plt.ylabel('Total')\n",
        "plt.xlabel('Confederation')\n",
        "plt.show()"
      ],
      "metadata": {
        "colab": {
          "base_uri": "https://localhost:8080/",
          "height": 457
        },
        "id": "U1hPo9ZKkQOf",
        "outputId": "f2bb88f2-edca-4204-d8db-11a0d4b71645"
      },
      "execution_count": 55,
      "outputs": [
        {
          "output_type": "display_data",
          "data": {
            "image/png": "[encoded data removed]",
            "text/plain": [
              "<Figure size 864x504 with 1 Axes>"
            ]
          },
          "metadata": {
            "needs_background": "light"
          }
        }
      ]
    },
    {
      "cell_type": "markdown",
      "source": [
        "UEFA is the most popular football body hosting many tournaments"
      ],
      "metadata": {
        "id": "i-4KQN3flb61"
      }
    },
    {
      "cell_type": "code",
      "source": [
        "#Bar graph of the most popular tounament\n",
        "plt.figure(figsize = (10,5))\n",
        "prediction_df.groupby('tournament').size().sort_values(ascending = False)[:10].plot(kind='bar', color='green')\n",
        "plt.title('Most popular tounament')\n",
        "plt.ylabel('Total')\n",
        "plt.xlabel('Tournament')\n",
        "plt.show()"
      ],
      "metadata": {
        "colab": {
          "base_uri": "https://localhost:8080/",
          "height": 516
        },
        "id": "EMn3UqJWpVxl",
        "outputId": "eb48eccd-f4f9-4edb-8a6b-d8c270a01d56"
      },
      "execution_count": 56,
      "outputs": [
        {
          "output_type": "display_data",
          "data": {
            "image/png": "[encoded data removed]",
            "text/plain": [
              "<Figure size 720x360 with 1 Axes>"
            ]
          },
          "metadata": {
            "needs_background": "light"
          }
        }
      ]
    },
    {
      "cell_type": "markdown",
      "source": [
        "Country friendlies happen to be the most preferred international football tournament.Their is a huge gap to be explored as seen by the huge difference between friendly matches and other tournaments"
      ],
      "metadata": {
        "id": "eVSHaeAVpn0k"
      }
    },
    {
      "cell_type": "code",
      "source": [
        "#Countplot showing the outcome of the goals scored by home teams\n",
        "plt.figure(figsize = (7, 5), dpi=100)\n",
        "sns.countplot(prediction_df['home_score'], order=prediction_df['home_score'].value_counts().index[:15])\n",
        "plt.title('Home teams score')\n",
        "plt.ylabel('Count')\n",
        "plt.show()"
      ],
      "metadata": {
        "colab": {
          "base_uri": "https://localhost:8080/",
          "height": 480
        },
        "id": "d9MTICvlpxP7",
        "outputId": "4fc11be3-68ed-4c4f-ec78-cccccf7079db"
      },
      "execution_count": 57,
      "outputs": [
        {
          "output_type": "display_data",
          "data": {
            "image/png": "[encoded data removed]",
            "text/plain": [
              "<Figure size 700x500 with 1 Axes>"
            ]
          },
          "metadata": {
            "needs_background": "light"
          }
        }
      ]
    },
    {
      "cell_type": "markdown",
      "source": [
        "Most of the home team scores ended with a one goal outcome"
      ],
      "metadata": {
        "id": "iOTJOItlqcF0"
      }
    },
    {
      "cell_type": "code",
      "source": [
        "#Countplot showing the outcome of the goals scored by home teams\n",
        "plt.figure(figsize = (7, 5), dpi=100)\n",
        "sns.countplot(prediction_df['away_score'], order=prediction_df['away_score'].value_counts().index[:15])\n",
        "plt.title('Away teams score')\n",
        "plt.ylabel('Count')\n",
        "plt.show()"
      ],
      "metadata": {
        "colab": {
          "base_uri": "https://localhost:8080/",
          "height": 480
        },
        "id": "KO1nVXwZqkQK",
        "outputId": "bad63f05-7328-42c9-ad33-7ccb6437188a"
      },
      "execution_count": 58,
      "outputs": [
        {
          "output_type": "display_data",
          "data": {
            "image/png": "[encoded data removed]",
            "text/plain": [
              "<Figure size 700x500 with 1 Axes>"
            ]
          },
          "metadata": {
            "needs_background": "light"
          }
        }
      ]
    },
    {
      "cell_type": "markdown",
      "source": [
        "Most of the away teams had a draw of (0) goals as an outcome"
      ],
      "metadata": {
        "id": "mHnneqIIquPH"
      }
    },
    {
      "cell_type": "code",
      "source": [
        "# We will define the numerical columns as colls to help with analysis\n",
        "colls = ['rank', 'total_points', 'previous_points', 'rank_change',\n",
        "       'cur_year_avg','home_score', 'away_score']\n",
        "# Finding the mean of numerical columns\n",
        "prediction_df[colls].mean()"
      ],
      "metadata": {
        "colab": {
          "base_uri": "https://localhost:8080/"
        },
        "id": "qUWtK-yQq0sK",
        "outputId": "1140c3ea-646c-425f-9676-55bd53559645"
      },
      "execution_count": 10,
      "outputs": [
        {
          "output_type": "execute_result",
          "data": {
            "text/plain": [
              "rank                69.187186\n",
              "total_points       172.345895\n",
              "previous_points    459.498791\n",
              "rank_change         -0.024820\n",
              "cur_year_avg        86.979300\n",
              "home_score           1.734292\n",
              "away_score           1.179052\n",
              "dtype: float64"
            ]
          },
          "metadata": {},
          "execution_count": 10
        }
      ]
    },
    {
      "cell_type": "code",
      "source": [
        "# Finding the median of numerical columns\n",
        "prediction_df[colls].median()"
      ],
      "metadata": {
        "colab": {
          "base_uri": "https://localhost:8080/"
        },
        "id": "ddrU0NlHyTrM",
        "outputId": "e3affc8f-ad06-47bb-be52-16db50f6fa4c"
      },
      "execution_count": 13,
      "outputs": [
        {
          "output_type": "execute_result",
          "data": {
            "text/plain": [
              "rank                61.0\n",
              "total_points         0.0\n",
              "previous_points    443.0\n",
              "rank_change          0.0\n",
              "cur_year_avg         0.0\n",
              "home_score           1.0\n",
              "away_score           1.0\n",
              "dtype: float64"
            ]
          },
          "metadata": {},
          "execution_count": 13
        }
      ]
    },
    {
      "cell_type": "code",
      "source": [
        "# Finding the median of numerical columns\n",
        "prediction_df[colls].median()"
      ],
      "metadata": {
        "colab": {
          "base_uri": "https://localhost:8080/"
        },
        "id": "23JmSntbyguk",
        "outputId": "3c7a9260-de5c-4098-dc7a-eaa8b4b9c0c8"
      },
      "execution_count": 61,
      "outputs": [
        {
          "output_type": "execute_result",
          "data": {
            "text/plain": [
              "rank                61.0\n",
              "total_points         0.0\n",
              "previous_points    443.0\n",
              "rank_change          0.0\n",
              "cur_year_avg         0.0\n",
              "home_score           1.0\n",
              "away_score           1.0\n",
              "dtype: float64"
            ]
          },
          "metadata": {},
          "execution_count": 61
        }
      ]
    },
    {
      "cell_type": "code",
      "source": [
        "# Standard Deviation of numerical columns\n",
        "prediction_df[colls].std()"
      ],
      "metadata": {
        "colab": {
          "base_uri": "https://localhost:8080/"
        },
        "id": "4RGegnpRzFQ1",
        "outputId": "339724bf-c801-415e-c815-4a7fbd5b9051"
      },
      "execution_count": 62,
      "outputs": [
        {
          "output_type": "execute_result",
          "data": {
            "text/plain": [
              "rank                50.863755\n",
              "total_points       336.303945\n",
              "previous_points    353.530667\n",
              "rank_change          5.382218\n",
              "cur_year_avg       176.544777\n",
              "home_score           1.733112\n",
              "away_score           1.381282\n",
              "dtype: float64"
            ]
          },
          "metadata": {},
          "execution_count": 62
        }
      ]
    },
    {
      "cell_type": "code",
      "source": [
        "# Variance of numerical columns\n",
        "prediction_df[colls].var()"
      ],
      "metadata": {
        "colab": {
          "base_uri": "https://localhost:8080/"
        },
        "id": "escFXSvwzGFW",
        "outputId": "db2b8a4d-95f9-4689-ee1c-b946334b7fa9"
      },
      "execution_count": 63,
      "outputs": [
        {
          "output_type": "execute_result",
          "data": {
            "text/plain": [
              "rank                 2587.121571\n",
              "total_points       113100.343129\n",
              "previous_points    124983.932285\n",
              "rank_change            28.968270\n",
              "cur_year_avg        31168.058143\n",
              "home_score              3.003676\n",
              "away_score              1.907940\n",
              "dtype: float64"
            ]
          },
          "metadata": {},
          "execution_count": 63
        }
      ]
    },
    {
      "cell_type": "code",
      "source": [
        "# Skewness of numerical columns\n",
        "prediction_df[colls].skew()"
      ],
      "metadata": {
        "colab": {
          "base_uri": "https://localhost:8080/"
        },
        "id": "TEnUtM-jzKbT",
        "outputId": "bc586cab-ae21-498e-9e07-9d0678d8ed17"
      },
      "execution_count": 64,
      "outputs": [
        {
          "output_type": "execute_result",
          "data": {
            "text/plain": [
              "rank               0.552165\n",
              "total_points       2.087669\n",
              "previous_points    0.781467\n",
              "rank_change        0.893956\n",
              "cur_year_avg       2.293096\n",
              "home_score         2.099695\n",
              "away_score         2.444753\n",
              "dtype: float64"
            ]
          },
          "metadata": {},
          "execution_count": 64
        }
      ]
    },
    {
      "cell_type": "markdown",
      "source": [
        "The data is positively skewed"
      ],
      "metadata": {
        "id": "vCte_7H71Hoy"
      }
    },
    {
      "cell_type": "code",
      "source": [
        "# The Kurtosis of numerical columns\n",
        "prediction_df[colls].kurt()"
      ],
      "metadata": {
        "colab": {
          "base_uri": "https://localhost:8080/"
        },
        "id": "PaC-hb6_zOiv",
        "outputId": "e96b6bb1-7a69-43ce-b485-ed94909caadb"
      },
      "execution_count": 65,
      "outputs": [
        {
          "output_type": "execute_result",
          "data": {
            "text/plain": [
              "rank               -0.645885\n",
              "total_points        3.664132\n",
              "previous_points     0.484251\n",
              "rank_change        17.542756\n",
              "cur_year_avg        5.001318\n",
              "home_score         10.176146\n",
              "away_score         14.135410\n",
              "dtype: float64"
            ]
          },
          "metadata": {},
          "execution_count": 65
        }
      ]
    },
    {
      "cell_type": "markdown",
      "source": [
        "The home and away score has extreme values"
      ],
      "metadata": {
        "id": "h0zguyz71RSu"
      }
    },
    {
      "cell_type": "markdown",
      "source": [
        "**Recommendations**\n",
        "\n",
        "1. Their is a sizable difference between friendly matches and other football organizaed tournaments. The football federations should take it as an opportunity and explore the gap.\n",
        "2. Most of the cities hosting football matches are in Asia, it is therefore advisable that the FIFA governing body assess why their federations lank low in organizing matches.\n",
        "3. The home teams were in a better position to score and win the game"
      ],
      "metadata": {
        "id": "CCM7k7Pgvsbr"
      }
    },
    {
      "cell_type": "markdown",
      "source": [
        "4.2 **Bivarite Analysis**"
      ],
      "metadata": {
        "id": "U2Z7_kV01Xn4"
      }
    },
    {
      "cell_type": "code",
      "source": [
        "#Plotting a pairplot of all the numerical values\n",
        "plt.figure(figsize = (7, 5), dpi=100)\n",
        "y =['rank', 'total_points', 'previous_points', 'rank_change',\n",
        "       'cur_year_avg','home_score', 'away_score']\n",
        "sns.pairplot(prediction_df[y])"
      ],
      "metadata": {
        "id": "m0WPEkP227yN"
      },
      "execution_count": null,
      "outputs": []
    },
    {
      "cell_type": "markdown",
      "source": [
        "The graphs represents different relationships between various variables. Most of the data ploted against home and away score was positively skewed."
      ],
      "metadata": {
        "id": "rokmOdoLbWdA"
      }
    },
    {
      "cell_type": "code",
      "source": [
        "#A correlation matrix of the numerical values above for statistical clarity\n",
        "corr = prediction_df[colls].corr()\n",
        "fig, ax = plt.subplots(figsize=(15, 10))\n",
        "sns.heatmap(corr, annot=True)"
      ],
      "metadata": {
        "id": "kLhb4VgocmkB"
      },
      "execution_count": null,
      "outputs": []
    },
    {
      "cell_type": "markdown",
      "source": [
        "Their is a notable negative correlation between some variables such as: rank and previous points, home score and rank, rank and previous point and rank. The highest positive correlation is 0.98 between current year average and total points."
      ],
      "metadata": {
        "id": "iOe1vr_zeNEq"
      }
    },
    {
      "cell_type": "markdown",
      "source": [
        "4.3 **Multivariate Analyises**"
      ],
      "metadata": {
        "id": "51AH8oadhGYv"
      }
    },
    {
      "cell_type": "markdown",
      "source": [
        "Since it is under supervised learning, we use the reduction technique"
      ],
      "metadata": {
        "id": "Ku1T2dQnhpYS"
      }
    },
    {
      "cell_type": "code",
      "source": [
        "#Importing the libraries needed for multivariate analysis\n",
        "from sklearn.preprocessing import LabelEncoder\n",
        "from sklearn.discriminant_analysis import LinearDiscriminantAnalysis as LDA"
      ],
      "metadata": {
        "id": "DV0DqGuLhMNS"
      },
      "execution_count": 11,
      "outputs": []
    },
    {
      "cell_type": "code",
      "source": [
        "#Creating a column that sums the number of total scored\n",
        "prediction_df['total_scores'] = prediction_df['home_score'] + prediction_df['away_score']\n",
        "prediction_df.columns"
      ],
      "metadata": {
        "colab": {
          "base_uri": "https://localhost:8080/"
        },
        "id": "H91dj8OOnbyP",
        "outputId": "2ac77de8-92c4-4341-d036-4a0cbbce5a44"
      },
      "execution_count": 12,
      "outputs": [
        {
          "output_type": "execute_result",
          "data": {
            "text/plain": [
              "Index(['rank', 'country', 'total_points', 'previous_points', 'rank_change',\n",
              "       'cur_year_avg', 'confederation', 'date', 'home_team', 'away_team',\n",
              "       'home_score', 'away_score', 'tournament', 'city', 'total_scores'],\n",
              "      dtype='object')"
            ]
          },
          "metadata": {},
          "execution_count": 12
        }
      ]
    },
    {
      "cell_type": "code",
      "source": [
        "#These are the columns that we will use for the analysis\n",
        "dfc = ['rank', 'country', 'total_points', 'previous_points', 'rank_change',\n",
        "       'cur_year_avg', 'confederation', 'date', 'home_team', 'away_team',\n",
        "       'home_score', 'away_score', 'tournament', 'city','total_scores']"
      ],
      "metadata": {
        "id": "xkNjcsU2h7UV"
      },
      "execution_count": 13,
      "outputs": []
    },
    {
      "cell_type": "markdown",
      "source": [
        "We define the columns we will subject under LDA reduction technique"
      ],
      "metadata": {
        "id": "2ZNDTheHiAmv"
      }
    },
    {
      "cell_type": "code",
      "source": [
        "#Encoding the multiple columns at ago\n",
        "prediction_dff = prediction_df[dfc].apply(LabelEncoder().fit_transform)\n",
        "prediction_dff.head()"
      ],
      "metadata": {
        "colab": {
          "base_uri": "https://localhost:8080/",
          "height": 270
        },
        "id": "tsRuOO2MiG1d",
        "outputId": "500be6da-ddde-49c1-c8f5-b2328152ca78"
      },
      "execution_count": 14,
      "outputs": [
        {
          "output_type": "execute_result",
          "data": {
            "text/html": [
              "\n",
              "  <div id=\"df-5cef6505-4db7-4f24-8907-7c2ace7bda87\">\n",
              "    <div class=\"colab-df-container\">\n",
              "      <div>\n",
              "<style scoped>\n",
              "    .dataframe tbody tr th:only-of-type {\n",
              "        vertical-align: middle;\n",
              "    }\n",
              "\n",
              "    .dataframe tbody tr th {\n",
              "        vertical-align: top;\n",
              "    }\n",
              "\n",
              "    .dataframe thead th {\n",
              "        text-align: right;\n",
              "    }\n",
              "</style>\n",
              "<table border=\"1\" class=\"dataframe\">\n",
              "  <thead>\n",
              "    <tr style=\"text-align: right;\">\n",
              "      <th></th>\n",
              "      <th>rank</th>\n",
              "      <th>country</th>\n",
              "      <th>total_points</th>\n",
              "      <th>previous_points</th>\n",
              "      <th>rank_change</th>\n",
              "      <th>cur_year_avg</th>\n",
              "      <th>confederation</th>\n",
              "      <th>date</th>\n",
              "      <th>home_team</th>\n",
              "      <th>away_team</th>\n",
              "      <th>home_score</th>\n",
              "      <th>away_score</th>\n",
              "      <th>tournament</th>\n",
              "      <th>city</th>\n",
              "      <th>total_scores</th>\n",
              "    </tr>\n",
              "  </thead>\n",
              "  <tbody>\n",
              "    <tr>\n",
              "      <th>0</th>\n",
              "      <td>0</td>\n",
              "      <td>75</td>\n",
              "      <td>0</td>\n",
              "      <td>57</td>\n",
              "      <td>53</td>\n",
              "      <td>0</td>\n",
              "      <td>5</td>\n",
              "      <td>222</td>\n",
              "      <td>103</td>\n",
              "      <td>253</td>\n",
              "      <td>1</td>\n",
              "      <td>0</td>\n",
              "      <td>53</td>\n",
              "      <td>715</td>\n",
              "      <td>1</td>\n",
              "    </tr>\n",
              "    <tr>\n",
              "      <th>1</th>\n",
              "      <td>0</td>\n",
              "      <td>75</td>\n",
              "      <td>0</td>\n",
              "      <td>57</td>\n",
              "      <td>53</td>\n",
              "      <td>0</td>\n",
              "      <td>5</td>\n",
              "      <td>245</td>\n",
              "      <td>103</td>\n",
              "      <td>27</td>\n",
              "      <td>0</td>\n",
              "      <td>3</td>\n",
              "      <td>53</td>\n",
              "      <td>453</td>\n",
              "      <td>3</td>\n",
              "    </tr>\n",
              "    <tr>\n",
              "      <th>2</th>\n",
              "      <td>0</td>\n",
              "      <td>75</td>\n",
              "      <td>0</td>\n",
              "      <td>57</td>\n",
              "      <td>53</td>\n",
              "      <td>0</td>\n",
              "      <td>5</td>\n",
              "      <td>253</td>\n",
              "      <td>103</td>\n",
              "      <td>180</td>\n",
              "      <td>1</td>\n",
              "      <td>2</td>\n",
              "      <td>53</td>\n",
              "      <td>753</td>\n",
              "      <td>3</td>\n",
              "    </tr>\n",
              "    <tr>\n",
              "      <th>3</th>\n",
              "      <td>0</td>\n",
              "      <td>75</td>\n",
              "      <td>0</td>\n",
              "      <td>57</td>\n",
              "      <td>53</td>\n",
              "      <td>0</td>\n",
              "      <td>5</td>\n",
              "      <td>266</td>\n",
              "      <td>103</td>\n",
              "      <td>253</td>\n",
              "      <td>6</td>\n",
              "      <td>2</td>\n",
              "      <td>53</td>\n",
              "      <td>1448</td>\n",
              "      <td>8</td>\n",
              "    </tr>\n",
              "    <tr>\n",
              "      <th>4</th>\n",
              "      <td>0</td>\n",
              "      <td>75</td>\n",
              "      <td>0</td>\n",
              "      <td>57</td>\n",
              "      <td>53</td>\n",
              "      <td>0</td>\n",
              "      <td>5</td>\n",
              "      <td>278</td>\n",
              "      <td>103</td>\n",
              "      <td>18</td>\n",
              "      <td>1</td>\n",
              "      <td>2</td>\n",
              "      <td>53</td>\n",
              "      <td>446</td>\n",
              "      <td>3</td>\n",
              "    </tr>\n",
              "  </tbody>\n",
              "</table>\n",
              "</div>\n",
              "      <button class=\"colab-df-convert\" onclick=\"convertToInteractive('df-5cef6505-4db7-4f24-8907-7c2ace7bda87')\"\n",
              "              title=\"Convert this dataframe to an interactive table.\"\n",
              "              style=\"display:none;\">\n",
              "        \n",
              "  <svg xmlns=\"http://www.w3.org/2000/svg\" height=\"24px\"viewBox=\"0 0 24 24\"\n",
              "       width=\"24px\">\n",
              "    <path d=\"M0 0h24v24H0V0z\" fill=\"none\"/>\n",
              "    <path d=\"M18.56 5.44l.94 2.06.94-2.06 2.06-.94-2.06-.94-.94-2.06-.94 2.06-2.06.94zm-11 1L8.5 8.5l.94-2.06 2.06-.94-2.06-.94L8.5 2.5l-.94 2.06-2.06.94zm10 10l.94 2.06.94-2.06 2.06-.94-2.06-.94-.94-2.06-.94 2.06-2.06.94z\"/><path d=\"M17.41 7.96l-1.37-1.37c-.4-.4-.92-.59-1.43-.59-.52 0-1.04.2-1.43.59L10.3 9.45l-7.72 7.72c-.78.78-.78 2.05 0 2.83L4 21.41c.39.39.9.59 1.41.59.51 0 1.02-.2 1.41-.59l7.78-7.78 2.81-2.81c.8-.78.8-2.07 0-2.86zM5.41 20L4 18.59l7.72-7.72 1.47 1.35L5.41 20z\"/>\n",
              "  </svg>\n",
              "      </button>\n",
              "      \n",
              "  <style>\n",
              "    .colab-df-container {\n",
              "      display:flex;\n",
              "      flex-wrap:wrap;\n",
              "      gap: 12px;\n",
              "    }\n",
              "\n",
              "    .colab-df-convert {\n",
              "      background-color: #E8F0FE;\n",
              "      border: none;\n",
              "      border-radius: 50%;\n",
              "      cursor: pointer;\n",
              "      display: none;\n",
              "      fill: #1967D2;\n",
              "      height: 32px;\n",
              "      padding: 0 0 0 0;\n",
              "      width: 32px;\n",
              "    }\n",
              "\n",
              "    .colab-df-convert:hover {\n",
              "      background-color: #E2EBFA;\n",
              "      box-shadow: 0px 1px 2px rgba(60, 64, 67, 0.3), 0px 1px 3px 1px rgba(60, 64, 67, 0.15);\n",
              "      fill: #174EA6;\n",
              "    }\n",
              "\n",
              "    [theme=dark] .colab-df-convert {\n",
              "      background-color: #3B4455;\n",
              "      fill: #D2E3FC;\n",
              "    }\n",
              "\n",
              "    [theme=dark] .colab-df-convert:hover {\n",
              "      background-color: #434B5C;\n",
              "      box-shadow: 0px 1px 3px 1px rgba(0, 0, 0, 0.15);\n",
              "      filter: drop-shadow(0px 1px 2px rgba(0, 0, 0, 0.3));\n",
              "      fill: #FFFFFF;\n",
              "    }\n",
              "  </style>\n",
              "\n",
              "      <script>\n",
              "        const buttonEl =\n",
              "          document.querySelector('#df-5cef6505-4db7-4f24-8907-7c2ace7bda87 button.colab-df-convert');\n",
              "        buttonEl.style.display =\n",
              "          google.colab.kernel.accessAllowed ? 'block' : 'none';\n",
              "\n",
              "        async function convertToInteractive(key) {\n",
              "          const element = document.querySelector('#df-5cef6505-4db7-4f24-8907-7c2ace7bda87');\n",
              "          const dataTable =\n",
              "            await google.colab.kernel.invokeFunction('convertToInteractive',\n",
              "                                                     [key], {});\n",
              "          if (!dataTable) return;\n",
              "\n",
              "          const docLinkHtml = 'Like what you see? Visit the ' +\n",
              "            '<a target=\"_blank\" href=https://colab.research.google.com/notebooks/data_table.ipynb>data table notebook</a>'\n",
              "            + ' to learn more about interactive tables.';\n",
              "          element.innerHTML = '';\n",
              "          dataTable['output_type'] = 'display_data';\n",
              "          await google.colab.output.renderOutput(dataTable, element);\n",
              "          const docLink = document.createElement('div');\n",
              "          docLink.innerHTML = docLinkHtml;\n",
              "          element.appendChild(docLink);\n",
              "        }\n",
              "      </script>\n",
              "    </div>\n",
              "  </div>\n",
              "  "
            ],
            "text/plain": [
              "   rank  country  total_points  ...  tournament  city  total_scores\n",
              "0     0       75             0  ...          53   715             1\n",
              "1     0       75             0  ...          53   453             3\n",
              "2     0       75             0  ...          53   753             3\n",
              "3     0       75             0  ...          53  1448             8\n",
              "4     0       75             0  ...          53   446             3\n",
              "\n",
              "[5 rows x 15 columns]"
            ]
          },
          "metadata": {},
          "execution_count": 14
        }
      ]
    },
    {
      "cell_type": "code",
      "source": [
        "#Step 1: Seperating my target label (diagnosis) from other features\n",
        "X = prediction_dff.drop(['total_scores'], axis = 1)\n",
        "Y = prediction_dff['total_scores']"
      ],
      "metadata": {
        "id": "ujoU6onzkc-N"
      },
      "execution_count": 16,
      "outputs": []
    },
    {
      "cell_type": "code",
      "source": [
        "#Step 2: Confirming the features don't contain the target variable\n",
        "X[1:14]"
      ],
      "metadata": {
        "colab": {
          "base_uri": "https://localhost:8080/",
          "height": 521
        },
        "id": "YO-ZvM5Lky0j",
        "outputId": "e2bfced2-db43-4759-9eda-79253745acf2"
      },
      "execution_count": 17,
      "outputs": [
        {
          "output_type": "execute_result",
          "data": {
            "text/html": [
              "\n",
              "  <div id=\"df-f1aaa46f-6ddc-4a64-bda8-0676fa3d4701\">\n",
              "    <div class=\"colab-df-container\">\n",
              "      <div>\n",
              "<style scoped>\n",
              "    .dataframe tbody tr th:only-of-type {\n",
              "        vertical-align: middle;\n",
              "    }\n",
              "\n",
              "    .dataframe tbody tr th {\n",
              "        vertical-align: top;\n",
              "    }\n",
              "\n",
              "    .dataframe thead th {\n",
              "        text-align: right;\n",
              "    }\n",
              "</style>\n",
              "<table border=\"1\" class=\"dataframe\">\n",
              "  <thead>\n",
              "    <tr style=\"text-align: right;\">\n",
              "      <th></th>\n",
              "      <th>rank</th>\n",
              "      <th>country</th>\n",
              "      <th>total_points</th>\n",
              "      <th>previous_points</th>\n",
              "      <th>rank_change</th>\n",
              "      <th>cur_year_avg</th>\n",
              "      <th>confederation</th>\n",
              "      <th>date</th>\n",
              "      <th>home_team</th>\n",
              "      <th>away_team</th>\n",
              "      <th>home_score</th>\n",
              "      <th>away_score</th>\n",
              "      <th>tournament</th>\n",
              "      <th>city</th>\n",
              "    </tr>\n",
              "  </thead>\n",
              "  <tbody>\n",
              "    <tr>\n",
              "      <th>1</th>\n",
              "      <td>0</td>\n",
              "      <td>75</td>\n",
              "      <td>0</td>\n",
              "      <td>57</td>\n",
              "      <td>53</td>\n",
              "      <td>0</td>\n",
              "      <td>5</td>\n",
              "      <td>245</td>\n",
              "      <td>103</td>\n",
              "      <td>27</td>\n",
              "      <td>0</td>\n",
              "      <td>3</td>\n",
              "      <td>53</td>\n",
              "      <td>453</td>\n",
              "    </tr>\n",
              "    <tr>\n",
              "      <th>2</th>\n",
              "      <td>0</td>\n",
              "      <td>75</td>\n",
              "      <td>0</td>\n",
              "      <td>57</td>\n",
              "      <td>53</td>\n",
              "      <td>0</td>\n",
              "      <td>5</td>\n",
              "      <td>253</td>\n",
              "      <td>103</td>\n",
              "      <td>180</td>\n",
              "      <td>1</td>\n",
              "      <td>2</td>\n",
              "      <td>53</td>\n",
              "      <td>753</td>\n",
              "    </tr>\n",
              "    <tr>\n",
              "      <th>3</th>\n",
              "      <td>0</td>\n",
              "      <td>75</td>\n",
              "      <td>0</td>\n",
              "      <td>57</td>\n",
              "      <td>53</td>\n",
              "      <td>0</td>\n",
              "      <td>5</td>\n",
              "      <td>266</td>\n",
              "      <td>103</td>\n",
              "      <td>253</td>\n",
              "      <td>6</td>\n",
              "      <td>2</td>\n",
              "      <td>53</td>\n",
              "      <td>1448</td>\n",
              "    </tr>\n",
              "    <tr>\n",
              "      <th>4</th>\n",
              "      <td>0</td>\n",
              "      <td>75</td>\n",
              "      <td>0</td>\n",
              "      <td>57</td>\n",
              "      <td>53</td>\n",
              "      <td>0</td>\n",
              "      <td>5</td>\n",
              "      <td>278</td>\n",
              "      <td>103</td>\n",
              "      <td>18</td>\n",
              "      <td>1</td>\n",
              "      <td>2</td>\n",
              "      <td>53</td>\n",
              "      <td>446</td>\n",
              "    </tr>\n",
              "    <tr>\n",
              "      <th>5</th>\n",
              "      <td>0</td>\n",
              "      <td>75</td>\n",
              "      <td>0</td>\n",
              "      <td>57</td>\n",
              "      <td>53</td>\n",
              "      <td>0</td>\n",
              "      <td>5</td>\n",
              "      <td>280</td>\n",
              "      <td>103</td>\n",
              "      <td>252</td>\n",
              "      <td>1</td>\n",
              "      <td>3</td>\n",
              "      <td>53</td>\n",
              "      <td>595</td>\n",
              "    </tr>\n",
              "    <tr>\n",
              "      <th>6</th>\n",
              "      <td>0</td>\n",
              "      <td>75</td>\n",
              "      <td>0</td>\n",
              "      <td>57</td>\n",
              "      <td>53</td>\n",
              "      <td>0</td>\n",
              "      <td>5</td>\n",
              "      <td>282</td>\n",
              "      <td>103</td>\n",
              "      <td>121</td>\n",
              "      <td>1</td>\n",
              "      <td>4</td>\n",
              "      <td>53</td>\n",
              "      <td>1012</td>\n",
              "    </tr>\n",
              "    <tr>\n",
              "      <th>7</th>\n",
              "      <td>0</td>\n",
              "      <td>75</td>\n",
              "      <td>0</td>\n",
              "      <td>57</td>\n",
              "      <td>53</td>\n",
              "      <td>0</td>\n",
              "      <td>5</td>\n",
              "      <td>310</td>\n",
              "      <td>103</td>\n",
              "      <td>180</td>\n",
              "      <td>2</td>\n",
              "      <td>3</td>\n",
              "      <td>53</td>\n",
              "      <td>831</td>\n",
              "    </tr>\n",
              "    <tr>\n",
              "      <th>8</th>\n",
              "      <td>0</td>\n",
              "      <td>75</td>\n",
              "      <td>0</td>\n",
              "      <td>57</td>\n",
              "      <td>53</td>\n",
              "      <td>0</td>\n",
              "      <td>5</td>\n",
              "      <td>326</td>\n",
              "      <td>103</td>\n",
              "      <td>253</td>\n",
              "      <td>1</td>\n",
              "      <td>2</td>\n",
              "      <td>53</td>\n",
              "      <td>513</td>\n",
              "    </tr>\n",
              "    <tr>\n",
              "      <th>9</th>\n",
              "      <td>0</td>\n",
              "      <td>75</td>\n",
              "      <td>0</td>\n",
              "      <td>57</td>\n",
              "      <td>53</td>\n",
              "      <td>0</td>\n",
              "      <td>5</td>\n",
              "      <td>336</td>\n",
              "      <td>103</td>\n",
              "      <td>74</td>\n",
              "      <td>1</td>\n",
              "      <td>4</td>\n",
              "      <td>53</td>\n",
              "      <td>595</td>\n",
              "    </tr>\n",
              "    <tr>\n",
              "      <th>10</th>\n",
              "      <td>0</td>\n",
              "      <td>75</td>\n",
              "      <td>0</td>\n",
              "      <td>57</td>\n",
              "      <td>53</td>\n",
              "      <td>0</td>\n",
              "      <td>5</td>\n",
              "      <td>499</td>\n",
              "      <td>103</td>\n",
              "      <td>121</td>\n",
              "      <td>1</td>\n",
              "      <td>0</td>\n",
              "      <td>53</td>\n",
              "      <td>198</td>\n",
              "    </tr>\n",
              "    <tr>\n",
              "      <th>11</th>\n",
              "      <td>0</td>\n",
              "      <td>75</td>\n",
              "      <td>0</td>\n",
              "      <td>57</td>\n",
              "      <td>53</td>\n",
              "      <td>0</td>\n",
              "      <td>5</td>\n",
              "      <td>514</td>\n",
              "      <td>103</td>\n",
              "      <td>18</td>\n",
              "      <td>3</td>\n",
              "      <td>3</td>\n",
              "      <td>53</td>\n",
              "      <td>446</td>\n",
              "    </tr>\n",
              "    <tr>\n",
              "      <th>12</th>\n",
              "      <td>0</td>\n",
              "      <td>75</td>\n",
              "      <td>0</td>\n",
              "      <td>57</td>\n",
              "      <td>53</td>\n",
              "      <td>0</td>\n",
              "      <td>5</td>\n",
              "      <td>549</td>\n",
              "      <td>103</td>\n",
              "      <td>253</td>\n",
              "      <td>2</td>\n",
              "      <td>2</td>\n",
              "      <td>53</td>\n",
              "      <td>509</td>\n",
              "    </tr>\n",
              "    <tr>\n",
              "      <th>13</th>\n",
              "      <td>0</td>\n",
              "      <td>75</td>\n",
              "      <td>0</td>\n",
              "      <td>57</td>\n",
              "      <td>53</td>\n",
              "      <td>0</td>\n",
              "      <td>5</td>\n",
              "      <td>567</td>\n",
              "      <td>103</td>\n",
              "      <td>121</td>\n",
              "      <td>0</td>\n",
              "      <td>0</td>\n",
              "      <td>53</td>\n",
              "      <td>224</td>\n",
              "    </tr>\n",
              "  </tbody>\n",
              "</table>\n",
              "</div>\n",
              "      <button class=\"colab-df-convert\" onclick=\"convertToInteractive('df-f1aaa46f-6ddc-4a64-bda8-0676fa3d4701')\"\n",
              "              title=\"Convert this dataframe to an interactive table.\"\n",
              "              style=\"display:none;\">\n",
              "        \n",
              "  <svg xmlns=\"http://www.w3.org/2000/svg\" height=\"24px\"viewBox=\"0 0 24 24\"\n",
              "       width=\"24px\">\n",
              "    <path d=\"M0 0h24v24H0V0z\" fill=\"none\"/>\n",
              "    <path d=\"M18.56 5.44l.94 2.06.94-2.06 2.06-.94-2.06-.94-.94-2.06-.94 2.06-2.06.94zm-11 1L8.5 8.5l.94-2.06 2.06-.94-2.06-.94L8.5 2.5l-.94 2.06-2.06.94zm10 10l.94 2.06.94-2.06 2.06-.94-2.06-.94-.94-2.06-.94 2.06-2.06.94z\"/><path d=\"M17.41 7.96l-1.37-1.37c-.4-.4-.92-.59-1.43-.59-.52 0-1.04.2-1.43.59L10.3 9.45l-7.72 7.72c-.78.78-.78 2.05 0 2.83L4 21.41c.39.39.9.59 1.41.59.51 0 1.02-.2 1.41-.59l7.78-7.78 2.81-2.81c.8-.78.8-2.07 0-2.86zM5.41 20L4 18.59l7.72-7.72 1.47 1.35L5.41 20z\"/>\n",
              "  </svg>\n",
              "      </button>\n",
              "      \n",
              "  <style>\n",
              "    .colab-df-container {\n",
              "      display:flex;\n",
              "      flex-wrap:wrap;\n",
              "      gap: 12px;\n",
              "    }\n",
              "\n",
              "    .colab-df-convert {\n",
              "      background-color: #E8F0FE;\n",
              "      border: none;\n",
              "      border-radius: 50%;\n",
              "      cursor: pointer;\n",
              "      display: none;\n",
              "      fill: #1967D2;\n",
              "      height: 32px;\n",
              "      padding: 0 0 0 0;\n",
              "      width: 32px;\n",
              "    }\n",
              "\n",
              "    .colab-df-convert:hover {\n",
              "      background-color: #E2EBFA;\n",
              "      box-shadow: 0px 1px 2px rgba(60, 64, 67, 0.3), 0px 1px 3px 1px rgba(60, 64, 67, 0.15);\n",
              "      fill: #174EA6;\n",
              "    }\n",
              "\n",
              "    [theme=dark] .colab-df-convert {\n",
              "      background-color: #3B4455;\n",
              "      fill: #D2E3FC;\n",
              "    }\n",
              "\n",
              "    [theme=dark] .colab-df-convert:hover {\n",
              "      background-color: #434B5C;\n",
              "      box-shadow: 0px 1px 3px 1px rgba(0, 0, 0, 0.15);\n",
              "      filter: drop-shadow(0px 1px 2px rgba(0, 0, 0, 0.3));\n",
              "      fill: #FFFFFF;\n",
              "    }\n",
              "  </style>\n",
              "\n",
              "      <script>\n",
              "        const buttonEl =\n",
              "          document.querySelector('#df-f1aaa46f-6ddc-4a64-bda8-0676fa3d4701 button.colab-df-convert');\n",
              "        buttonEl.style.display =\n",
              "          google.colab.kernel.accessAllowed ? 'block' : 'none';\n",
              "\n",
              "        async function convertToInteractive(key) {\n",
              "          const element = document.querySelector('#df-f1aaa46f-6ddc-4a64-bda8-0676fa3d4701');\n",
              "          const dataTable =\n",
              "            await google.colab.kernel.invokeFunction('convertToInteractive',\n",
              "                                                     [key], {});\n",
              "          if (!dataTable) return;\n",
              "\n",
              "          const docLinkHtml = 'Like what you see? Visit the ' +\n",
              "            '<a target=\"_blank\" href=https://colab.research.google.com/notebooks/data_table.ipynb>data table notebook</a>'\n",
              "            + ' to learn more about interactive tables.';\n",
              "          element.innerHTML = '';\n",
              "          dataTable['output_type'] = 'display_data';\n",
              "          await google.colab.output.renderOutput(dataTable, element);\n",
              "          const docLink = document.createElement('div');\n",
              "          docLink.innerHTML = docLinkHtml;\n",
              "          element.appendChild(docLink);\n",
              "        }\n",
              "      </script>\n",
              "    </div>\n",
              "  </div>\n",
              "  "
            ],
            "text/plain": [
              "    rank  country  total_points  ...  away_score  tournament  city\n",
              "1      0       75             0  ...           3          53   453\n",
              "2      0       75             0  ...           2          53   753\n",
              "3      0       75             0  ...           2          53  1448\n",
              "4      0       75             0  ...           2          53   446\n",
              "5      0       75             0  ...           3          53   595\n",
              "6      0       75             0  ...           4          53  1012\n",
              "7      0       75             0  ...           3          53   831\n",
              "8      0       75             0  ...           2          53   513\n",
              "9      0       75             0  ...           4          53   595\n",
              "10     0       75             0  ...           0          53   198\n",
              "11     0       75             0  ...           3          53   446\n",
              "12     0       75             0  ...           2          53   509\n",
              "13     0       75             0  ...           0          53   224\n",
              "\n",
              "[13 rows x 14 columns]"
            ]
          },
          "metadata": {},
          "execution_count": 17
        }
      ]
    },
    {
      "cell_type": "code",
      "source": [
        "#Checking the unique values of the target variable\n",
        "Y.unique()"
      ],
      "metadata": {
        "colab": {
          "base_uri": "https://localhost:8080/"
        },
        "id": "v_44S2auk2q9",
        "outputId": "e2e5868f-68d3-40bd-cad3-44fe268354a2"
      },
      "execution_count": 18,
      "outputs": [
        {
          "output_type": "execute_result",
          "data": {
            "text/plain": [
              "array([ 1,  3,  8,  4,  5,  6,  0,  7,  2,  9, 12, 13, 10, 11, 14, 20, 19,\n",
              "       16, 15, 22, 17, 25, 24, 18, 23, 21])"
            ]
          },
          "metadata": {},
          "execution_count": 18
        }
      ]
    },
    {
      "cell_type": "code",
      "source": [
        "#Step 3: Create an instance of LDA and train the model\n",
        "lda = LDA(solver='eigen',shrinkage='auto')\n",
        "X_lda = lda.fit(X,Y)\n",
        "lda_feat = X_lda.transform(X)\n",
        "\n",
        "#Display the coefficients of the reducted colums\n",
        "X_lda.coef_"
      ],
      "metadata": {
        "colab": {
          "base_uri": "https://localhost:8080/"
        },
        "id": "hOiqpC-gk7Md",
        "outputId": "397bdfdb-f391-4961-d7e7-0dafd0edc6c5"
      },
      "execution_count": 19,
      "outputs": [
        {
          "output_type": "execute_result",
          "data": {
            "text/plain": [
              "array([[ 1.07437366e-01,  3.03932846e-02,  1.66321814e-03,\n",
              "         1.47301653e-02,  1.95389073e+00, -3.14241070e-03,\n",
              "         1.05279566e+00,  6.34722486e-04,  7.42570901e-03,\n",
              "         2.40940584e-02,  1.50741564e-01, -1.50741564e-01,\n",
              "         7.58602644e-02,  3.10770852e-03],\n",
              "       [ 1.07808675e-01,  3.06564818e-02,  1.65646983e-03,\n",
              "         1.47289008e-02,  1.95384050e+00, -3.13092166e-03,\n",
              "         1.07963603e+00,  6.19682943e-04,  7.32722601e-03,\n",
              "         2.44320493e-02,  1.17916709e+03,  1.17878387e+03,\n",
              "         7.64277322e-02,  3.05227665e-03],\n",
              "       [ 1.08437093e-01,  3.06702424e-02,  1.65064008e-03,\n",
              "         1.47200992e-02,  1.95400568e+00, -3.12198663e-03,\n",
              "         1.11487443e+00,  6.06423037e-04,  7.23249867e-03,\n",
              "         2.41412218e-02,  2.35816708e+03,  2.35773484e+03,\n",
              "         7.78391188e-02,  3.08349444e-03],\n",
              "       [ 1.09179092e-01,  3.05063113e-02,  1.63950974e-03,\n",
              "         1.47309958e-02,  1.95428769e+00, -3.10461437e-03,\n",
              "         1.12411589e+00,  5.87714654e-04,  7.20793539e-03,\n",
              "         2.42462052e-02,  3.53718709e+03,  3.53666580e+03,\n",
              "         7.72758297e-02,  3.03129879e-03],\n",
              "       [ 1.09346058e-01,  3.03981966e-02,  1.62881696e-03,\n",
              "         1.47658634e-02,  1.95423036e+00, -3.08986705e-03,\n",
              "         1.12373303e+00,  5.50842872e-04,  7.21087794e-03,\n",
              "         2.41487629e-02,  4.71619281e+03,  4.71561103e+03,\n",
              "         7.66513141e-02,  3.07781285e-03],\n",
              "       [ 1.11231505e-01,  3.18167967e-02,  1.61755243e-03,\n",
              "         1.47757438e-02,  1.95508738e+00, -3.07281091e-03,\n",
              "         1.17708862e+00,  5.23797615e-04,  6.36554700e-03,\n",
              "         2.43789441e-02,  5.89524490e+03,  5.89450990e+03,\n",
              "         7.62866048e-02,  3.11665807e-03],\n",
              "       [ 1.10705499e-01,  3.03379007e-02,  1.60907931e-03,\n",
              "         1.48025338e-02,  1.95464207e+00, -3.06045699e-03,\n",
              "         1.16594089e+00,  4.87077284e-04,  7.05563827e-03,\n",
              "         2.44867532e-02,  7.07424847e+03,  7.07345729e+03,\n",
              "         7.56622946e-02,  3.18458082e-03],\n",
              "       [ 1.13212185e-01,  3.11536700e-02,  1.59927824e-03,\n",
              "         1.47589214e-02,  1.95584652e+00, -3.04253882e-03,\n",
              "         1.20920996e+00,  4.50855858e-04,  6.45300550e-03,\n",
              "         2.37066294e-02,  8.25334501e+03,  8.25231171e+03,\n",
              "         7.43635429e-02,  3.14158633e-03],\n",
              "       [ 1.14493616e-01,  3.07676685e-02,  1.57606434e-03,\n",
              "         1.48207877e-02,  1.95611944e+00, -3.00729412e-03,\n",
              "         1.20072208e+00,  4.12603054e-04,  7.45937892e-03,\n",
              "         2.43062922e-02,  9.43246900e+03,  9.43113869e+03,\n",
              "         7.88519159e-02,  3.14343292e-03],\n",
              "       [ 1.15966010e-01,  3.43371608e-02,  1.56356666e-03,\n",
              "         1.47637391e-02,  1.95637347e+00, -2.98183455e-03,\n",
              "         1.27285824e+00,  3.83084768e-04,  6.24596155e-03,\n",
              "         2.43236573e-02,  1.06115002e+04,  1.06100584e+04,\n",
              "         7.73118780e-02,  3.09763711e-03],\n",
              "       [ 1.18473488e-01,  3.23506705e-02,  1.55516823e-03,\n",
              "         1.48548622e-02,  1.95829875e+00, -2.97780650e-03,\n",
              "         1.19361550e+00,  3.82644842e-04,  6.43701042e-03,\n",
              "         2.51963147e-02,  1.17904317e+04,  1.17890780e+04,\n",
              "         7.69618641e-02,  3.21366465e-03],\n",
              "       [ 1.29166382e-01,  3.05093987e-02,  1.46123513e-03,\n",
              "         1.48591195e-02,  1.96145613e+00, -2.83249962e-03,\n",
              "         1.27271770e+00,  3.83795387e-04,  5.40858415e-03,\n",
              "         2.53619829e-02,  1.29699928e+04,  1.29674678e+04,\n",
              "         7.25641067e-02,  2.87066588e-03],\n",
              "       [ 1.24050424e-01,  3.00681660e-02,  1.55937643e-03,\n",
              "         1.45894770e-02,  1.95977569e+00, -2.98636786e-03,\n",
              "         1.38716816e+00,  3.23233839e-04,  8.42407949e-03,\n",
              "         2.08031944e-02,  1.41490054e+04,  1.41464062e+04,\n",
              "         7.46018042e-02,  2.70582130e-03],\n",
              "       [ 1.27584348e-01,  3.22665082e-02,  1.46361221e-03,\n",
              "         1.51968522e-02,  1.96044416e+00, -2.84970096e-03,\n",
              "         1.40457015e+00,  4.66289772e-04,  8.95265451e-03,\n",
              "         2.09180088e-02,  1.53276834e+04,  1.53256791e+04,\n",
              "         9.12525397e-02,  2.87365770e-03],\n",
              "       [ 1.33755681e-01,  1.47603700e-02,  1.48184073e-03,\n",
              "         1.46195326e-02,  1.96472902e+00, -2.84780876e-03,\n",
              "         1.11918121e+00,  2.86679337e-04,  2.11956541e-02,\n",
              "         2.77218461e-02,  1.65078224e+04,  1.65034910e+04,\n",
              "         9.13618523e-02,  2.40577559e-03],\n",
              "       [ 1.38272164e-01,  3.06128883e-02,  1.32591530e-03,\n",
              "         1.50263578e-02,  1.96479567e+00, -2.61370601e-03,\n",
              "         1.17031856e+00,  4.83452189e-04,  4.07449866e-03,\n",
              "         2.24552790e-02,  1.76856393e+04,  1.76836251e+04,\n",
              "         9.54537455e-02,  3.29130890e-03],\n",
              "       [ 1.47224405e-01,  5.06379367e-02,  1.34669440e-03,\n",
              "         1.47358774e-02,  1.97057072e+00, -2.61948534e-03,\n",
              "         1.32731813e+00,  4.51703616e-04, -1.71071516e-02,\n",
              "         2.72762405e-02,  1.88667473e+04,  1.88604681e+04,\n",
              "         1.15782893e-01,  1.07075632e-03],\n",
              "       [ 1.21381108e-01,  1.25347758e-02,  1.42884979e-03,\n",
              "         1.50176783e-02,  1.95825731e+00, -2.78403311e-03,\n",
              "         1.05031077e+00,  4.90228344e-04,  2.10628273e-02,\n",
              "         2.38802431e-02,  2.00428347e+04,  2.00423316e+04,\n",
              "         7.40103871e-02,  3.32919162e-03],\n",
              "       [ 1.30987525e-01,  1.21914112e-02,  1.31957850e-03,\n",
              "         1.52241963e-02,  1.96049142e+00, -2.62870432e-03,\n",
              "         1.22391387e+00,  6.39198948e-04,  2.12921691e-02,\n",
              "         3.33641743e-02,  2.12193008e+04,  2.12238165e+04,\n",
              "         1.50364959e-01,  3.19406771e-03],\n",
              "       [ 1.09261064e-01,  1.20109790e-01,  1.55872158e-03,\n",
              "         1.47019930e-02,  1.95374923e+00, -2.98498747e-03,\n",
              "         1.51161394e+00,  8.26498000e-04, -5.32080379e-02,\n",
              "         2.86011803e-02,  2.24007147e+04,  2.24003536e+04,\n",
              "        -3.88761107e-03,  4.80463187e-03],\n",
              "       [ 1.05678517e-01,  7.48694195e-02,  1.68217355e-03,\n",
              "         1.45008411e-02,  1.94935067e+00, -3.18163685e-03,\n",
              "         1.33097893e+00,  7.61943124e-04, -2.51292885e-02,\n",
              "         2.15846963e-02,  2.35787721e+04,  2.35802471e+04,\n",
              "         2.93511802e-02,  4.85767127e-03],\n",
              "       [ 1.10692429e-01, -7.60426307e-03,  1.25671386e-03,\n",
              "         1.61083133e-02,  1.95865227e+00, -2.53259018e-03,\n",
              "         1.94072725e-01,  7.57773507e-04,  2.46578315e-02,\n",
              "         2.51079559e-02,  2.47544435e+04,  2.47625267e+04,\n",
              "         8.98510643e-02,  6.00157015e-03],\n",
              "       [ 1.16208469e-01, -7.99417498e-03,  1.60355043e-03,\n",
              "         1.46795558e-02,  1.95879990e+00, -3.04564096e-03,\n",
              "         1.09258958e+00,  6.56467705e-04,  2.52664265e-02,\n",
              "         3.55609018e-02,  2.59418005e+04,  2.59331206e+04,\n",
              "         1.37885225e-01,  1.52306738e-03],\n",
              "       [ 1.94178576e-01,  3.09796709e-02,  9.56660527e-04,\n",
              "         1.45197998e-02,  1.98095018e+00, -2.07510986e-03,\n",
              "         2.16855971e+00,  1.97854413e-04, -8.58632344e-04,\n",
              "         2.45451286e-02,  2.71214449e+04,  2.71114272e+04,\n",
              "         1.47689366e-01,  3.59873816e-03],\n",
              "       [ 1.16422300e-01,  1.35158738e-02,  1.71312959e-03,\n",
              "         1.39499747e-02,  1.95917077e+00, -3.18215650e-03,\n",
              "         5.34990170e-01,  5.40148428e-04, -4.98800890e-03,\n",
              "         4.98025998e-03,  2.83003306e+04,  2.82904925e+04,\n",
              "         1.05902898e-01,  1.04147470e-03],\n",
              "       [ 1.23832295e-01, -1.82568258e-02,  1.38825141e-03,\n",
              "         1.52512280e-02,  1.95969090e+00, -2.68558892e-03,\n",
              "         5.44330636e-01,  8.29270388e-04,  5.63819177e-02,\n",
              "         4.54679530e-02,  5.54126212e+04,  5.54110740e+04,\n",
              "         2.02510495e-01,  6.90350829e-03]])"
            ]
          },
          "metadata": {},
          "execution_count": 19
        }
      ]
    },
    {
      "cell_type": "code",
      "source": [
        "#Since the coefficients are in array, we need to create a dataframe so that we can extract the name of the columns\n",
        "lda_df = pd.DataFrame(index=X.columns.values, data=X_lda.coef_[0].T)\n",
        "lda_df.sort_values(0, ascending=False)"
      ],
      "metadata": {
        "colab": {
          "base_uri": "https://localhost:8080/",
          "height": 488
        },
        "id": "ASpGVDGxlBDr",
        "outputId": "16fdf009-b15c-4204-f50d-2f24fd5b8fa9"
      },
      "execution_count": 20,
      "outputs": [
        {
          "output_type": "execute_result",
          "data": {
            "text/html": [
              "\n",
              "  <div id=\"df-2ca0f2eb-9207-4b74-a30a-054623666552\">\n",
              "    <div class=\"colab-df-container\">\n",
              "      <div>\n",
              "<style scoped>\n",
              "    .dataframe tbody tr th:only-of-type {\n",
              "        vertical-align: middle;\n",
              "    }\n",
              "\n",
              "    .dataframe tbody tr th {\n",
              "        vertical-align: top;\n",
              "    }\n",
              "\n",
              "    .dataframe thead th {\n",
              "        text-align: right;\n",
              "    }\n",
              "</style>\n",
              "<table border=\"1\" class=\"dataframe\">\n",
              "  <thead>\n",
              "    <tr style=\"text-align: right;\">\n",
              "      <th></th>\n",
              "      <th>0</th>\n",
              "    </tr>\n",
              "  </thead>\n",
              "  <tbody>\n",
              "    <tr>\n",
              "      <th>rank_change</th>\n",
              "      <td>1.953891</td>\n",
              "    </tr>\n",
              "    <tr>\n",
              "      <th>confederation</th>\n",
              "      <td>1.052796</td>\n",
              "    </tr>\n",
              "    <tr>\n",
              "      <th>home_score</th>\n",
              "      <td>0.150742</td>\n",
              "    </tr>\n",
              "    <tr>\n",
              "      <th>rank</th>\n",
              "      <td>0.107437</td>\n",
              "    </tr>\n",
              "    <tr>\n",
              "      <th>tournament</th>\n",
              "      <td>0.075860</td>\n",
              "    </tr>\n",
              "    <tr>\n",
              "      <th>country</th>\n",
              "      <td>0.030393</td>\n",
              "    </tr>\n",
              "    <tr>\n",
              "      <th>away_team</th>\n",
              "      <td>0.024094</td>\n",
              "    </tr>\n",
              "    <tr>\n",
              "      <th>previous_points</th>\n",
              "      <td>0.014730</td>\n",
              "    </tr>\n",
              "    <tr>\n",
              "      <th>home_team</th>\n",
              "      <td>0.007426</td>\n",
              "    </tr>\n",
              "    <tr>\n",
              "      <th>city</th>\n",
              "      <td>0.003108</td>\n",
              "    </tr>\n",
              "    <tr>\n",
              "      <th>total_points</th>\n",
              "      <td>0.001663</td>\n",
              "    </tr>\n",
              "    <tr>\n",
              "      <th>date</th>\n",
              "      <td>0.000635</td>\n",
              "    </tr>\n",
              "    <tr>\n",
              "      <th>cur_year_avg</th>\n",
              "      <td>-0.003142</td>\n",
              "    </tr>\n",
              "    <tr>\n",
              "      <th>away_score</th>\n",
              "      <td>-0.150742</td>\n",
              "    </tr>\n",
              "  </tbody>\n",
              "</table>\n",
              "</div>\n",
              "      <button class=\"colab-df-convert\" onclick=\"convertToInteractive('df-2ca0f2eb-9207-4b74-a30a-054623666552')\"\n",
              "              title=\"Convert this dataframe to an interactive table.\"\n",
              "              style=\"display:none;\">\n",
              "        \n",
              "  <svg xmlns=\"http://www.w3.org/2000/svg\" height=\"24px\"viewBox=\"0 0 24 24\"\n",
              "       width=\"24px\">\n",
              "    <path d=\"M0 0h24v24H0V0z\" fill=\"none\"/>\n",
              "    <path d=\"M18.56 5.44l.94 2.06.94-2.06 2.06-.94-2.06-.94-.94-2.06-.94 2.06-2.06.94zm-11 1L8.5 8.5l.94-2.06 2.06-.94-2.06-.94L8.5 2.5l-.94 2.06-2.06.94zm10 10l.94 2.06.94-2.06 2.06-.94-2.06-.94-.94-2.06-.94 2.06-2.06.94z\"/><path d=\"M17.41 7.96l-1.37-1.37c-.4-.4-.92-.59-1.43-.59-.52 0-1.04.2-1.43.59L10.3 9.45l-7.72 7.72c-.78.78-.78 2.05 0 2.83L4 21.41c.39.39.9.59 1.41.59.51 0 1.02-.2 1.41-.59l7.78-7.78 2.81-2.81c.8-.78.8-2.07 0-2.86zM5.41 20L4 18.59l7.72-7.72 1.47 1.35L5.41 20z\"/>\n",
              "  </svg>\n",
              "      </button>\n",
              "      \n",
              "  <style>\n",
              "    .colab-df-container {\n",
              "      display:flex;\n",
              "      flex-wrap:wrap;\n",
              "      gap: 12px;\n",
              "    }\n",
              "\n",
              "    .colab-df-convert {\n",
              "      background-color: #E8F0FE;\n",
              "      border: none;\n",
              "      border-radius: 50%;\n",
              "      cursor: pointer;\n",
              "      display: none;\n",
              "      fill: #1967D2;\n",
              "      height: 32px;\n",
              "      padding: 0 0 0 0;\n",
              "      width: 32px;\n",
              "    }\n",
              "\n",
              "    .colab-df-convert:hover {\n",
              "      background-color: #E2EBFA;\n",
              "      box-shadow: 0px 1px 2px rgba(60, 64, 67, 0.3), 0px 1px 3px 1px rgba(60, 64, 67, 0.15);\n",
              "      fill: #174EA6;\n",
              "    }\n",
              "\n",
              "    [theme=dark] .colab-df-convert {\n",
              "      background-color: #3B4455;\n",
              "      fill: #D2E3FC;\n",
              "    }\n",
              "\n",
              "    [theme=dark] .colab-df-convert:hover {\n",
              "      background-color: #434B5C;\n",
              "      box-shadow: 0px 1px 3px 1px rgba(0, 0, 0, 0.15);\n",
              "      filter: drop-shadow(0px 1px 2px rgba(0, 0, 0, 0.3));\n",
              "      fill: #FFFFFF;\n",
              "    }\n",
              "  </style>\n",
              "\n",
              "      <script>\n",
              "        const buttonEl =\n",
              "          document.querySelector('#df-2ca0f2eb-9207-4b74-a30a-054623666552 button.colab-df-convert');\n",
              "        buttonEl.style.display =\n",
              "          google.colab.kernel.accessAllowed ? 'block' : 'none';\n",
              "\n",
              "        async function convertToInteractive(key) {\n",
              "          const element = document.querySelector('#df-2ca0f2eb-9207-4b74-a30a-054623666552');\n",
              "          const dataTable =\n",
              "            await google.colab.kernel.invokeFunction('convertToInteractive',\n",
              "                                                     [key], {});\n",
              "          if (!dataTable) return;\n",
              "\n",
              "          const docLinkHtml = 'Like what you see? Visit the ' +\n",
              "            '<a target=\"_blank\" href=https://colab.research.google.com/notebooks/data_table.ipynb>data table notebook</a>'\n",
              "            + ' to learn more about interactive tables.';\n",
              "          element.innerHTML = '';\n",
              "          dataTable['output_type'] = 'display_data';\n",
              "          await google.colab.output.renderOutput(dataTable, element);\n",
              "          const docLink = document.createElement('div');\n",
              "          docLink.innerHTML = docLinkHtml;\n",
              "          element.appendChild(docLink);\n",
              "        }\n",
              "      </script>\n",
              "    </div>\n",
              "  </div>\n",
              "  "
            ],
            "text/plain": [
              "                        0\n",
              "rank_change      1.953891\n",
              "confederation    1.052796\n",
              "home_score       0.150742\n",
              "rank             0.107437\n",
              "tournament       0.075860\n",
              "country          0.030393\n",
              "away_team        0.024094\n",
              "previous_points  0.014730\n",
              "home_team        0.007426\n",
              "city             0.003108\n",
              "total_points     0.001663\n",
              "date             0.000635\n",
              "cur_year_avg    -0.003142\n",
              "away_score      -0.150742"
            ]
          },
          "metadata": {},
          "execution_count": 20
        }
      ]
    },
    {
      "cell_type": "markdown",
      "source": [
        "The factors that influece the outcome of a match between two  teams are: rank change annd confederation hosting the match. The rest of the factors that are weakly determinants are: home score, rank, tournament, country, away team, previous points, home team, city, total points and data. "
      ],
      "metadata": {
        "id": "59gug-AQqms_"
      }
    },
    {
      "cell_type": "markdown",
      "source": [
        "**Recommendations**\n",
        "1. A neutral ground would be likely to influence the negative correlation between home teams and away teams.\n",
        "2.The rank change meant that the quality of ateam had improved and therefore their chances to win the match were high"
      ],
      "metadata": {
        "id": "mY1mFtuPw27L"
      }
    },
    {
      "cell_type": "markdown",
      "source": [
        "5.1 **Polynomial Regression**"
      ],
      "metadata": {
        "id": "S3E1AkHuqZTz"
      }
    },
    {
      "cell_type": "markdown",
      "source": [
        "Some steps will be followed when conducting Polynomial Regression analyis include:Feature engineering, checking multicolineality using Linear regression tools, cross validating the models and computing the RMSE."
      ],
      "metadata": {
        "id": "8d7EMeLi5y2V"
      }
    },
    {
      "cell_type": "code",
      "source": [
        "#importing the libraries we need\n",
        "import numpy as np\n",
        "import pandas as pd\n",
        "import matplotlib.pyplot as plt\n",
        "\n",
        "from sklearn.preprocessing import PolynomialFeatures\n",
        "\n",
        "from sklearn.model_selection import train_test_split\n",
        "\n",
        "# Import LinearRegression method from sklearn linear_model library\n",
        "from sklearn.linear_model import LinearRegression\n"
      ],
      "metadata": {
        "id": "nZ0sJP58yCes"
      },
      "execution_count": 18,
      "outputs": []
    },
    {
      "cell_type": "markdown",
      "source": [
        "In the first model we will use the home team column as the dependent variable for the frist model\n",
        "\n",
        "in the second model we will use the away team score as the dependent variable.\n",
        "\n",
        "\n",
        "The models will be used to predict the performance of a team given the ranks of the home and away teams"
      ],
      "metadata": {
        "id": "hP8DnYx56ufk"
      }
    },
    {
      "cell_type": "code",
      "source": [
        "prediction_df.describe()"
      ],
      "metadata": {
        "colab": {
          "base_uri": "https://localhost:8080/",
          "height": 300
        },
        "id": "ePDF7e0Eydsy",
        "outputId": "a782c191-2143-4f36-ce73-0475c483636c"
      },
      "execution_count": 24,
      "outputs": [
        {
          "output_type": "execute_result",
          "data": {
            "text/html": [
              "\n",
              "  <div id=\"df-f295fe36-66c0-4c44-97a7-d794f192cc58\">\n",
              "    <div class=\"colab-df-container\">\n",
              "      <div>\n",
              "<style scoped>\n",
              "    .dataframe tbody tr th:only-of-type {\n",
              "        vertical-align: middle;\n",
              "    }\n",
              "\n",
              "    .dataframe tbody tr th {\n",
              "        vertical-align: top;\n",
              "    }\n",
              "\n",
              "    .dataframe thead th {\n",
              "        text-align: right;\n",
              "    }\n",
              "</style>\n",
              "<table border=\"1\" class=\"dataframe\">\n",
              "  <thead>\n",
              "    <tr style=\"text-align: right;\">\n",
              "      <th></th>\n",
              "      <th>rank</th>\n",
              "      <th>total_points</th>\n",
              "      <th>previous_points</th>\n",
              "      <th>rank_change</th>\n",
              "      <th>cur_year_avg</th>\n",
              "      <th>home_score</th>\n",
              "      <th>away_score</th>\n",
              "      <th>total_scores</th>\n",
              "    </tr>\n",
              "  </thead>\n",
              "  <tbody>\n",
              "    <tr>\n",
              "      <th>count</th>\n",
              "      <td>1.025128e+07</td>\n",
              "      <td>1.025128e+07</td>\n",
              "      <td>1.025128e+07</td>\n",
              "      <td>1.025128e+07</td>\n",
              "      <td>1.025128e+07</td>\n",
              "      <td>1.024651e+07</td>\n",
              "      <td>1.024651e+07</td>\n",
              "      <td>1.024651e+07</td>\n",
              "    </tr>\n",
              "    <tr>\n",
              "      <th>mean</th>\n",
              "      <td>6.918719e+01</td>\n",
              "      <td>1.723459e+02</td>\n",
              "      <td>4.594988e+02</td>\n",
              "      <td>-2.482011e-02</td>\n",
              "      <td>8.697930e+01</td>\n",
              "      <td>1.734292e+00</td>\n",
              "      <td>1.179052e+00</td>\n",
              "      <td>2.913344e+00</td>\n",
              "    </tr>\n",
              "    <tr>\n",
              "      <th>std</th>\n",
              "      <td>5.086375e+01</td>\n",
              "      <td>3.363039e+02</td>\n",
              "      <td>3.535307e+02</td>\n",
              "      <td>5.382218e+00</td>\n",
              "      <td>1.765448e+02</td>\n",
              "      <td>1.733112e+00</td>\n",
              "      <td>1.381282e+00</td>\n",
              "      <td>2.070484e+00</td>\n",
              "    </tr>\n",
              "    <tr>\n",
              "      <th>min</th>\n",
              "      <td>1.000000e+00</td>\n",
              "      <td>0.000000e+00</td>\n",
              "      <td>0.000000e+00</td>\n",
              "      <td>-7.200000e+01</td>\n",
              "      <td>0.000000e+00</td>\n",
              "      <td>0.000000e+00</td>\n",
              "      <td>0.000000e+00</td>\n",
              "      <td>0.000000e+00</td>\n",
              "    </tr>\n",
              "    <tr>\n",
              "      <th>25%</th>\n",
              "      <td>2.500000e+01</td>\n",
              "      <td>0.000000e+00</td>\n",
              "      <td>1.400000e+02</td>\n",
              "      <td>-2.000000e+00</td>\n",
              "      <td>0.000000e+00</td>\n",
              "      <td>1.000000e+00</td>\n",
              "      <td>0.000000e+00</td>\n",
              "      <td>1.000000e+00</td>\n",
              "    </tr>\n",
              "    <tr>\n",
              "      <th>50%</th>\n",
              "      <td>6.100000e+01</td>\n",
              "      <td>0.000000e+00</td>\n",
              "      <td>4.430000e+02</td>\n",
              "      <td>0.000000e+00</td>\n",
              "      <td>0.000000e+00</td>\n",
              "      <td>1.000000e+00</td>\n",
              "      <td>1.000000e+00</td>\n",
              "      <td>3.000000e+00</td>\n",
              "    </tr>\n",
              "    <tr>\n",
              "      <th>75%</th>\n",
              "      <td>1.050000e+02</td>\n",
              "      <td>1.964000e+02</td>\n",
              "      <td>6.590000e+02</td>\n",
              "      <td>1.000000e+00</td>\n",
              "      <td>8.368000e+01</td>\n",
              "      <td>2.000000e+00</td>\n",
              "      <td>2.000000e+00</td>\n",
              "      <td>4.000000e+00</td>\n",
              "    </tr>\n",
              "    <tr>\n",
              "      <th>max</th>\n",
              "      <td>2.090000e+02</td>\n",
              "      <td>1.775030e+03</td>\n",
              "      <td>1.920000e+03</td>\n",
              "      <td>9.200000e+01</td>\n",
              "      <td>1.158660e+03</td>\n",
              "      <td>3.100000e+01</td>\n",
              "      <td>2.100000e+01</td>\n",
              "      <td>3.100000e+01</td>\n",
              "    </tr>\n",
              "  </tbody>\n",
              "</table>\n",
              "</div>\n",
              "      <button class=\"colab-df-convert\" onclick=\"convertToInteractive('df-f295fe36-66c0-4c44-97a7-d794f192cc58')\"\n",
              "              title=\"Convert this dataframe to an interactive table.\"\n",
              "              style=\"display:none;\">\n",
              "        \n",
              "  <svg xmlns=\"http://www.w3.org/2000/svg\" height=\"24px\"viewBox=\"0 0 24 24\"\n",
              "       width=\"24px\">\n",
              "    <path d=\"M0 0h24v24H0V0z\" fill=\"none\"/>\n",
              "    <path d=\"M18.56 5.44l.94 2.06.94-2.06 2.06-.94-2.06-.94-.94-2.06-.94 2.06-2.06.94zm-11 1L8.5 8.5l.94-2.06 2.06-.94-2.06-.94L8.5 2.5l-.94 2.06-2.06.94zm10 10l.94 2.06.94-2.06 2.06-.94-2.06-.94-.94-2.06-.94 2.06-2.06.94z\"/><path d=\"M17.41 7.96l-1.37-1.37c-.4-.4-.92-.59-1.43-.59-.52 0-1.04.2-1.43.59L10.3 9.45l-7.72 7.72c-.78.78-.78 2.05 0 2.83L4 21.41c.39.39.9.59 1.41.59.51 0 1.02-.2 1.41-.59l7.78-7.78 2.81-2.81c.8-.78.8-2.07 0-2.86zM5.41 20L4 18.59l7.72-7.72 1.47 1.35L5.41 20z\"/>\n",
              "  </svg>\n",
              "      </button>\n",
              "      \n",
              "  <style>\n",
              "    .colab-df-container {\n",
              "      display:flex;\n",
              "      flex-wrap:wrap;\n",
              "      gap: 12px;\n",
              "    }\n",
              "\n",
              "    .colab-df-convert {\n",
              "      background-color: #E8F0FE;\n",
              "      border: none;\n",
              "      border-radius: 50%;\n",
              "      cursor: pointer;\n",
              "      display: none;\n",
              "      fill: #1967D2;\n",
              "      height: 32px;\n",
              "      padding: 0 0 0 0;\n",
              "      width: 32px;\n",
              "    }\n",
              "\n",
              "    .colab-df-convert:hover {\n",
              "      background-color: #E2EBFA;\n",
              "      box-shadow: 0px 1px 2px rgba(60, 64, 67, 0.3), 0px 1px 3px 1px rgba(60, 64, 67, 0.15);\n",
              "      fill: #174EA6;\n",
              "    }\n",
              "\n",
              "    [theme=dark] .colab-df-convert {\n",
              "      background-color: #3B4455;\n",
              "      fill: #D2E3FC;\n",
              "    }\n",
              "\n",
              "    [theme=dark] .colab-df-convert:hover {\n",
              "      background-color: #434B5C;\n",
              "      box-shadow: 0px 1px 3px 1px rgba(0, 0, 0, 0.15);\n",
              "      filter: drop-shadow(0px 1px 2px rgba(0, 0, 0, 0.3));\n",
              "      fill: #FFFFFF;\n",
              "    }\n",
              "  </style>\n",
              "\n",
              "      <script>\n",
              "        const buttonEl =\n",
              "          document.querySelector('#df-f295fe36-66c0-4c44-97a7-d794f192cc58 button.colab-df-convert');\n",
              "        buttonEl.style.display =\n",
              "          google.colab.kernel.accessAllowed ? 'block' : 'none';\n",
              "\n",
              "        async function convertToInteractive(key) {\n",
              "          const element = document.querySelector('#df-f295fe36-66c0-4c44-97a7-d794f192cc58');\n",
              "          const dataTable =\n",
              "            await google.colab.kernel.invokeFunction('convertToInteractive',\n",
              "                                                     [key], {});\n",
              "          if (!dataTable) return;\n",
              "\n",
              "          const docLinkHtml = 'Like what you see? Visit the ' +\n",
              "            '<a target=\"_blank\" href=https://colab.research.google.com/notebooks/data_table.ipynb>data table notebook</a>'\n",
              "            + ' to learn more about interactive tables.';\n",
              "          element.innerHTML = '';\n",
              "          dataTable['output_type'] = 'display_data';\n",
              "          await google.colab.output.renderOutput(dataTable, element);\n",
              "          const docLink = document.createElement('div');\n",
              "          docLink.innerHTML = docLinkHtml;\n",
              "          element.appendChild(docLink);\n",
              "        }\n",
              "      </script>\n",
              "    </div>\n",
              "  </div>\n",
              "  "
            ],
            "text/plain": [
              "               rank  total_points  ...    away_score  total_scores\n",
              "count  1.025128e+07  1.025128e+07  ...  1.024651e+07  1.024651e+07\n",
              "mean   6.918719e+01  1.723459e+02  ...  1.179052e+00  2.913344e+00\n",
              "std    5.086375e+01  3.363039e+02  ...  1.381282e+00  2.070484e+00\n",
              "min    1.000000e+00  0.000000e+00  ...  0.000000e+00  0.000000e+00\n",
              "25%    2.500000e+01  0.000000e+00  ...  0.000000e+00  1.000000e+00\n",
              "50%    6.100000e+01  0.000000e+00  ...  1.000000e+00  3.000000e+00\n",
              "75%    1.050000e+02  1.964000e+02  ...  2.000000e+00  4.000000e+00\n",
              "max    2.090000e+02  1.775030e+03  ...  2.100000e+01  3.100000e+01\n",
              "\n",
              "[8 rows x 8 columns]"
            ]
          },
          "metadata": {},
          "execution_count": 24
        }
      ]
    },
    {
      "cell_type": "markdown",
      "source": [
        "5.2 **Multicolinearlity**"
      ],
      "metadata": {
        "id": "T4s8pWIB8kLd"
      }
    },
    {
      "cell_type": "code",
      "source": [
        "#dropping the colomns from the dataset to remain with only independent variables: rank of home team, \n",
        "\n",
        "independent_only = prediction_dff.drop(columns=['total_points', 'previous_points','date','cur_year_avg'])\n",
        "\n",
        "# Let's display the correlations between the variables\n",
        "correlations = independent_only.corr()\n",
        "\n",
        "correlations"
      ],
      "metadata": {
        "id": "CYRGA9Q68AF6",
        "colab": {
          "base_uri": "https://localhost:8080/",
          "height": 395
        },
        "outputId": "3ead63d7-31bf-45a5-81a6-eccf79ea3bff"
      },
      "execution_count": 33,
      "outputs": [
        {
          "output_type": "execute_result",
          "data": {
            "text/html": [
              "<div>\n",
              "<style scoped>\n",
              "    .dataframe tbody tr th:only-of-type {\n",
              "        vertical-align: middle;\n",
              "    }\n",
              "\n",
              "    .dataframe tbody tr th {\n",
              "        vertical-align: top;\n",
              "    }\n",
              "\n",
              "    .dataframe thead th {\n",
              "        text-align: right;\n",
              "    }\n",
              "</style>\n",
              "<table border=\"1\" class=\"dataframe\">\n",
              "  <thead>\n",
              "    <tr style=\"text-align: right;\">\n",
              "      <th></th>\n",
              "      <th>rank</th>\n",
              "      <th>country</th>\n",
              "      <th>rank_change</th>\n",
              "      <th>confederation</th>\n",
              "      <th>home_team</th>\n",
              "      <th>away_team</th>\n",
              "      <th>home_score</th>\n",
              "      <th>away_score</th>\n",
              "      <th>tournament</th>\n",
              "      <th>city</th>\n",
              "      <th>total_scores</th>\n",
              "    </tr>\n",
              "  </thead>\n",
              "  <tbody>\n",
              "    <tr>\n",
              "      <th>rank</th>\n",
              "      <td>1.000000</td>\n",
              "      <td>0.025200</td>\n",
              "      <td>-0.057762</td>\n",
              "      <td>-0.472561</td>\n",
              "      <td>0.026064</td>\n",
              "      <td>0.049119</td>\n",
              "      <td>-0.079716</td>\n",
              "      <td>0.093577</td>\n",
              "      <td>-0.117551</td>\n",
              "      <td>-0.015943</td>\n",
              "      <td>-0.008122</td>\n",
              "    </tr>\n",
              "    <tr>\n",
              "      <th>country</th>\n",
              "      <td>0.025200</td>\n",
              "      <td>1.000000</td>\n",
              "      <td>-0.001580</td>\n",
              "      <td>-0.084045</td>\n",
              "      <td>0.769043</td>\n",
              "      <td>-0.012885</td>\n",
              "      <td>-0.006419</td>\n",
              "      <td>-0.005495</td>\n",
              "      <td>-0.045277</td>\n",
              "      <td>-0.063264</td>\n",
              "      <td>-0.009798</td>\n",
              "    </tr>\n",
              "    <tr>\n",
              "      <th>rank_change</th>\n",
              "      <td>-0.057762</td>\n",
              "      <td>-0.001580</td>\n",
              "      <td>1.000000</td>\n",
              "      <td>0.006016</td>\n",
              "      <td>-0.001474</td>\n",
              "      <td>-0.001504</td>\n",
              "      <td>0.000164</td>\n",
              "      <td>-0.000552</td>\n",
              "      <td>0.001326</td>\n",
              "      <td>0.003439</td>\n",
              "      <td>-0.000263</td>\n",
              "    </tr>\n",
              "    <tr>\n",
              "      <th>confederation</th>\n",
              "      <td>-0.472561</td>\n",
              "      <td>-0.084045</td>\n",
              "      <td>0.006016</td>\n",
              "      <td>1.000000</td>\n",
              "      <td>-0.058833</td>\n",
              "      <td>-0.068204</td>\n",
              "      <td>0.025059</td>\n",
              "      <td>0.050553</td>\n",
              "      <td>0.330027</td>\n",
              "      <td>0.090889</td>\n",
              "      <td>0.058969</td>\n",
              "    </tr>\n",
              "    <tr>\n",
              "      <th>home_team</th>\n",
              "      <td>0.026064</td>\n",
              "      <td>0.769043</td>\n",
              "      <td>-0.001474</td>\n",
              "      <td>-0.058833</td>\n",
              "      <td>1.000000</td>\n",
              "      <td>-0.005133</td>\n",
              "      <td>0.010758</td>\n",
              "      <td>-0.007365</td>\n",
              "      <td>-0.033715</td>\n",
              "      <td>-0.047547</td>\n",
              "      <td>-0.004727</td>\n",
              "    </tr>\n",
              "    <tr>\n",
              "      <th>away_team</th>\n",
              "      <td>0.049119</td>\n",
              "      <td>-0.012885</td>\n",
              "      <td>-0.001504</td>\n",
              "      <td>-0.068204</td>\n",
              "      <td>-0.005133</td>\n",
              "      <td>1.000000</td>\n",
              "      <td>-0.006078</td>\n",
              "      <td>0.031359</td>\n",
              "      <td>-0.022597</td>\n",
              "      <td>-0.027875</td>\n",
              "      <td>0.007915</td>\n",
              "    </tr>\n",
              "    <tr>\n",
              "      <th>home_score</th>\n",
              "      <td>-0.079716</td>\n",
              "      <td>-0.006419</td>\n",
              "      <td>0.000164</td>\n",
              "      <td>0.025059</td>\n",
              "      <td>0.010758</td>\n",
              "      <td>-0.006078</td>\n",
              "      <td>1.000000</td>\n",
              "      <td>-0.033061</td>\n",
              "      <td>0.014291</td>\n",
              "      <td>0.014099</td>\n",
              "      <td>0.763810</td>\n",
              "    </tr>\n",
              "    <tr>\n",
              "      <th>away_score</th>\n",
              "      <td>0.093577</td>\n",
              "      <td>-0.005495</td>\n",
              "      <td>-0.000552</td>\n",
              "      <td>0.050553</td>\n",
              "      <td>-0.007365</td>\n",
              "      <td>0.031359</td>\n",
              "      <td>-0.033061</td>\n",
              "      <td>1.000000</td>\n",
              "      <td>0.038219</td>\n",
              "      <td>0.018884</td>\n",
              "      <td>0.587206</td>\n",
              "    </tr>\n",
              "    <tr>\n",
              "      <th>tournament</th>\n",
              "      <td>-0.117551</td>\n",
              "      <td>-0.045277</td>\n",
              "      <td>0.001326</td>\n",
              "      <td>0.330027</td>\n",
              "      <td>-0.033715</td>\n",
              "      <td>-0.022597</td>\n",
              "      <td>0.014291</td>\n",
              "      <td>0.038219</td>\n",
              "      <td>1.000000</td>\n",
              "      <td>0.066547</td>\n",
              "      <td>0.026623</td>\n",
              "    </tr>\n",
              "    <tr>\n",
              "      <th>city</th>\n",
              "      <td>-0.015943</td>\n",
              "      <td>-0.063264</td>\n",
              "      <td>0.003439</td>\n",
              "      <td>0.090889</td>\n",
              "      <td>-0.047547</td>\n",
              "      <td>-0.027875</td>\n",
              "      <td>0.014099</td>\n",
              "      <td>0.018884</td>\n",
              "      <td>0.066547</td>\n",
              "      <td>1.000000</td>\n",
              "      <td>0.015790</td>\n",
              "    </tr>\n",
              "    <tr>\n",
              "      <th>total_scores</th>\n",
              "      <td>-0.008122</td>\n",
              "      <td>-0.009798</td>\n",
              "      <td>-0.000263</td>\n",
              "      <td>0.058969</td>\n",
              "      <td>-0.004727</td>\n",
              "      <td>0.007915</td>\n",
              "      <td>0.763810</td>\n",
              "      <td>0.587206</td>\n",
              "      <td>0.026623</td>\n",
              "      <td>0.015790</td>\n",
              "      <td>1.000000</td>\n",
              "    </tr>\n",
              "  </tbody>\n",
              "</table>\n",
              "</div>"
            ],
            "text/plain": [
              "                   rank   country  ...      city  total_scores\n",
              "rank           1.000000  0.025200  ... -0.015943     -0.008122\n",
              "country        0.025200  1.000000  ... -0.063264     -0.009798\n",
              "rank_change   -0.057762 -0.001580  ...  0.003439     -0.000263\n",
              "confederation -0.472561 -0.084045  ...  0.090889      0.058969\n",
              "home_team      0.026064  0.769043  ... -0.047547     -0.004727\n",
              "away_team      0.049119 -0.012885  ... -0.027875      0.007915\n",
              "home_score    -0.079716 -0.006419  ...  0.014099      0.763810\n",
              "away_score     0.093577 -0.005495  ...  0.018884      0.587206\n",
              "tournament    -0.117551 -0.045277  ...  0.066547      0.026623\n",
              "city          -0.015943 -0.063264  ...  1.000000      0.015790\n",
              "total_scores  -0.008122 -0.009798  ...  0.015790      1.000000\n",
              "\n",
              "[11 rows x 11 columns]"
            ]
          },
          "metadata": {},
          "execution_count": 33
        }
      ]
    },
    {
      "cell_type": "markdown",
      "source": [
        "The correlations will be used to compute the variation inflation factors (VIF) scores."
      ],
      "metadata": {
        "id": "Bxfdj9H6-75F"
      }
    },
    {
      "cell_type": "code",
      "source": [
        "#creating an inverse matrix\n",
        "pd.DataFrame(np.linalg.inv(correlations.values), index = correlations.index, columns=correlations.columns)"
      ],
      "metadata": {
        "id": "p_y83rCu-vXj",
        "colab": {
          "base_uri": "https://localhost:8080/",
          "height": 395
        },
        "outputId": "82400c3f-a800-4110-ac00-41d0c9bdaebe"
      },
      "execution_count": 37,
      "outputs": [
        {
          "output_type": "execute_result",
          "data": {
            "text/html": [
              "<div>\n",
              "<style scoped>\n",
              "    .dataframe tbody tr th:only-of-type {\n",
              "        vertical-align: middle;\n",
              "    }\n",
              "\n",
              "    .dataframe tbody tr th {\n",
              "        vertical-align: top;\n",
              "    }\n",
              "\n",
              "    .dataframe thead th {\n",
              "        text-align: right;\n",
              "    }\n",
              "</style>\n",
              "<table border=\"1\" class=\"dataframe\">\n",
              "  <thead>\n",
              "    <tr style=\"text-align: right;\">\n",
              "      <th></th>\n",
              "      <th>rank</th>\n",
              "      <th>country</th>\n",
              "      <th>rank_change</th>\n",
              "      <th>confederation</th>\n",
              "      <th>home_team</th>\n",
              "      <th>away_team</th>\n",
              "      <th>home_score</th>\n",
              "      <th>away_score</th>\n",
              "      <th>tournament</th>\n",
              "      <th>city</th>\n",
              "      <th>total_scores</th>\n",
              "    </tr>\n",
              "  </thead>\n",
              "  <tbody>\n",
              "    <tr>\n",
              "      <th>rank</th>\n",
              "      <td>1.328071</td>\n",
              "      <td>0.044317</td>\n",
              "      <td>0.072851</td>\n",
              "      <td>0.654129</td>\n",
              "      <td>-0.036130</td>\n",
              "      <td>-0.017379</td>\n",
              "      <td>0.133699</td>\n",
              "      <td>-0.114175</td>\n",
              "      <td>-0.053195</td>\n",
              "      <td>-0.033163</td>\n",
              "      <td>-0.060504</td>\n",
              "    </tr>\n",
              "    <tr>\n",
              "      <th>country</th>\n",
              "      <td>0.044317</td>\n",
              "      <td>2.467737</td>\n",
              "      <td>0.002802</td>\n",
              "      <td>0.112902</td>\n",
              "      <td>-1.892463</td>\n",
              "      <td>0.027839</td>\n",
              "      <td>0.285635</td>\n",
              "      <td>0.184039</td>\n",
              "      <td>0.010263</td>\n",
              "      <td>0.054195</td>\n",
              "      <td>-0.318653</td>\n",
              "    </tr>\n",
              "    <tr>\n",
              "      <th>rank_change</th>\n",
              "      <td>0.072851</td>\n",
              "      <td>0.002802</td>\n",
              "      <td>1.004045</td>\n",
              "      <td>0.029915</td>\n",
              "      <td>-0.001218</td>\n",
              "      <td>0.000082</td>\n",
              "      <td>0.005400</td>\n",
              "      <td>-0.006957</td>\n",
              "      <td>-0.002031</td>\n",
              "      <td>-0.004685</td>\n",
              "      <td>-0.000799</td>\n",
              "    </tr>\n",
              "    <tr>\n",
              "      <th>confederation</th>\n",
              "      <td>0.654129</td>\n",
              "      <td>0.112902</td>\n",
              "      <td>0.029915</td>\n",
              "      <td>1.466942</td>\n",
              "      <td>-0.038812</td>\n",
              "      <td>0.059458</td>\n",
              "      <td>0.283686</td>\n",
              "      <td>0.086871</td>\n",
              "      <td>-0.394549</td>\n",
              "      <td>-0.090120</td>\n",
              "      <td>-0.336498</td>\n",
              "    </tr>\n",
              "    <tr>\n",
              "      <th>home_team</th>\n",
              "      <td>-0.036130</td>\n",
              "      <td>-1.892463</td>\n",
              "      <td>-0.001218</td>\n",
              "      <td>-0.038812</td>\n",
              "      <td>2.458921</td>\n",
              "      <td>-0.009956</td>\n",
              "      <td>-0.400360</td>\n",
              "      <td>-0.269886</td>\n",
              "      <td>0.009185</td>\n",
              "      <td>0.002748</td>\n",
              "      <td>0.459144</td>\n",
              "    </tr>\n",
              "    <tr>\n",
              "      <th>away_team</th>\n",
              "      <td>-0.017379</td>\n",
              "      <td>0.027839</td>\n",
              "      <td>0.000082</td>\n",
              "      <td>0.059458</td>\n",
              "      <td>-0.009956</td>\n",
              "      <td>1.008030</td>\n",
              "      <td>-0.116289</td>\n",
              "      <td>-0.125954</td>\n",
              "      <td>0.002821</td>\n",
              "      <td>0.025153</td>\n",
              "      <td>0.150911</td>\n",
              "    </tr>\n",
              "    <tr>\n",
              "      <th>home_score</th>\n",
              "      <td>0.133699</td>\n",
              "      <td>0.285635</td>\n",
              "      <td>0.005400</td>\n",
              "      <td>0.283686</td>\n",
              "      <td>-0.400360</td>\n",
              "      <td>-0.116289</td>\n",
              "      <td>16.149552</td>\n",
              "      <td>11.855676</td>\n",
              "      <td>-0.240592</td>\n",
              "      <td>-0.158673</td>\n",
              "      <td>-19.301821</td>\n",
              "    </tr>\n",
              "    <tr>\n",
              "      <th>away_score</th>\n",
              "      <td>-0.114175</td>\n",
              "      <td>0.184039</td>\n",
              "      <td>-0.006957</td>\n",
              "      <td>0.086871</td>\n",
              "      <td>-0.269886</td>\n",
              "      <td>-0.125954</td>\n",
              "      <td>11.855676</td>\n",
              "      <td>10.267229</td>\n",
              "      <td>-0.197752</td>\n",
              "      <td>-0.124136</td>\n",
              "      <td>-15.081767</td>\n",
              "    </tr>\n",
              "    <tr>\n",
              "      <th>tournament</th>\n",
              "      <td>-0.053195</td>\n",
              "      <td>0.010263</td>\n",
              "      <td>-0.002031</td>\n",
              "      <td>-0.394549</td>\n",
              "      <td>0.009185</td>\n",
              "      <td>0.002821</td>\n",
              "      <td>-0.240592</td>\n",
              "      <td>-0.197752</td>\n",
              "      <td>1.130419</td>\n",
              "      <td>-0.036548</td>\n",
              "      <td>0.293326</td>\n",
              "    </tr>\n",
              "    <tr>\n",
              "      <th>city</th>\n",
              "      <td>-0.033163</td>\n",
              "      <td>0.054195</td>\n",
              "      <td>-0.004685</td>\n",
              "      <td>-0.090120</td>\n",
              "      <td>0.002748</td>\n",
              "      <td>0.025153</td>\n",
              "      <td>-0.158673</td>\n",
              "      <td>-0.124136</td>\n",
              "      <td>-0.036548</td>\n",
              "      <td>1.016040</td>\n",
              "      <td>0.184408</td>\n",
              "    </tr>\n",
              "    <tr>\n",
              "      <th>total_scores</th>\n",
              "      <td>-0.060504</td>\n",
              "      <td>-0.318653</td>\n",
              "      <td>-0.000799</td>\n",
              "      <td>-0.336498</td>\n",
              "      <td>0.459144</td>\n",
              "      <td>0.150911</td>\n",
              "      <td>-19.301821</td>\n",
              "      <td>-15.081767</td>\n",
              "      <td>0.293326</td>\n",
              "      <td>0.184408</td>\n",
              "      <td>24.605515</td>\n",
              "    </tr>\n",
              "  </tbody>\n",
              "</table>\n",
              "</div>"
            ],
            "text/plain": [
              "                   rank   country  ...      city  total_scores\n",
              "rank           1.328071  0.044317  ... -0.033163     -0.060504\n",
              "country        0.044317  2.467737  ...  0.054195     -0.318653\n",
              "rank_change    0.072851  0.002802  ... -0.004685     -0.000799\n",
              "confederation  0.654129  0.112902  ... -0.090120     -0.336498\n",
              "home_team     -0.036130 -1.892463  ...  0.002748      0.459144\n",
              "away_team     -0.017379  0.027839  ...  0.025153      0.150911\n",
              "home_score     0.133699  0.285635  ... -0.158673    -19.301821\n",
              "away_score    -0.114175  0.184039  ... -0.124136    -15.081767\n",
              "tournament    -0.053195  0.010263  ... -0.036548      0.293326\n",
              "city          -0.033163  0.054195  ...  1.016040      0.184408\n",
              "total_scores  -0.060504 -0.318653  ...  0.184408     24.605515\n",
              "\n",
              "[11 rows x 11 columns]"
            ]
          },
          "metadata": {},
          "execution_count": 37
        }
      ]
    },
    {
      "cell_type": "markdown",
      "source": [
        "The VIF values of each diagonal are: rank(1.32), rank_change(1.00), home_score(16.14), away_score(10.14) and total scores (24.6055). Removing the total scores, we will test and record the changes"
      ],
      "metadata": {
        "id": "WQ2rIks3C2h1"
      }
    },
    {
      "cell_type": "code",
      "metadata": {
        "id": "8ODEkFCQaG94",
        "outputId": "8f8564ae-9ef1-479b-ff8c-2e836e27f3ce",
        "colab": {
          "base_uri": "https://localhost:8080/",
          "height": 362
        }
      },
      "source": [
        "revised = independent_only.drop(columns=['total_scores'])\n",
        "\n",
        "correlations = revised.corr()\n",
        "pd.DataFrame(np.linalg.inv(correlations.values), index = correlations.index, columns=correlations.columns)\n",
        "\n"
      ],
      "execution_count": 34,
      "outputs": [
        {
          "output_type": "execute_result",
          "data": {
            "text/html": [
              "<div>\n",
              "<style scoped>\n",
              "    .dataframe tbody tr th:only-of-type {\n",
              "        vertical-align: middle;\n",
              "    }\n",
              "\n",
              "    .dataframe tbody tr th {\n",
              "        vertical-align: top;\n",
              "    }\n",
              "\n",
              "    .dataframe thead th {\n",
              "        text-align: right;\n",
              "    }\n",
              "</style>\n",
              "<table border=\"1\" class=\"dataframe\">\n",
              "  <thead>\n",
              "    <tr style=\"text-align: right;\">\n",
              "      <th></th>\n",
              "      <th>rank</th>\n",
              "      <th>country</th>\n",
              "      <th>rank_change</th>\n",
              "      <th>confederation</th>\n",
              "      <th>home_team</th>\n",
              "      <th>away_team</th>\n",
              "      <th>home_score</th>\n",
              "      <th>away_score</th>\n",
              "      <th>tournament</th>\n",
              "      <th>city</th>\n",
              "    </tr>\n",
              "  </thead>\n",
              "  <tbody>\n",
              "    <tr>\n",
              "      <th>rank</th>\n",
              "      <td>1.327922</td>\n",
              "      <td>0.043533</td>\n",
              "      <td>0.072849</td>\n",
              "      <td>0.653301</td>\n",
              "      <td>-0.035001</td>\n",
              "      <td>-0.017008</td>\n",
              "      <td>0.086237</td>\n",
              "      <td>-0.151260</td>\n",
              "      <td>-0.052474</td>\n",
              "      <td>-0.032710</td>\n",
              "    </tr>\n",
              "    <tr>\n",
              "      <th>country</th>\n",
              "      <td>0.043533</td>\n",
              "      <td>2.463610</td>\n",
              "      <td>0.002792</td>\n",
              "      <td>0.108544</td>\n",
              "      <td>-1.886517</td>\n",
              "      <td>0.029793</td>\n",
              "      <td>0.035668</td>\n",
              "      <td>-0.011277</td>\n",
              "      <td>0.014062</td>\n",
              "      <td>0.056583</td>\n",
              "    </tr>\n",
              "    <tr>\n",
              "      <th>rank_change</th>\n",
              "      <td>0.072849</td>\n",
              "      <td>0.002792</td>\n",
              "      <td>1.004045</td>\n",
              "      <td>0.029905</td>\n",
              "      <td>-0.001203</td>\n",
              "      <td>0.000087</td>\n",
              "      <td>0.004773</td>\n",
              "      <td>-0.007447</td>\n",
              "      <td>-0.002021</td>\n",
              "      <td>-0.004679</td>\n",
              "    </tr>\n",
              "    <tr>\n",
              "      <th>confederation</th>\n",
              "      <td>0.653301</td>\n",
              "      <td>0.108544</td>\n",
              "      <td>0.029905</td>\n",
              "      <td>1.462340</td>\n",
              "      <td>-0.032533</td>\n",
              "      <td>0.061522</td>\n",
              "      <td>0.019720</td>\n",
              "      <td>-0.119383</td>\n",
              "      <td>-0.390538</td>\n",
              "      <td>-0.087598</td>\n",
              "    </tr>\n",
              "    <tr>\n",
              "      <th>home_team</th>\n",
              "      <td>-0.035001</td>\n",
              "      <td>-1.886517</td>\n",
              "      <td>-0.001203</td>\n",
              "      <td>-0.032533</td>\n",
              "      <td>2.450354</td>\n",
              "      <td>-0.012772</td>\n",
              "      <td>-0.040184</td>\n",
              "      <td>0.011543</td>\n",
              "      <td>0.003712</td>\n",
              "      <td>-0.000693</td>\n",
              "    </tr>\n",
              "    <tr>\n",
              "      <th>away_team</th>\n",
              "      <td>-0.017008</td>\n",
              "      <td>0.029793</td>\n",
              "      <td>0.000087</td>\n",
              "      <td>0.061522</td>\n",
              "      <td>-0.012772</td>\n",
              "      <td>1.007104</td>\n",
              "      <td>0.002093</td>\n",
              "      <td>-0.033454</td>\n",
              "      <td>0.001022</td>\n",
              "      <td>0.024022</td>\n",
              "    </tr>\n",
              "    <tr>\n",
              "      <th>home_score</th>\n",
              "      <td>0.086237</td>\n",
              "      <td>0.035668</td>\n",
              "      <td>0.004773</td>\n",
              "      <td>0.019720</td>\n",
              "      <td>-0.040184</td>\n",
              "      <td>0.002093</td>\n",
              "      <td>1.008220</td>\n",
              "      <td>0.024769</td>\n",
              "      <td>-0.010492</td>\n",
              "      <td>-0.014014</td>\n",
              "    </tr>\n",
              "    <tr>\n",
              "      <th>away_score</th>\n",
              "      <td>-0.151260</td>\n",
              "      <td>-0.011277</td>\n",
              "      <td>-0.007447</td>\n",
              "      <td>-0.119383</td>\n",
              "      <td>0.011543</td>\n",
              "      <td>-0.033454</td>\n",
              "      <td>0.024769</td>\n",
              "      <td>1.022973</td>\n",
              "      <td>-0.017960</td>\n",
              "      <td>-0.011104</td>\n",
              "    </tr>\n",
              "    <tr>\n",
              "      <th>tournament</th>\n",
              "      <td>-0.052474</td>\n",
              "      <td>0.014062</td>\n",
              "      <td>-0.002021</td>\n",
              "      <td>-0.390538</td>\n",
              "      <td>0.003712</td>\n",
              "      <td>0.001022</td>\n",
              "      <td>-0.010492</td>\n",
              "      <td>-0.017960</td>\n",
              "      <td>1.126922</td>\n",
              "      <td>-0.038746</td>\n",
              "    </tr>\n",
              "    <tr>\n",
              "      <th>city</th>\n",
              "      <td>-0.032710</td>\n",
              "      <td>0.056583</td>\n",
              "      <td>-0.004679</td>\n",
              "      <td>-0.087598</td>\n",
              "      <td>-0.000693</td>\n",
              "      <td>0.024022</td>\n",
              "      <td>-0.014014</td>\n",
              "      <td>-0.011104</td>\n",
              "      <td>-0.038746</td>\n",
              "      <td>1.014658</td>\n",
              "    </tr>\n",
              "  </tbody>\n",
              "</table>\n",
              "</div>"
            ],
            "text/plain": [
              "                   rank   country  ...  tournament      city\n",
              "rank           1.327922  0.043533  ...   -0.052474 -0.032710\n",
              "country        0.043533  2.463610  ...    0.014062  0.056583\n",
              "rank_change    0.072849  0.002792  ...   -0.002021 -0.004679\n",
              "confederation  0.653301  0.108544  ...   -0.390538 -0.087598\n",
              "home_team     -0.035001 -1.886517  ...    0.003712 -0.000693\n",
              "away_team     -0.017008  0.029793  ...    0.001022  0.024022\n",
              "home_score     0.086237  0.035668  ...   -0.010492 -0.014014\n",
              "away_score    -0.151260 -0.011277  ...   -0.017960 -0.011104\n",
              "tournament    -0.052474  0.014062  ...    1.126922 -0.038746\n",
              "city          -0.032710  0.056583  ...   -0.038746  1.014658\n",
              "\n",
              "[10 rows x 10 columns]"
            ]
          },
          "metadata": {},
          "execution_count": 34
        }
      ]
    },
    {
      "cell_type": "markdown",
      "source": [
        "This indicates that total scores and rank are collinear. "
      ],
      "metadata": {
        "id": "Bu4xo-6GEEYf"
      }
    },
    {
      "cell_type": "markdown",
      "source": [
        "5.3 Model buidling using polynomial regression tools"
      ],
      "metadata": {
        "id": "fDGrLfZqIj5U"
      }
    },
    {
      "cell_type": "code",
      "source": [
        "#importing the needed libraries\n",
        "import numpy as np\n",
        "import pandas as pd\n",
        "import matplotlib.pyplot as plt\n",
        "\n",
        "from sklearn.preprocessing import PolynomialFeatures\n",
        "\n",
        "from sklearn.model_selection import train_test_split\n",
        "\n",
        "# Import LinearRegression method from sklearn linear_model library\n",
        "from sklearn.linear_model import LinearRegression\n"
      ],
      "metadata": {
        "id": "7-tPZC5uJYCa"
      },
      "execution_count": 35,
      "outputs": []
    },
    {
      "cell_type": "code",
      "source": [
        "prediction_dff.head(3)"
      ],
      "metadata": {
        "colab": {
          "base_uri": "https://localhost:8080/",
          "height": 163
        },
        "id": "m9Givz_qKxxJ",
        "outputId": "82f718ac-3f2b-4bc8-d069-7fae6d505a3d"
      },
      "execution_count": 16,
      "outputs": [
        {
          "output_type": "execute_result",
          "data": {
            "text/html": [
              "<div>\n",
              "<style scoped>\n",
              "    .dataframe tbody tr th:only-of-type {\n",
              "        vertical-align: middle;\n",
              "    }\n",
              "\n",
              "    .dataframe tbody tr th {\n",
              "        vertical-align: top;\n",
              "    }\n",
              "\n",
              "    .dataframe thead th {\n",
              "        text-align: right;\n",
              "    }\n",
              "</style>\n",
              "<table border=\"1\" class=\"dataframe\">\n",
              "  <thead>\n",
              "    <tr style=\"text-align: right;\">\n",
              "      <th></th>\n",
              "      <th>rank</th>\n",
              "      <th>country</th>\n",
              "      <th>total_points</th>\n",
              "      <th>previous_points</th>\n",
              "      <th>rank_change</th>\n",
              "      <th>cur_year_avg</th>\n",
              "      <th>confederation</th>\n",
              "      <th>date</th>\n",
              "      <th>home_team</th>\n",
              "      <th>away_team</th>\n",
              "      <th>home_score</th>\n",
              "      <th>away_score</th>\n",
              "      <th>tournament</th>\n",
              "      <th>city</th>\n",
              "      <th>total_scores</th>\n",
              "    </tr>\n",
              "  </thead>\n",
              "  <tbody>\n",
              "    <tr>\n",
              "      <th>0</th>\n",
              "      <td>0</td>\n",
              "      <td>75</td>\n",
              "      <td>0</td>\n",
              "      <td>57</td>\n",
              "      <td>53</td>\n",
              "      <td>0</td>\n",
              "      <td>5</td>\n",
              "      <td>222</td>\n",
              "      <td>103</td>\n",
              "      <td>253</td>\n",
              "      <td>1</td>\n",
              "      <td>0</td>\n",
              "      <td>53</td>\n",
              "      <td>715</td>\n",
              "      <td>1</td>\n",
              "    </tr>\n",
              "    <tr>\n",
              "      <th>1</th>\n",
              "      <td>0</td>\n",
              "      <td>75</td>\n",
              "      <td>0</td>\n",
              "      <td>57</td>\n",
              "      <td>53</td>\n",
              "      <td>0</td>\n",
              "      <td>5</td>\n",
              "      <td>245</td>\n",
              "      <td>103</td>\n",
              "      <td>27</td>\n",
              "      <td>0</td>\n",
              "      <td>3</td>\n",
              "      <td>53</td>\n",
              "      <td>453</td>\n",
              "      <td>3</td>\n",
              "    </tr>\n",
              "    <tr>\n",
              "      <th>2</th>\n",
              "      <td>0</td>\n",
              "      <td>75</td>\n",
              "      <td>0</td>\n",
              "      <td>57</td>\n",
              "      <td>53</td>\n",
              "      <td>0</td>\n",
              "      <td>5</td>\n",
              "      <td>253</td>\n",
              "      <td>103</td>\n",
              "      <td>180</td>\n",
              "      <td>1</td>\n",
              "      <td>2</td>\n",
              "      <td>53</td>\n",
              "      <td>753</td>\n",
              "      <td>3</td>\n",
              "    </tr>\n",
              "  </tbody>\n",
              "</table>\n",
              "</div>"
            ],
            "text/plain": [
              "   rank  country  total_points  ...  tournament  city  total_scores\n",
              "0     0       75             0  ...          53   715             1\n",
              "1     0       75             0  ...          53   453             3\n",
              "2     0       75             0  ...          53   753             3\n",
              "\n",
              "[3 rows x 15 columns]"
            ]
          },
          "metadata": {},
          "execution_count": 16
        }
      ]
    },
    {
      "cell_type": "code",
      "source": [
        "prediction_df.shape"
      ],
      "metadata": {
        "colab": {
          "base_uri": "https://localhost:8080/"
        },
        "id": "8Z9nNBkhQzPJ",
        "outputId": "e245d2a1-4040-4863-86a6-b02c411b391d"
      },
      "execution_count": 37,
      "outputs": [
        {
          "output_type": "execute_result",
          "data": {
            "text/plain": [
              "(10251284, 15)"
            ]
          },
          "metadata": {},
          "execution_count": 37
        }
      ]
    },
    {
      "cell_type": "code",
      "source": [
        "#alligning the columns \n",
        "\n",
        "\n",
        "prediction_df.columns = prediction_df.columns.str.strip().str.lower().str.replace(' ', '_').str.replace('(', '').str.replace(')', '')\n",
        "prediction_df.head(5)"
      ],
      "metadata": {
        "colab": {
          "base_uri": "https://localhost:8080/",
          "height": 313
        },
        "id": "T4-s3sqYQ-OL",
        "outputId": "f0167af2-b4cf-40e3-f750-007a5c85bc58"
      },
      "execution_count": 18,
      "outputs": [
        {
          "output_type": "execute_result",
          "data": {
            "text/html": [
              "<div>\n",
              "<style scoped>\n",
              "    .dataframe tbody tr th:only-of-type {\n",
              "        vertical-align: middle;\n",
              "    }\n",
              "\n",
              "    .dataframe tbody tr th {\n",
              "        vertical-align: top;\n",
              "    }\n",
              "\n",
              "    .dataframe thead th {\n",
              "        text-align: right;\n",
              "    }\n",
              "</style>\n",
              "<table border=\"1\" class=\"dataframe\">\n",
              "  <thead>\n",
              "    <tr style=\"text-align: right;\">\n",
              "      <th></th>\n",
              "      <th>rank</th>\n",
              "      <th>country</th>\n",
              "      <th>total_points</th>\n",
              "      <th>previous_points</th>\n",
              "      <th>rank_change</th>\n",
              "      <th>cur_year_avg</th>\n",
              "      <th>confederation</th>\n",
              "      <th>date</th>\n",
              "      <th>home_team</th>\n",
              "      <th>away_team</th>\n",
              "      <th>home_score</th>\n",
              "      <th>away_score</th>\n",
              "      <th>tournament</th>\n",
              "      <th>city</th>\n",
              "      <th>neutral</th>\n",
              "      <th>total_scores</th>\n",
              "    </tr>\n",
              "  </thead>\n",
              "  <tbody>\n",
              "    <tr>\n",
              "      <th>0</th>\n",
              "      <td>1</td>\n",
              "      <td>Germany</td>\n",
              "      <td>0.0</td>\n",
              "      <td>57</td>\n",
              "      <td>0</td>\n",
              "      <td>0.0</td>\n",
              "      <td>UEFA</td>\n",
              "      <td>1909-04-04</td>\n",
              "      <td>Germany</td>\n",
              "      <td>Switzerland</td>\n",
              "      <td>1.0</td>\n",
              "      <td>0.0</td>\n",
              "      <td>Friendly</td>\n",
              "      <td>Karlsruhe</td>\n",
              "      <td>False</td>\n",
              "      <td>1.0</td>\n",
              "    </tr>\n",
              "    <tr>\n",
              "      <th>1</th>\n",
              "      <td>1</td>\n",
              "      <td>Germany</td>\n",
              "      <td>0.0</td>\n",
              "      <td>57</td>\n",
              "      <td>0</td>\n",
              "      <td>0.0</td>\n",
              "      <td>UEFA</td>\n",
              "      <td>1910-05-16</td>\n",
              "      <td>Germany</td>\n",
              "      <td>Belgium</td>\n",
              "      <td>0.0</td>\n",
              "      <td>3.0</td>\n",
              "      <td>Friendly</td>\n",
              "      <td>Duisburg</td>\n",
              "      <td>False</td>\n",
              "      <td>3.0</td>\n",
              "    </tr>\n",
              "    <tr>\n",
              "      <th>2</th>\n",
              "      <td>1</td>\n",
              "      <td>Germany</td>\n",
              "      <td>0.0</td>\n",
              "      <td>57</td>\n",
              "      <td>0</td>\n",
              "      <td>0.0</td>\n",
              "      <td>UEFA</td>\n",
              "      <td>1910-10-16</td>\n",
              "      <td>Germany</td>\n",
              "      <td>Netherlands</td>\n",
              "      <td>1.0</td>\n",
              "      <td>2.0</td>\n",
              "      <td>Friendly</td>\n",
              "      <td>Kleve</td>\n",
              "      <td>False</td>\n",
              "      <td>3.0</td>\n",
              "    </tr>\n",
              "    <tr>\n",
              "      <th>3</th>\n",
              "      <td>1</td>\n",
              "      <td>Germany</td>\n",
              "      <td>0.0</td>\n",
              "      <td>57</td>\n",
              "      <td>0</td>\n",
              "      <td>0.0</td>\n",
              "      <td>UEFA</td>\n",
              "      <td>1911-03-26</td>\n",
              "      <td>Germany</td>\n",
              "      <td>Switzerland</td>\n",
              "      <td>6.0</td>\n",
              "      <td>2.0</td>\n",
              "      <td>Friendly</td>\n",
              "      <td>Stuttgart</td>\n",
              "      <td>False</td>\n",
              "      <td>8.0</td>\n",
              "    </tr>\n",
              "    <tr>\n",
              "      <th>4</th>\n",
              "      <td>1</td>\n",
              "      <td>Germany</td>\n",
              "      <td>0.0</td>\n",
              "      <td>57</td>\n",
              "      <td>0</td>\n",
              "      <td>0.0</td>\n",
              "      <td>UEFA</td>\n",
              "      <td>1911-10-09</td>\n",
              "      <td>Germany</td>\n",
              "      <td>Austria</td>\n",
              "      <td>1.0</td>\n",
              "      <td>2.0</td>\n",
              "      <td>Friendly</td>\n",
              "      <td>Dresden</td>\n",
              "      <td>False</td>\n",
              "      <td>3.0</td>\n",
              "    </tr>\n",
              "  </tbody>\n",
              "</table>\n",
              "</div>"
            ],
            "text/plain": [
              "   rank  country  total_points  ...       city  neutral  total_scores\n",
              "0     1  Germany           0.0  ...  Karlsruhe    False           1.0\n",
              "1     1  Germany           0.0  ...   Duisburg    False           3.0\n",
              "2     1  Germany           0.0  ...      Kleve    False           3.0\n",
              "3     1  Germany           0.0  ...  Stuttgart    False           8.0\n",
              "4     1  Germany           0.0  ...    Dresden    False           3.0\n",
              "\n",
              "[5 rows x 16 columns]"
            ]
          },
          "metadata": {},
          "execution_count": 18
        }
      ]
    },
    {
      "cell_type": "markdown",
      "source": [
        "Creating training datasets from the home team, away team and rank datassets"
      ],
      "metadata": {
        "id": "zm66bZksR7Nl"
      }
    },
    {
      "cell_type": "code",
      "source": [
        "# Sum of various numerical columns\n",
        "prediction_dff['home_team'].sum()"
      ],
      "metadata": {
        "colab": {
          "base_uri": "https://localhost:8080/"
        },
        "id": "CCLPNrFzSUYq",
        "outputId": "304c49f3-2df8-4687-f75c-54ec34d7bef9"
      },
      "execution_count": 22,
      "outputs": [
        {
          "output_type": "execute_result",
          "data": {
            "text/plain": [
              "1506202612"
            ]
          },
          "metadata": {},
          "execution_count": 22
        }
      ]
    },
    {
      "cell_type": "code",
      "source": [
        "# Sum of various numerical columns\n",
        "prediction_dff['away_team'].sum()"
      ],
      "metadata": {
        "colab": {
          "base_uri": "https://localhost:8080/"
        },
        "id": "Pz2LGS8oS5zw",
        "outputId": "22cc32bc-94a1-4433-ee80-d3d1c8b1f0b4"
      },
      "execution_count": 23,
      "outputs": [
        {
          "output_type": "execute_result",
          "data": {
            "text/plain": [
              "1578981126"
            ]
          },
          "metadata": {},
          "execution_count": 23
        }
      ]
    },
    {
      "cell_type": "markdown",
      "source": [
        "Training the home team data"
      ],
      "metadata": {
        "id": "lFXockdhTGcB"
      }
    },
    {
      "cell_type": "code",
      "source": [
        "#Split the dataset into train and test sets.\n",
        "\n",
        "\n",
        "train = prediction_df[:1506202612] \n",
        "\n",
        "# Drop all the indexes of the train data we created above from the main data set then store the remaining data in a variable called test\n",
        "test = prediction_df.drop(train.index)\n",
        "\n",
        "# Confirm that the train and test dataset have out desired length\n",
        "print(\"train:\" + str(len(train)))\n",
        "print(\"test:\"+ str(len(test)))\n"
      ],
      "metadata": {
        "colab": {
          "base_uri": "https://localhost:8080/"
        },
        "id": "hAgWv2mRRwka",
        "outputId": "fc32c8b2-4a99-4386-9167-df4ad4af115e"
      },
      "execution_count": 24,
      "outputs": [
        {
          "output_type": "stream",
          "name": "stdout",
          "text": [
            "train:10251284\n",
            "test:0\n"
          ]
        }
      ]
    },
    {
      "cell_type": "code",
      "source": [
        "# Check the apportionment of the home team\n",
        "train_count=train['home_team'].value_counts()\n",
        "\n",
        "# Check the apportionment of home team column\n",
        "test_count=test['home_team'].value_counts()\n",
        "\n",
        "# Print out the apportionment of home team column\n",
        "print(train_count)\n",
        "print('*************************')\n",
        "print(test_count)"
      ],
      "metadata": {
        "colab": {
          "base_uri": "https://localhost:8080/"
        },
        "id": "1Tyq7-ciT4jY",
        "outputId": "ca2295e4-b178-4e87-f3ee-af551e2c1c35"
      },
      "execution_count": 25,
      "outputs": [
        {
          "output_type": "stream",
          "name": "stdout",
          "text": [
            "Brazil           153582\n",
            "Argentina        151866\n",
            "Germany          141570\n",
            "England          139282\n",
            "Sweden           136994\n",
            "                  ...  \n",
            "Felvidék            286\n",
            "Romani people       286\n",
            "Madrid              286\n",
            "Chameria            277\n",
            "North Vietnam       262\n",
            "Name: home_team, Length: 302, dtype: int64\n",
            "*************************\n",
            "Series([], Name: home_team, dtype: int64)\n"
          ]
        }
      ]
    },
    {
      "cell_type": "markdown",
      "source": [
        "As seen above the data has yet to achive an equal proportiationate that can be used train the data"
      ],
      "metadata": {
        "id": "XVbd9vHhUPeJ"
      }
    },
    {
      "cell_type": "code",
      "source": [
        "#We apply stratified sampling due to the size of the data\n",
        "# Stratified train sample\n",
        "train_strat_datset = prediction_df.groupby('home_team', group_keys=False).apply(lambda grouped_subset : grouped_subset.sample(frac=0.7))\n",
        "\n",
        "# preview the stratified train dataset\n",
        "train_strat_datset\n",
        "\n",
        "# Stratified test sample\n",
        "test_strat_dataset = prediction_df.drop(train_strat_datset.index)\n",
        "\n",
        "# Preview the stratified test dataset\n",
        "test_strat_dataset\n",
        "\n",
        "# Print out the proprortion of private vs public schools in both train and test dataset\n",
        "test_strat_count=test_strat_dataset['home_team'].value_counts()\n",
        "train_strat_count=train_strat_datset['home_team'].value_counts()\n",
        "\n",
        "print(train_strat_count)\n",
        "print('*************************************************')\n",
        "print(test_strat_count)"
      ],
      "metadata": {
        "colab": {
          "base_uri": "https://localhost:8080/"
        },
        "id": "disYHiicUKM7",
        "outputId": "25c3772a-a3e7-4b8b-87d3-236be8db2faa"
      },
      "execution_count": 26,
      "outputs": [
        {
          "output_type": "stream",
          "name": "stdout",
          "text": [
            "Brazil                   107507\n",
            "Argentina                106306\n",
            "Germany                   99099\n",
            "England                   97497\n",
            "Sweden                    95896\n",
            "                          ...  \n",
            "Palau                       200\n",
            "St. Pierre & Miquelon       200\n",
            "Romani people               200\n",
            "Chameria                    194\n",
            "North Vietnam               183\n",
            "Name: home_team, Length: 302, dtype: int64\n",
            "*************************************************\n",
            "Brazil           46075\n",
            "Argentina        45560\n",
            "Germany          42471\n",
            "England          41785\n",
            "Sweden           41098\n",
            "                 ...  \n",
            "Curacao             86\n",
            "Saint Helena        86\n",
            "Palau               86\n",
            "Chameria            83\n",
            "North Vietnam       79\n",
            "Name: home_team, Length: 302, dtype: int64\n"
          ]
        }
      ]
    },
    {
      "cell_type": "markdown",
      "source": [
        "Away team training Tests "
      ],
      "metadata": {
        "id": "LlHxynIGWWtl"
      }
    },
    {
      "cell_type": "code",
      "source": [
        "#Split the dataset into train and test sets.\n",
        "\n",
        "\n",
        "train = prediction_df[:15578981126] \n",
        "\n",
        "# Drop all the indexes of the train data we created above from the main data set then store the remaining data in a variable called test\n",
        "test = prediction_df.drop(train.index)\n",
        "\n",
        "# Confirm that the train and test dataset have out desired length\n",
        "print(\"train:\" + str(len(train)))\n",
        "print(\"test:\"+ str(len(test)))"
      ],
      "metadata": {
        "colab": {
          "base_uri": "https://localhost:8080/"
        },
        "id": "WQCdsqLvWbAI",
        "outputId": "c1ed0d45-9630-4868-c191-fa097b7b6955"
      },
      "execution_count": 27,
      "outputs": [
        {
          "output_type": "stream",
          "name": "stdout",
          "text": [
            "train:10251284\n",
            "test:0\n"
          ]
        }
      ]
    },
    {
      "cell_type": "code",
      "source": [
        "# Check the apportionment of the away score\n",
        "train_count=train['away_team'].value_counts()\n",
        "\n",
        "# Check the apportionment of away score column\n",
        "test_count=test['away_team'].value_counts()\n",
        "\n",
        "# Print out the apportionment of away score column\n",
        "print(train_count)\n",
        "print('*************************')\n",
        "print(test_count)"
      ],
      "metadata": {
        "colab": {
          "base_uri": "https://localhost:8080/"
        },
        "id": "WBKOUPIgWgPT",
        "outputId": "41f796ab-c76b-468b-cc2d-57a64c77b0ee"
      },
      "execution_count": 28,
      "outputs": [
        {
          "output_type": "stream",
          "name": "stdout",
          "text": [
            "Uruguay          144383\n",
            "Sweden           140035\n",
            "England          134799\n",
            "Paraguay         118976\n",
            "Hungary          118144\n",
            "                  ...  \n",
            "Corsica             286\n",
            "Manchukuo           286\n",
            "Central Spain       286\n",
            "Asturias            286\n",
            "Andalusia           286\n",
            "Name: away_team, Length: 302, dtype: int64\n",
            "*************************\n",
            "Series([], Name: away_team, dtype: int64)\n"
          ]
        }
      ]
    },
    {
      "cell_type": "code",
      "source": [
        "#We apply stratified sampling due to the size of the data\n",
        "# Stratified train sample\n",
        "train_strat_datset = prediction_df.groupby('away_team', group_keys=False).apply(lambda grouped_subset : grouped_subset.sample(frac=0.7))\n",
        "\n",
        "# preview the stratified train dataset\n",
        "train_strat_datset\n",
        "\n",
        "# Stratified test sample\n",
        "test_strat_dataset = prediction_df.drop(train_strat_datset.index)\n",
        "\n",
        "# Preview the stratified test dataset\n",
        "test_strat_dataset\n",
        "\n",
        "# Print out the proprortion of away team column\n",
        "test_strat_count=test_strat_dataset['away_team'].value_counts()\n",
        "train_strat_count=train_strat_datset['away_team'].value_counts()\n",
        "\n",
        "print(train_strat_count)\n",
        "print('*************************************************')\n",
        "print(test_strat_count)"
      ],
      "metadata": {
        "colab": {
          "base_uri": "https://localhost:8080/"
        },
        "id": "oP_uCLjnWmYH",
        "outputId": "2962b334-7cf5-4651-be64-4dde2e76db64"
      },
      "execution_count": 29,
      "outputs": [
        {
          "output_type": "stream",
          "name": "stdout",
          "text": [
            "Uruguay               101068\n",
            "Sweden                 98024\n",
            "England                94359\n",
            "Paraguay               83283\n",
            "Hungary                82701\n",
            "                       ...  \n",
            "Parishes of Jersey       200\n",
            "Asturias                 200\n",
            "Yorkshire                200\n",
            "Andalusia                200\n",
            "Corsica                  200\n",
            "Name: away_team, Length: 302, dtype: int64\n",
            "*************************************************\n",
            "Uruguay               43315\n",
            "Sweden                42011\n",
            "England               40440\n",
            "Paraguay              35693\n",
            "Hungary               35443\n",
            "                      ...  \n",
            "Yorkshire                86\n",
            "Surrey                   86\n",
            "Asturias                 86\n",
            "Barawa                   86\n",
            "Parishes of Jersey       86\n",
            "Name: away_team, Length: 302, dtype: int64\n"
          ]
        }
      ]
    },
    {
      "cell_type": "markdown",
      "source": [
        "Rank training tests"
      ],
      "metadata": {
        "id": "3BUosJ6XWrX5"
      }
    },
    {
      "cell_type": "code",
      "source": [
        "# Sum of various numerical columns\n",
        "prediction_df['rank'].sum()"
      ],
      "metadata": {
        "colab": {
          "base_uri": "https://localhost:8080/"
        },
        "id": "IoF9z-37XsVk",
        "outputId": "33e3c222-1d04-412d-8dad-04055ec610d2"
      },
      "execution_count": 19,
      "outputs": [
        {
          "output_type": "execute_result",
          "data": {
            "text/plain": [
              "709257489"
            ]
          },
          "metadata": {},
          "execution_count": 19
        }
      ]
    },
    {
      "cell_type": "code",
      "source": [
        "#Split the dataset into train and test sets.\n",
        "\n",
        "\n",
        "train = prediction_df[:709257489] \n",
        "\n",
        "# Drop all the indexes of the train data we created above from the main data set then store the remaining data in a variable called test\n",
        "test = prediction_df.drop(train.index)\n",
        "\n",
        "# Confirm that the train and test dataset have out desired length\n",
        "print(\"train:\" + str(len(train)))\n",
        "print(\"test:\"+ str(len(test)))"
      ],
      "metadata": {
        "colab": {
          "base_uri": "https://localhost:8080/"
        },
        "id": "RM2DY-_GWxrB",
        "outputId": "74c9f30a-5a47-4a4f-b2c8-6120aac63ab9"
      },
      "execution_count": 20,
      "outputs": [
        {
          "output_type": "stream",
          "name": "stdout",
          "text": [
            "train:10251284\n",
            "test:0\n"
          ]
        }
      ]
    },
    {
      "cell_type": "code",
      "source": [
        "# Check the apportionment of the home score\n",
        "train_count=train['rank'].value_counts()\n",
        "\n",
        "# Check the apportionment of home score column\n",
        "test_count=test['rank'].value_counts()\n",
        "\n",
        "# Print out the apportionment of home score column\n",
        "print(train_count)\n",
        "print('*************************')\n",
        "print(test_count)"
      ],
      "metadata": {
        "colab": {
          "base_uri": "https://localhost:8080/"
        },
        "id": "HLJJiJBSW2F7",
        "outputId": "d6ddd2d3-4502-4b90-ac89-14b77c302e00"
      },
      "execution_count": 21,
      "outputs": [
        {
          "output_type": "stream",
          "name": "stdout",
          "text": [
            "2      154430\n",
            "1      152340\n",
            "3      134174\n",
            "5      129008\n",
            "7      127332\n",
            "        ...  \n",
            "205      3500\n",
            "206      2746\n",
            "207      2323\n",
            "208       496\n",
            "209       118\n",
            "Name: rank, Length: 209, dtype: int64\n",
            "*************************\n",
            "Series([], Name: rank, dtype: int64)\n"
          ]
        }
      ]
    },
    {
      "cell_type": "code",
      "source": [
        "#We apply stratified sampling due to the size of the data\n",
        "# Stratified train sample\n",
        "train_strat_datset = prediction_df.groupby('rank', group_keys=False).apply(lambda grouped_subset : grouped_subset.sample(frac=0.7))\n",
        "\n",
        "# preview the stratified train dataset\n",
        "train_strat_datset\n",
        "\n",
        "# Stratified test sample\n",
        "test_strat_dataset = prediction_df.drop(train_strat_datset.index)\n",
        "\n",
        "# Preview the stratified test dataset\n",
        "test_strat_dataset\n",
        "\n",
        "# Print out the proprortion of the rank column\n",
        "test_strat_count=test_strat_dataset['rank'].value_counts()\n",
        "train_strat_count=train_strat_datset['rank'].value_counts()\n",
        "\n",
        "print(train_strat_count)\n",
        "print('*************************************************')\n",
        "print(test_strat_count)"
      ],
      "metadata": {
        "colab": {
          "base_uri": "https://localhost:8080/"
        },
        "id": "4kUQ1J2CW--R",
        "outputId": "eae3aed2-e10e-4d7d-fea1-47a0cd5447ac"
      },
      "execution_count": 30,
      "outputs": [
        {
          "output_type": "stream",
          "name": "stdout",
          "text": [
            "2      108101\n",
            "1      106638\n",
            "3       93922\n",
            "5       90306\n",
            "7       89132\n",
            "        ...  \n",
            "205      2450\n",
            "206      1922\n",
            "207      1626\n",
            "208       347\n",
            "209        83\n",
            "Name: rank, Length: 209, dtype: int64\n",
            "*************************************************\n",
            "2      46329\n",
            "1      45702\n",
            "3      40252\n",
            "5      38702\n",
            "7      38200\n",
            "       ...  \n",
            "205     1050\n",
            "206      824\n",
            "207      697\n",
            "208      149\n",
            "209       35\n",
            "Name: rank, Length: 209, dtype: int64\n"
          ]
        }
      ]
    },
    {
      "cell_type": "markdown",
      "source": [
        "*Model 1*"
      ],
      "metadata": {
        "id": "AVGTkR7-YOKZ"
      }
    },
    {
      "cell_type": "code",
      "source": [
        "prediction_dff.head(3)"
      ],
      "metadata": {
        "colab": {
          "base_uri": "https://localhost:8080/",
          "height": 163
        },
        "id": "zRvFebgOnvMu",
        "outputId": "d27253c2-16db-4589-88d8-3b170bce9de6"
      },
      "execution_count": 31,
      "outputs": [
        {
          "output_type": "execute_result",
          "data": {
            "text/html": [
              "<div>\n",
              "<style scoped>\n",
              "    .dataframe tbody tr th:only-of-type {\n",
              "        vertical-align: middle;\n",
              "    }\n",
              "\n",
              "    .dataframe tbody tr th {\n",
              "        vertical-align: top;\n",
              "    }\n",
              "\n",
              "    .dataframe thead th {\n",
              "        text-align: right;\n",
              "    }\n",
              "</style>\n",
              "<table border=\"1\" class=\"dataframe\">\n",
              "  <thead>\n",
              "    <tr style=\"text-align: right;\">\n",
              "      <th></th>\n",
              "      <th>rank</th>\n",
              "      <th>country</th>\n",
              "      <th>total_points</th>\n",
              "      <th>previous_points</th>\n",
              "      <th>rank_change</th>\n",
              "      <th>cur_year_avg</th>\n",
              "      <th>confederation</th>\n",
              "      <th>date</th>\n",
              "      <th>home_team</th>\n",
              "      <th>away_team</th>\n",
              "      <th>home_score</th>\n",
              "      <th>away_score</th>\n",
              "      <th>tournament</th>\n",
              "      <th>city</th>\n",
              "      <th>total_scores</th>\n",
              "    </tr>\n",
              "  </thead>\n",
              "  <tbody>\n",
              "    <tr>\n",
              "      <th>0</th>\n",
              "      <td>0</td>\n",
              "      <td>75</td>\n",
              "      <td>0</td>\n",
              "      <td>57</td>\n",
              "      <td>53</td>\n",
              "      <td>0</td>\n",
              "      <td>5</td>\n",
              "      <td>222</td>\n",
              "      <td>103</td>\n",
              "      <td>253</td>\n",
              "      <td>1</td>\n",
              "      <td>0</td>\n",
              "      <td>53</td>\n",
              "      <td>715</td>\n",
              "      <td>1</td>\n",
              "    </tr>\n",
              "    <tr>\n",
              "      <th>1</th>\n",
              "      <td>0</td>\n",
              "      <td>75</td>\n",
              "      <td>0</td>\n",
              "      <td>57</td>\n",
              "      <td>53</td>\n",
              "      <td>0</td>\n",
              "      <td>5</td>\n",
              "      <td>245</td>\n",
              "      <td>103</td>\n",
              "      <td>27</td>\n",
              "      <td>0</td>\n",
              "      <td>3</td>\n",
              "      <td>53</td>\n",
              "      <td>453</td>\n",
              "      <td>3</td>\n",
              "    </tr>\n",
              "    <tr>\n",
              "      <th>2</th>\n",
              "      <td>0</td>\n",
              "      <td>75</td>\n",
              "      <td>0</td>\n",
              "      <td>57</td>\n",
              "      <td>53</td>\n",
              "      <td>0</td>\n",
              "      <td>5</td>\n",
              "      <td>253</td>\n",
              "      <td>103</td>\n",
              "      <td>180</td>\n",
              "      <td>1</td>\n",
              "      <td>2</td>\n",
              "      <td>53</td>\n",
              "      <td>753</td>\n",
              "      <td>3</td>\n",
              "    </tr>\n",
              "  </tbody>\n",
              "</table>\n",
              "</div>"
            ],
            "text/plain": [
              "   rank  country  total_points  ...  tournament  city  total_scores\n",
              "0     0       75             0  ...          53   715             1\n",
              "1     0       75             0  ...          53   453             3\n",
              "2     0       75             0  ...          53   753             3\n",
              "\n",
              "[3 rows x 15 columns]"
            ]
          },
          "metadata": {},
          "execution_count": 31
        }
      ]
    },
    {
      "cell_type": "code",
      "source": [
        "#Get the 10 and the rank column from the dataset \n",
        "X = tuple(prediction_df.iloc[:, 8:10].values)\n",
        "y = tuple(prediction_df.iloc[:, 8].values)\n",
        "print(X)\n",
        "print(y)"
      ],
      "metadata": {
        "id": "nKVoQDiRJiBM"
      },
      "execution_count": 41,
      "outputs": []
    },
    {
      "cell_type": "markdown",
      "source": [
        "Model 1 Home team scores"
      ],
      "metadata": {
        "id": "5UbDW29kIxmE"
      }
    },
    {
      "cell_type": "code",
      "source": [
        "# Since our dataset is pretty clean, let's start by visualizing our dataset by plotting a scatter plot\n",
        "\n",
        "plt.scatter(X, y, color='blue') \n",
        "plt.title('Salary')\n",
        "plt.xlabel('Position Level')\n",
        "plt.ylabel('Salary')\n",
        "plt.show()"
      ],
      "metadata": {
        "id": "P5MuQfzfLqzr"
      },
      "execution_count": null,
      "outputs": []
    },
    {
      "cell_type": "markdown",
      "source": [
        "6.1 **Logistic Regression**"
      ],
      "metadata": {
        "id": "ULsR4GZgYmlI"
      }
    },
    {
      "cell_type": "markdown",
      "source": [
        "From the Home Team's perspective, if the result of a game determines if it is a win, loss or draw."
      ],
      "metadata": {
        "id": "v7pigdjTdg2o"
      }
    },
    {
      "cell_type": "markdown",
      "source": [
        "We will use the test training results from Polynomial regression."
      ],
      "metadata": {
        "id": "E_wxWT-Fd4Kf"
      }
    },
    {
      "cell_type": "markdown",
      "source": [
        "We then use grid search to optimize the outcomes"
      ],
      "metadata": {
        "id": "4GiwKU1jfMMd"
      }
    },
    {
      "cell_type": "code",
      "source": [
        "prediction_dff.head(3)"
      ],
      "metadata": {
        "colab": {
          "base_uri": "https://localhost:8080/",
          "height": 207
        },
        "id": "2R5fzYQlq004",
        "outputId": "2eeb1db0-3652-44d4-ec7a-8ffe41f1b7e4"
      },
      "execution_count": 15,
      "outputs": [
        {
          "output_type": "execute_result",
          "data": {
            "text/html": [
              "\n",
              "  <div id=\"df-8661eece-a620-4d82-887e-50604f5cbafb\">\n",
              "    <div class=\"colab-df-container\">\n",
              "      <div>\n",
              "<style scoped>\n",
              "    .dataframe tbody tr th:only-of-type {\n",
              "        vertical-align: middle;\n",
              "    }\n",
              "\n",
              "    .dataframe tbody tr th {\n",
              "        vertical-align: top;\n",
              "    }\n",
              "\n",
              "    .dataframe thead th {\n",
              "        text-align: right;\n",
              "    }\n",
              "</style>\n",
              "<table border=\"1\" class=\"dataframe\">\n",
              "  <thead>\n",
              "    <tr style=\"text-align: right;\">\n",
              "      <th></th>\n",
              "      <th>rank</th>\n",
              "      <th>country</th>\n",
              "      <th>total_points</th>\n",
              "      <th>previous_points</th>\n",
              "      <th>rank_change</th>\n",
              "      <th>cur_year_avg</th>\n",
              "      <th>confederation</th>\n",
              "      <th>date</th>\n",
              "      <th>home_team</th>\n",
              "      <th>away_team</th>\n",
              "      <th>home_score</th>\n",
              "      <th>away_score</th>\n",
              "      <th>tournament</th>\n",
              "      <th>city</th>\n",
              "      <th>total_scores</th>\n",
              "    </tr>\n",
              "  </thead>\n",
              "  <tbody>\n",
              "    <tr>\n",
              "      <th>0</th>\n",
              "      <td>0</td>\n",
              "      <td>75</td>\n",
              "      <td>0</td>\n",
              "      <td>57</td>\n",
              "      <td>53</td>\n",
              "      <td>0</td>\n",
              "      <td>5</td>\n",
              "      <td>222</td>\n",
              "      <td>103</td>\n",
              "      <td>253</td>\n",
              "      <td>1</td>\n",
              "      <td>0</td>\n",
              "      <td>53</td>\n",
              "      <td>715</td>\n",
              "      <td>1</td>\n",
              "    </tr>\n",
              "    <tr>\n",
              "      <th>1</th>\n",
              "      <td>0</td>\n",
              "      <td>75</td>\n",
              "      <td>0</td>\n",
              "      <td>57</td>\n",
              "      <td>53</td>\n",
              "      <td>0</td>\n",
              "      <td>5</td>\n",
              "      <td>245</td>\n",
              "      <td>103</td>\n",
              "      <td>27</td>\n",
              "      <td>0</td>\n",
              "      <td>3</td>\n",
              "      <td>53</td>\n",
              "      <td>453</td>\n",
              "      <td>3</td>\n",
              "    </tr>\n",
              "    <tr>\n",
              "      <th>2</th>\n",
              "      <td>0</td>\n",
              "      <td>75</td>\n",
              "      <td>0</td>\n",
              "      <td>57</td>\n",
              "      <td>53</td>\n",
              "      <td>0</td>\n",
              "      <td>5</td>\n",
              "      <td>253</td>\n",
              "      <td>103</td>\n",
              "      <td>180</td>\n",
              "      <td>1</td>\n",
              "      <td>2</td>\n",
              "      <td>53</td>\n",
              "      <td>753</td>\n",
              "      <td>3</td>\n",
              "    </tr>\n",
              "  </tbody>\n",
              "</table>\n",
              "</div>\n",
              "      <button class=\"colab-df-convert\" onclick=\"convertToInteractive('df-8661eece-a620-4d82-887e-50604f5cbafb')\"\n",
              "              title=\"Convert this dataframe to an interactive table.\"\n",
              "              style=\"display:none;\">\n",
              "        \n",
              "  <svg xmlns=\"http://www.w3.org/2000/svg\" height=\"24px\"viewBox=\"0 0 24 24\"\n",
              "       width=\"24px\">\n",
              "    <path d=\"M0 0h24v24H0V0z\" fill=\"none\"/>\n",
              "    <path d=\"M18.56 5.44l.94 2.06.94-2.06 2.06-.94-2.06-.94-.94-2.06-.94 2.06-2.06.94zm-11 1L8.5 8.5l.94-2.06 2.06-.94-2.06-.94L8.5 2.5l-.94 2.06-2.06.94zm10 10l.94 2.06.94-2.06 2.06-.94-2.06-.94-.94-2.06-.94 2.06-2.06.94z\"/><path d=\"M17.41 7.96l-1.37-1.37c-.4-.4-.92-.59-1.43-.59-.52 0-1.04.2-1.43.59L10.3 9.45l-7.72 7.72c-.78.78-.78 2.05 0 2.83L4 21.41c.39.39.9.59 1.41.59.51 0 1.02-.2 1.41-.59l7.78-7.78 2.81-2.81c.8-.78.8-2.07 0-2.86zM5.41 20L4 18.59l7.72-7.72 1.47 1.35L5.41 20z\"/>\n",
              "  </svg>\n",
              "      </button>\n",
              "      \n",
              "  <style>\n",
              "    .colab-df-container {\n",
              "      display:flex;\n",
              "      flex-wrap:wrap;\n",
              "      gap: 12px;\n",
              "    }\n",
              "\n",
              "    .colab-df-convert {\n",
              "      background-color: #E8F0FE;\n",
              "      border: none;\n",
              "      border-radius: 50%;\n",
              "      cursor: pointer;\n",
              "      display: none;\n",
              "      fill: #1967D2;\n",
              "      height: 32px;\n",
              "      padding: 0 0 0 0;\n",
              "      width: 32px;\n",
              "    }\n",
              "\n",
              "    .colab-df-convert:hover {\n",
              "      background-color: #E2EBFA;\n",
              "      box-shadow: 0px 1px 2px rgba(60, 64, 67, 0.3), 0px 1px 3px 1px rgba(60, 64, 67, 0.15);\n",
              "      fill: #174EA6;\n",
              "    }\n",
              "\n",
              "    [theme=dark] .colab-df-convert {\n",
              "      background-color: #3B4455;\n",
              "      fill: #D2E3FC;\n",
              "    }\n",
              "\n",
              "    [theme=dark] .colab-df-convert:hover {\n",
              "      background-color: #434B5C;\n",
              "      box-shadow: 0px 1px 3px 1px rgba(0, 0, 0, 0.15);\n",
              "      filter: drop-shadow(0px 1px 2px rgba(0, 0, 0, 0.3));\n",
              "      fill: #FFFFFF;\n",
              "    }\n",
              "  </style>\n",
              "\n",
              "      <script>\n",
              "        const buttonEl =\n",
              "          document.querySelector('#df-8661eece-a620-4d82-887e-50604f5cbafb button.colab-df-convert');\n",
              "        buttonEl.style.display =\n",
              "          google.colab.kernel.accessAllowed ? 'block' : 'none';\n",
              "\n",
              "        async function convertToInteractive(key) {\n",
              "          const element = document.querySelector('#df-8661eece-a620-4d82-887e-50604f5cbafb');\n",
              "          const dataTable =\n",
              "            await google.colab.kernel.invokeFunction('convertToInteractive',\n",
              "                                                     [key], {});\n",
              "          if (!dataTable) return;\n",
              "\n",
              "          const docLinkHtml = 'Like what you see? Visit the ' +\n",
              "            '<a target=\"_blank\" href=https://colab.research.google.com/notebooks/data_table.ipynb>data table notebook</a>'\n",
              "            + ' to learn more about interactive tables.';\n",
              "          element.innerHTML = '';\n",
              "          dataTable['output_type'] = 'display_data';\n",
              "          await google.colab.output.renderOutput(dataTable, element);\n",
              "          const docLink = document.createElement('div');\n",
              "          docLink.innerHTML = docLinkHtml;\n",
              "          element.appendChild(docLink);\n",
              "        }\n",
              "      </script>\n",
              "    </div>\n",
              "  </div>\n",
              "  "
            ],
            "text/plain": [
              "   rank  country  total_points  ...  tournament  city  total_scores\n",
              "0     0       75             0  ...          53   715             1\n",
              "1     0       75             0  ...          53   453             3\n",
              "2     0       75             0  ...          53   753             3\n",
              "\n",
              "[3 rows x 15 columns]"
            ]
          },
          "metadata": {},
          "execution_count": 15
        }
      ]
    },
    {
      "cell_type": "code",
      "source": [
        "# Performing Data Preprocessing using the home score\n",
        "# ---\n",
        "# \n",
        "X = prediction_dff.iloc[:, 0:11].values\n",
        "y = prediction_dff.iloc[:, 11].values"
      ],
      "metadata": {
        "id": "oUtUfiwsgiIG"
      },
      "execution_count": 16,
      "outputs": []
    },
    {
      "cell_type": "code",
      "source": [
        "# Performing Data Preprocessing\n",
        "# ---\n",
        "# \n",
        "from sklearn.model_selection import train_test_split\n",
        "X_train, X_test, y_train, y_test = train_test_split(X, y)"
      ],
      "metadata": {
        "id": "ZUB2kV5cq5qo"
      },
      "execution_count": 17,
      "outputs": []
    },
    {
      "cell_type": "code",
      "source": [
        "# Scaling our Data\n",
        "# ---\n",
        "# \n",
        "from sklearn.preprocessing import StandardScaler\n",
        "feature_scaler = StandardScaler()\n",
        "X_train = feature_scaler.fit_transform(X_train)\n",
        "X_test = feature_scaler.transform(X_test)"
      ],
      "metadata": {
        "id": "kIIKTSPgrBRz"
      },
      "execution_count": 18,
      "outputs": []
    },
    {
      "cell_type": "code",
      "source": [
        "# Training and Cross Validation\n",
        "# ---\n",
        "# \n",
        "from sklearn.ensemble import RandomForestClassifier\n",
        "classifier = RandomForestClassifier(n_estimators=300, random_state=0)"
      ],
      "metadata": {
        "id": "i1NX18qTrKRt"
      },
      "execution_count": 19,
      "outputs": []
    },
    {
      "cell_type": "code",
      "source": [
        " #Training and validation\n",
        "from sklearn.model_selection import cross_val_score\n",
        "all_accuracies = cross_val_score(estimator=classifier, X=X_train, y=y_train, cv=5)"
      ],
      "metadata": {
        "id": "BUcEerROrLVW"
      },
      "execution_count": null,
      "outputs": []
    },
    {
      "cell_type": "code",
      "source": [
        "#printing the accuracies generated from the 5 folds\n",
        "print(all_accuracies.mean())"
      ],
      "metadata": {
        "id": "OiYHhenv5Eez"
      },
      "execution_count": null,
      "outputs": []
    },
    {
      "cell_type": "code",
      "source": [
        "#Grid search\n",
        "grid_param = {\n",
        "    'n_estimators': [100, 300, 500, 800, 1000],\n",
        "    'criterion': ['gini', 'entropy'],\n",
        "    'bootstrap': [True, False]"
      ],
      "metadata": {
        "id": "NDxMFjeIrlmS"
      },
      "execution_count": null,
      "outputs": []
    },
    {
      "cell_type": "code",
      "source": [
        "#Instantiating GridSearchCV object\n",
        "from sklearn.model_selection import GridSearchCV\n",
        "gd_sr = GridSearchCV(estimator=classifier,\n",
        "                     param_grid=grid_param,\n",
        "                     scoring='accuracy',\n",
        "                     cv=5,\n",
        "                     n_jobs=-1)"
      ],
      "metadata": {
        "id": "iWY00yND5OYE"
      },
      "execution_count": null,
      "outputs": []
    },
    {
      "cell_type": "code",
      "source": [
        "#Calling in the fit method\n",
        "gd_sr.fit(X_train, y_train)"
      ],
      "metadata": {
        "id": "1QJ8Lrcjr-c2"
      },
      "execution_count": null,
      "outputs": []
    },
    {
      "cell_type": "code",
      "source": [
        "#Checking the parameters that return the highest accuracy\n",
        "best_parameters = gd_sr.best_params_\n",
        "print(best_parameters)"
      ],
      "metadata": {
        "id": "OmNn27vSsH4E"
      },
      "execution_count": null,
      "outputs": []
    },
    {
      "cell_type": "code",
      "source": [
        "#finding the obtained accuracy\n",
        "best_result = gd_sr.best_score_\n",
        "print(best_result)"
      ],
      "metadata": {
        "id": "g_cXzwxFsUpm"
      },
      "execution_count": null,
      "outputs": []
    },
    {
      "cell_type": "markdown",
      "source": [
        "We now fit the Logistic parameters"
      ],
      "metadata": {
        "id": "PkzcNXEut6ZY"
      }
    },
    {
      "cell_type": "code",
      "source": [
        "# Splitting our dataset\n",
        "#\n",
        "X = df.drop(\"species\",axis=1)\n",
        "y = df[\"species\"]\n",
        "\n",
        "from sklearn.model_selection import train_test_split\n",
        "X_train, X_test, y_train, y_test = train_test_split(X, y, test_size = .3, random_state=25)"
      ],
      "metadata": {
        "id": "1T6KGJLpua6I"
      },
      "execution_count": null,
      "outputs": []
    },
    {
      "cell_type": "code",
      "source": [
        "# Fitting our model\n",
        "# \n",
        "from sklearn.linear_model import LogisticRegression\n",
        "\n",
        "LogReg = LogisticRegression()\n",
        "LogReg.fit(X_train, y_train)"
      ],
      "metadata": {
        "id": "DUQs68BAuc7C"
      },
      "execution_count": null,
      "outputs": []
    },
    {
      "cell_type": "code",
      "source": [
        "# Using our model to make a prediction\n",
        "#\n",
        "y_pred = LogReg.predict(X_test)"
      ],
      "metadata": {
        "id": "HH9Bxm2cug3t"
      },
      "execution_count": null,
      "outputs": []
    },
    {
      "cell_type": "code",
      "source": [
        "# Evaluating the model\n",
        "#\n",
        "from sklearn.metrics import confusion_matrix\n",
        "confusion_matrix = confusion_matrix(y_test, y_pred)\n",
        "confusion_matrix\n"
      ],
      "metadata": {
        "id": "4eQqh1zoumh5"
      },
      "execution_count": null,
      "outputs": []
    }
  ]
}